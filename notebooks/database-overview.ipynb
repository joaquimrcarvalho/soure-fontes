{
 "metadata": {
  "language_info": {
   "codemirror_mode": {
    "name": "ipython",
    "version": 3
   },
   "file_extension": ".py",
   "mimetype": "text/x-python",
   "name": "python",
   "nbconvert_exporter": "python",
   "pygments_lexer": "ipython3",
   "version": "3.9.6"
  },
  "orig_nbformat": 2,
  "kernelspec": {
   "name": "python3",
   "display_name": "Python 3.9.6 64-bit ('3.9.6': pyenv)"
  },
  "metadata": {
   "interpreter": {
    "hash": "7eb78c199a872a9864157d40ba1a3a21c75b2dca99a04068f89256c905325ae7"
   }
  },
  "interpreter": {
   "hash": "eccdb9e0d1076d97dd03d38e0c799e4ede37b46f5ca498b94e73a7a440e62036"
  }
 },
 "nbformat": 4,
 "nbformat_minor": 2,
 "cells": [
  {
   "cell_type": "markdown",
   "source": [
    "# Database overview notebook"
   ],
   "metadata": {}
  },
  {
   "cell_type": "markdown",
   "source": [
    "> First time use: follow instructions in the README.md file in this directory."
   ],
   "metadata": {}
  },
  {
   "cell_type": "markdown",
   "source": [
    "## Setup"
   ],
   "metadata": {}
  },
  {
   "cell_type": "code",
   "execution_count": 15,
   "source": [
    "import os\n",
    "from timelink.mhk.utilities import get_engine,get_connection_string, get_dbnames\n",
    "import ipywidgets as widgets "
   ],
   "outputs": [],
   "metadata": {}
  },
  {
   "cell_type": "code",
   "execution_count": 16,
   "source": [
    "%load_ext sql"
   ],
   "outputs": [
    {
     "output_type": "stream",
     "name": "stdout",
     "text": [
      "The sql extension is already loaded. To reload it, use:\n",
      "  %reload_ext sql\n"
     ]
    }
   ],
   "metadata": {}
  },
  {
   "cell_type": "markdown",
   "source": [
    "## Connect to database"
   ],
   "metadata": {}
  },
  {
   "cell_type": "markdown",
   "source": [
    "### Choose the database"
   ],
   "metadata": {}
  },
  {
   "cell_type": "code",
   "execution_count": 18,
   "source": [
    "\n",
    "dblist = get_dbnames()\n",
    "w = widgets.Select(\n",
    "    options=dblist,\n",
    "    description='Database:',\n",
    "    disabled=False,\n",
    ")\n",
    "display(w)\n",
    "\n",
    "\n"
   ],
   "outputs": [
    {
     "output_type": "display_data",
     "data": {
      "text/plain": [
       "Select(description='Database:', options=('soure_ipm', 'ucprosop'), value='soure_ipm')"
      ],
      "application/vnd.jupyter.widget-view+json": {
       "version_major": 2,
       "version_minor": 0,
       "model_id": "98a7cd52dc104ac7af11e9a88bfbf390"
      }
     },
     "metadata": {}
    }
   ],
   "metadata": {}
  },
  {
   "cell_type": "code",
   "execution_count": 20,
   "source": [
    "db = w.value\n",
    "w.close()\n",
    "connection_string = get_connection_string(db)\n",
    "%sql $connection_string\n",
    "print(\"Selected database: {db} \".format(db=db))"
   ],
   "outputs": [
    {
     "output_type": "stream",
     "name": "stderr",
     "text": [
      "Exception during reset or similar\n",
      "Traceback (most recent call last):\n",
      "  File \"/Users/jrc/.pyenv/versions/3.9.6/lib/python3.9/site-packages/sqlalchemy/pool/base.py\", line 682, in _finalize_fairy\n",
      "    fairy._reset(pool)\n",
      "  File \"/Users/jrc/.pyenv/versions/3.9.6/lib/python3.9/site-packages/sqlalchemy/pool/base.py\", line 887, in _reset\n",
      "    pool._dialect.do_rollback(self)\n",
      "  File \"/Users/jrc/.pyenv/versions/3.9.6/lib/python3.9/site-packages/sqlalchemy/engine/default.py\", line 667, in do_rollback\n",
      "    dbapi_connection.rollback()\n",
      "  File \"/Users/jrc/.pyenv/versions/3.9.6/lib/python3.9/site-packages/mysql/connector/connection_cext.py\", line 412, in rollback\n",
      "    self._cmysql.rollback()\n",
      "_mysql_connector.MySQLInterfaceError: Lost connection to MySQL server during query\n"
     ]
    },
    {
     "output_type": "stream",
     "name": "stdout",
     "text": [
      "Selected database: soure_ipm \n"
     ]
    }
   ],
   "metadata": {}
  },
  {
   "cell_type": "code",
   "execution_count": 21,
   "source": [
    "%config SqlMagic.displaycon=False"
   ],
   "outputs": [],
   "metadata": {}
  },
  {
   "cell_type": "markdown",
   "source": [
    "## Database status"
   ],
   "metadata": {}
  },
  {
   "cell_type": "code",
   "execution_count": 22,
   "source": [
    "%sql select class, count(*) from entities group by class"
   ],
   "outputs": [
    {
     "output_type": "stream",
     "name": "stdout",
     "text": [
      "21 rows affected.\n"
     ]
    },
    {
     "output_type": "execute_result",
     "data": {
      "text/plain": [
       "[('act', 10844),\n",
       " ('acta', 97),\n",
       " ('acusacoes', 315),\n",
       " ('aforamento', 2),\n",
       " ('aregister', 5),\n",
       " ('attribute', 65441),\n",
       " ('cartaperdao', 2),\n",
       " ('caso', 40),\n",
       " ('class', 27),\n",
       " ('crime', 1),\n",
       " ('divida', 3),\n",
       " ('escritura', 243),\n",
       " ('geoentity', 9),\n",
       " ('good', 6),\n",
       " ('group_element', 10870),\n",
       " ('item', 92),\n",
       " ('object', 2),\n",
       " ('person', 51438),\n",
       " ('relation', 86656),\n",
       " ('rperson', 1051),\n",
       " ('source', 184)]"
      ],
      "text/html": [
       "<table>\n",
       "    <tr>\n",
       "        <th>class</th>\n",
       "        <th>count(*)</th>\n",
       "    </tr>\n",
       "    <tr>\n",
       "        <td>act</td>\n",
       "        <td>10844</td>\n",
       "    </tr>\n",
       "    <tr>\n",
       "        <td>acta</td>\n",
       "        <td>97</td>\n",
       "    </tr>\n",
       "    <tr>\n",
       "        <td>acusacoes</td>\n",
       "        <td>315</td>\n",
       "    </tr>\n",
       "    <tr>\n",
       "        <td>aforamento</td>\n",
       "        <td>2</td>\n",
       "    </tr>\n",
       "    <tr>\n",
       "        <td>aregister</td>\n",
       "        <td>5</td>\n",
       "    </tr>\n",
       "    <tr>\n",
       "        <td>attribute</td>\n",
       "        <td>65441</td>\n",
       "    </tr>\n",
       "    <tr>\n",
       "        <td>cartaperdao</td>\n",
       "        <td>2</td>\n",
       "    </tr>\n",
       "    <tr>\n",
       "        <td>caso</td>\n",
       "        <td>40</td>\n",
       "    </tr>\n",
       "    <tr>\n",
       "        <td>class</td>\n",
       "        <td>27</td>\n",
       "    </tr>\n",
       "    <tr>\n",
       "        <td>crime</td>\n",
       "        <td>1</td>\n",
       "    </tr>\n",
       "    <tr>\n",
       "        <td>divida</td>\n",
       "        <td>3</td>\n",
       "    </tr>\n",
       "    <tr>\n",
       "        <td>escritura</td>\n",
       "        <td>243</td>\n",
       "    </tr>\n",
       "    <tr>\n",
       "        <td>geoentity</td>\n",
       "        <td>9</td>\n",
       "    </tr>\n",
       "    <tr>\n",
       "        <td>good</td>\n",
       "        <td>6</td>\n",
       "    </tr>\n",
       "    <tr>\n",
       "        <td>group_element</td>\n",
       "        <td>10870</td>\n",
       "    </tr>\n",
       "    <tr>\n",
       "        <td>item</td>\n",
       "        <td>92</td>\n",
       "    </tr>\n",
       "    <tr>\n",
       "        <td>object</td>\n",
       "        <td>2</td>\n",
       "    </tr>\n",
       "    <tr>\n",
       "        <td>person</td>\n",
       "        <td>51438</td>\n",
       "    </tr>\n",
       "    <tr>\n",
       "        <td>relation</td>\n",
       "        <td>86656</td>\n",
       "    </tr>\n",
       "    <tr>\n",
       "        <td>rperson</td>\n",
       "        <td>1051</td>\n",
       "    </tr>\n",
       "    <tr>\n",
       "        <td>source</td>\n",
       "        <td>184</td>\n",
       "    </tr>\n",
       "</table>"
      ]
     },
     "metadata": {},
     "execution_count": 22
    }
   ],
   "metadata": {}
  },
  {
   "cell_type": "markdown",
   "source": [
    "## Recent sources"
   ],
   "metadata": {}
  },
  {
   "cell_type": "code",
   "execution_count": 8,
   "source": [
    "%sql select sources.id, sources.kleiofile, entities.updated from sources left join entities on (sources.id=entities.id) order by updated desc limit 10"
   ],
   "outputs": [
    {
     "output_type": "stream",
     "name": "stdout",
     "text": [
      "10 rows affected.\n"
     ]
    },
    {
     "output_type": "execute_result",
     "data": {
      "text/plain": [
       "[('baptizados 1725', '/kleio-home/sources/soure-fontes/sources/1720-1732/bap1725.cli', datetime.datetime(2021, 8, 19, 10, 42, 7)),\n",
       " ('baptizados 1724', '/kleio-home/sources/soure-fontes/sources/1720-1732/bap1724.cli', datetime.datetime(2021, 8, 19, 10, 41, 35)),\n",
       " ('baptizados 1723', '/kleio-home/sources/soure-fontes/sources/1720-1732/bap1723.cli', datetime.datetime(2021, 8, 19, 10, 41, 1)),\n",
       " ('baptizados 1722', '/kleio-home/sources/soure-fontes/sources/1720-1732/bap1722.cli', datetime.datetime(2021, 8, 19, 10, 40, 24)),\n",
       " ('baptizados 1721', '/kleio-home/sources/soure-fontes/sources/1720-1732/bap1721.cli', datetime.datetime(2021, 8, 19, 10, 39, 44)),\n",
       " ('baptizados 1720-removed', '/Users/jrc/mhk-home/sources/soure-fontes/sources/1720-1732/bap1720.cli', datetime.datetime(2021, 8, 19, 10, 39, 40)),\n",
       " ('ap-soure-coimbra-bispcoimbra', '/Users/jrc/mhk-home/sources/soure-fontes/sources/soure_fase1/varia/sourecoimbrabispcoimbra_apontamentosd.cli', datetime.datetime(2021, 8, 19, 10, 39, 36)),\n",
       " ('ap-soure', '/Users/jrc/mhk-home/sources/soure-fontes/sources/soure_fase1/varia/soure_apontamentosd.cli', datetime.datetime(2021, 8, 19, 10, 39, 31)),\n",
       " ('f-po115', '/Users/jrc/mhk-home/sources/soure-fontes/sources/1685-1720/ordenacoes/po115.cli', datetime.datetime(2021, 8, 19, 10, 39, 27)),\n",
       " ('proc_ord_1', '/kleio-home/sources/soure-fontes/sources/1685-1720/ordenacoes/po01.cli', datetime.datetime(2021, 8, 19, 10, 37, 41))]"
      ],
      "text/html": [
       "<table>\n",
       "    <tr>\n",
       "        <th>id</th>\n",
       "        <th>kleiofile</th>\n",
       "        <th>updated</th>\n",
       "    </tr>\n",
       "    <tr>\n",
       "        <td>baptizados 1725</td>\n",
       "        <td>/kleio-home/sources/soure-fontes/sources/1720-1732/bap1725.cli</td>\n",
       "        <td>2021-08-19 10:42:07</td>\n",
       "    </tr>\n",
       "    <tr>\n",
       "        <td>baptizados 1724</td>\n",
       "        <td>/kleio-home/sources/soure-fontes/sources/1720-1732/bap1724.cli</td>\n",
       "        <td>2021-08-19 10:41:35</td>\n",
       "    </tr>\n",
       "    <tr>\n",
       "        <td>baptizados 1723</td>\n",
       "        <td>/kleio-home/sources/soure-fontes/sources/1720-1732/bap1723.cli</td>\n",
       "        <td>2021-08-19 10:41:01</td>\n",
       "    </tr>\n",
       "    <tr>\n",
       "        <td>baptizados 1722</td>\n",
       "        <td>/kleio-home/sources/soure-fontes/sources/1720-1732/bap1722.cli</td>\n",
       "        <td>2021-08-19 10:40:24</td>\n",
       "    </tr>\n",
       "    <tr>\n",
       "        <td>baptizados 1721</td>\n",
       "        <td>/kleio-home/sources/soure-fontes/sources/1720-1732/bap1721.cli</td>\n",
       "        <td>2021-08-19 10:39:44</td>\n",
       "    </tr>\n",
       "    <tr>\n",
       "        <td>baptizados 1720-removed</td>\n",
       "        <td>/Users/jrc/mhk-home/sources/soure-fontes/sources/1720-1732/bap1720.cli</td>\n",
       "        <td>2021-08-19 10:39:40</td>\n",
       "    </tr>\n",
       "    <tr>\n",
       "        <td>ap-soure-coimbra-bispcoimbra</td>\n",
       "        <td>/Users/jrc/mhk-home/sources/soure-fontes/sources/soure_fase1/varia/sourecoimbrabispcoimbra_apontamentosd.cli</td>\n",
       "        <td>2021-08-19 10:39:36</td>\n",
       "    </tr>\n",
       "    <tr>\n",
       "        <td>ap-soure</td>\n",
       "        <td>/Users/jrc/mhk-home/sources/soure-fontes/sources/soure_fase1/varia/soure_apontamentosd.cli</td>\n",
       "        <td>2021-08-19 10:39:31</td>\n",
       "    </tr>\n",
       "    <tr>\n",
       "        <td>f-po115</td>\n",
       "        <td>/Users/jrc/mhk-home/sources/soure-fontes/sources/1685-1720/ordenacoes/po115.cli</td>\n",
       "        <td>2021-08-19 10:39:27</td>\n",
       "    </tr>\n",
       "    <tr>\n",
       "        <td>proc_ord_1</td>\n",
       "        <td>/kleio-home/sources/soure-fontes/sources/1685-1720/ordenacoes/po01.cli</td>\n",
       "        <td>2021-08-19 10:37:41</td>\n",
       "    </tr>\n",
       "</table>"
      ]
     },
     "metadata": {},
     "execution_count": 8
    }
   ],
   "metadata": {}
  },
  {
   "cell_type": "code",
   "execution_count": null,
   "source": [],
   "outputs": [],
   "metadata": {}
  }
 ]
}