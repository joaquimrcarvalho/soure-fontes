{
 "cells": [
  {
   "cell_type": "markdown",
   "metadata": {},
   "source": [
    "# Database overview notebook"
   ]
  },
  {
   "cell_type": "markdown",
   "metadata": {},
   "source": [
    "> First time use: follow instructions in the README.md file in this directory."
   ]
  },
  {
   "cell_type": "markdown",
   "metadata": {},
   "source": [
    "## Setup"
   ]
  },
  {
   "cell_type": "code",
   "execution_count": 16,
   "metadata": {},
   "outputs": [
    {
     "name": "stdout",
     "output_type": "stream",
     "text": [
      "Available databases:\n",
      "['alunos', 'angelica', 'api_tests', 'china', 'china_coimbra', 'dyncoopnet', 'eiras', 'familias', 'glopes', 'ilhavo', 'ilhavo2', 'ilhavo_contrib', 'ilhavo_editor', 'ilhavo_server', 'ilhavo_testes', 'lousa', 'lousa3', 'lousa4', 'mhk', 'notaveis', 'obidos', 'oguest', 'rhv', 'santaclara', 'santajusta', 'sister', 'soure', 'soure_edit', 'soure_editor', 'soure_mfg', 'soure_public', 'soure_server', 'testes', 'toliveira', 'toliveira_reviewed', 'ucprosop']\n"
     ]
    }
   ],
   "source": [
    "from timelink.mhk.utilities import get_engine, get_dbnames, get_connection_string\n",
    "from sqlalchemy import engine, text, MetaData\n",
    "print('Available databases:')\n",
    "print(get_dbnames())\n",
    "#%load_ext sql\n",
    "#%config SqlMagic.displaycon=False"
   ]
  },
  {
   "cell_type": "markdown",
   "metadata": {},
   "source": [
    "## Connect to database"
   ]
  },
  {
   "cell_type": "markdown",
   "metadata": {},
   "source": [
    "### Choose the database"
   ]
  },
  {
   "cell_type": "code",
   "execution_count": 17,
   "metadata": {},
   "outputs": [],
   "source": [
    "db = 'soure'\n",
    "connection_string = get_connection_string(db)\n",
    "engine = get_engine(db)"
   ]
  },
  {
   "cell_type": "markdown",
   "metadata": {},
   "source": [
    "## Database status"
   ]
  },
  {
   "cell_type": "code",
   "execution_count": 18,
   "metadata": {},
   "outputs": [
    {
     "name": "stdout",
     "output_type": "stream",
     "text": [
      "act 9123\n",
      "acta 83\n",
      "attribute 50335\n",
      "class 18\n",
      "geoentity 1783\n",
      "group_element 10678\n",
      "item 5\n",
      "object 2\n",
      "person 41951\n",
      "relation 122623\n",
      "rperson 442\n",
      "source 158\n"
     ]
    }
   ],
   "source": [
    "with engine.connect() as connection:\n",
    "    classes = connection.execute(\n",
    "        text('select class,count(*) as n from entities group by class')\n",
    "    )\n",
    "    classes\n",
    "for c in classes:\n",
    "    print(c['class'],c.n)"
   ]
  },
  {
   "cell_type": "markdown",
   "metadata": {},
   "source": [
    "## Map MHK database"
   ]
  },
  {
   "cell_type": "code",
   "execution_count": 19,
   "metadata": {},
   "outputs": [],
   "source": [
    "from sqlalchemy import Column,String,Integer,DateTime, ForeignKey\n",
    "from sqlalchemy.orm import declarative_base, relationship\n",
    "\n",
    "Base = declarative_base()\n"
   ]
  },
  {
   "cell_type": "markdown",
   "metadata": {},
   "source": [
    "## Entities\n",
    "     \n",
    "        |-----------|--------------|------|-----|---------------------+-----------------------------+\n",
    "        | Field     | Type         | Null | Key | Default             | Extra                       |\n",
    "        +-----------+--------------+------+-----+---------------------+-----------------------------+\n",
    "        | id        | varchar(64)  | NO   | PRI | NULL                |                             |\n",
    "        | class     | varchar(64)  | YES  | MUL | NULL                |                             |\n",
    "        | inside    | varchar(64)  | YES  | MUL | NULL                |                             |\n",
    "        | the_order | decimal(6,0) | YES  |     | NULL                |                             |\n",
    "        | the_level | decimal(6,0) | YES  |     | NULL                |                             |\n",
    "        | the_line  | decimal(6,0) | YES  |     | NULL                |                             |\n",
    "        | groupname | varchar(32)  | YES  | MUL | NULL                |                             |\n",
    "        | updated   | timestamp    | NO   | MUL | CURRENT_TIMESTAMP   | on update CURRENT_TIMESTAMP |\n",
    "        | indexed   | timestamp    | NO   | MUL | 1974-04-25 00:00:01 |                             |\n",
    "        +-----------+--------------+------+-----+---------------------+-----------------------------+"
   ]
  },
  {
   "cell_type": "markdown",
   "metadata": {},
   "source": []
  },
  {
   "cell_type": "code",
   "execution_count": 20,
   "metadata": {},
   "outputs": [],
   "source": [
    "\n",
    "class Entity(Base):\n",
    "    __tablename__ = 'entities'\n",
    "\n",
    "    id = Column(String, primary_key=True)\n",
    "    pom_class = Column('class',String)\n",
    "    inside = Column(String)\n",
    "    the_order = Column(Integer)\n",
    "    the_level = Column(Integer)\n",
    "    the_line = Column(Integer)\n",
    "    groupname = Column(String)\n",
    "    updated = Column(DateTime)\n",
    "    indexed = Column(DateTime)\n",
    "\n",
    "    # see https://docs.sqlalchemy.org/en/14/orm/inheritance.html\n",
    "    __mapper_args__ = {\n",
    "        'polymorphic_identity': 'entity',\n",
    "        'polymorphic_on':pom_class\n",
    "    }\n",
    "\n",
    "    # untested\n",
    "    @classmethod  # untested\n",
    "    def get_subclasses(cls):\n",
    "        for subclass in cls.__subclasses__():\n",
    "            yield from subclass.get_subclasses()\n",
    "            yield subclass\n",
    "        \n",
    "    def __repr__(self):\n",
    "        return f'{self.groupname}${self.id}/type={self.pom_class}'\n"
   ]
  },
  {
   "cell_type": "markdown",
   "metadata": {},
   "source": [
    "## Attributes\n",
    "    +-----------+----------------+------+-----+---------+-------+\n",
    "    | Field     | Type           | Null | Key | Default | Extra |\n",
    "    +-----------+----------------+------+-----+---------+-------+\n",
    "    | id        | varchar(64)    | NO   | PRI | NULL    |       |\n",
    "    | entity    | varchar(64)    | YES  | MUL | NULL    |       |\n",
    "    | the_type  | varchar(512)   | YES  | MUL | NULL    |       |\n",
    "    | the_value | varchar(1024)  | YES  | MUL | NULL    |       |\n",
    "    | the_date  | varchar(24)    | YES  | MUL | NULL    |       |\n",
    "    | obs       | varchar(16000) | YES  |     | NULL    |       |\n",
    "    +-----------+----------------+------+-----+---------+-------+"
   ]
  },
  {
   "cell_type": "code",
   "execution_count": 21,
   "metadata": {},
   "outputs": [
    {
     "name": "stderr",
     "output_type": "stream",
     "text": [
      "/var/folders/sx/x6pyh9097n98mlz29_6njdj00000gn/T/ipykernel_76170/2845532560.py:1: SAWarning: Implicitly combining column entities.id with column attributes.id under attribute 'id'.  Please configure one or more attributes for these same-named columns explicitly.\n",
      "  class Attribute(Entity):\n"
     ]
    }
   ],
   "source": [
    "\n",
    "class Attribute(Entity):\n",
    "    __tablename__ = 'attributes'\n",
    "\n",
    "    id = Column(String, primary_key=True)\n",
    "    entity = Column(String,ForeignKey('entities.id'))\n",
    "    the_type = Column(String)\n",
    "    the_value = Column(String)\n",
    "    the_date = Column(String)\n",
    "    obs = Column(String)\n",
    "\n",
    "    the_entity = relationship(\"Entity\", back_populates=\"attributes\",)\n",
    "\n",
    "    __mapper_args__ = {\n",
    "        'polymorphic_identity':'attribute'\n",
    "    }\n",
    "\n",
    "    def __repr__(self):\n",
    "        r = f'     ls${self.the_type}/{self.the_value}/{self.the_date}'\n",
    "        if self.obs is not None:\n",
    "                r = (f'{r}/obs={self.obs}')\n",
    "        return r\n",
    "\n",
    "\n",
    "Entity.attributes = relationship(\"Attribute\", back_populates=\"the_entity\")\n"
   ]
  },
  {
   "cell_type": "markdown",
   "metadata": {},
   "source": [
    "## Relations   \n",
    "    +-------------+----------------+------+-----+---------+-------+\n",
    "    | Field       | Type           | Null | Key | Default | Extra |\n",
    "    +-------------+----------------+------+-----+---------+-------+\n",
    "    | id          | varchar(64)    | NO   | PRI | NULL    |       |\n",
    "    | origin      | varchar(64)    | YES  | MUL | NULL    |       |\n",
    "    | destination | varchar(64)    | YES  | MUL | NULL    |       |\n",
    "    | the_date    | varchar(24)    | YES  | MUL | NULL    |       |\n",
    "    | the_type    | varchar(32)    | YES  | MUL | NULL    |       |\n",
    "    | the_value   | varchar(256)   | YES  | MUL | NULL    |       |\n",
    "    | obs         | varchar(16000) | YES  |     | NULL    |       |\n",
    "    +-------------+----------------+------+-----+---------+-------+"
   ]
  },
  {
   "cell_type": "code",
   "execution_count": 22,
   "metadata": {},
   "outputs": [],
   "source": [
    "\n",
    "class Relation(Base):  # should extend Entity but gives error\n",
    "    __tablename__ = 'relations'\n",
    "\n",
    "    id = Column(String, primary_key=True)\n",
    "    origin = Column(String,ForeignKey('entities.id'))\n",
    "    org = relationship(\"Entity\",foreign_keys=[origin], back_populates='rels_out')\n",
    "    destination = Column(String,ForeignKey('entities.id'))\n",
    "    dest = relationship(\"Entity\",foreign_keys=[destination], back_populates=\"rels_in\")\n",
    "    the_type = Column(String)\n",
    "    the_value = Column(String)\n",
    "    the_date = Column(String)\n",
    "    obs = Column(String)\n",
    "\n",
    "    __mapper_args__ = {\n",
    "        'polymorphic_identity':'relation'\n",
    "    }\n",
    "\n",
    "    def __repr__(self):\n",
    "        r = f'     rel${self.the_type}/{self.the_value}/{self.destination}/{self.the_date}'\n",
    "        if self.obs is not None:\n",
    "                r = (f'{r}/obs={self.obs}')\n",
    "        return r\n",
    "\n",
    "Entity.rels_out = relationship(\"Relation\",foreign_keys=[Relation.origin],back_populates=\"org\")\n",
    "Entity.rels_in = relationship(\"Relation\",foreign_keys=[Relation.destination],back_populates=\"dest\")\n"
   ]
  },
  {
   "cell_type": "markdown",
   "metadata": {},
   "source": [
    "## Persons    \n",
    "    +-------+----------------+------+-----+---------+-------+\n",
    "    | Field | Type           | Null | Key | Default | Extra |\n",
    "    +-------+----------------+------+-----+---------+-------+\n",
    "    | id    | varchar(64)    | NO   | PRI | NULL    |       |\n",
    "    | name  | varchar(128)   | YES  | MUL | NULL    |       |\n",
    "    | sex   | char(1)        | YES  |     | NULL    |       |\n",
    "    | obs   | varchar(16000) | YES  |     | NULL    |       |\n",
    "    +-------+----------------+------+-----+---------+-------+"
   ]
  },
  {
   "cell_type": "code",
   "execution_count": null,
   "metadata": {},
   "outputs": [],
   "source": [
    "class Person(Entity):\n",
    "    __tablename__ = 'persons'\n",
    "\n",
    "    id = Column(String, ForeignKey('entities.id'), primary_key=True)\n",
    "    name = Column(String)\n",
    "    sex = Column(String(1))\n",
    "    obs = Column(String)\n",
    "\n",
    "    __mapper_args__ = {\n",
    "        'polymorphic_identity':'person'\n",
    "    }"
   ]
  },
  {
   "cell_type": "markdown",
   "metadata": {},
   "source": [
    "## Objects\n",
    "\n",
    "    +----------+----------------+------+-----+---------+-------+\n",
    "    | Field    | Type           | Null | Key | Default | Extra |\n",
    "    +----------+----------------+------+-----+---------+-------+\n",
    "    | id       | varchar(64)    | NO   | PRI | NULL    |       |\n",
    "    | name     | varchar(64)    | YES  | MUL | NULL    |       |\n",
    "    | the_type | varchar(32)    | YES  |     | NULL    |       |\n",
    "    | obs      | varchar(16000) | YES  |     | NULL    |       |\n",
    "    +----------+----------------+------+-----+---------+-------+"
   ]
  },
  {
   "cell_type": "code",
   "execution_count": null,
   "metadata": {},
   "outputs": [],
   "source": [
    "class Object(Entity):\n",
    "    __tablename__ = 'objects'\n",
    "\n",
    "    id = Column(String, ForeignKey('entities.id'), primary_key=True)\n",
    "    name = Column(String)\n",
    "    the_type = Column(String(32))\n",
    "    obs = Column(String)\n",
    "\n",
    "    __mapper_args__ = {\n",
    "        'polymorphic_identity':'object'\n",
    "    }"
   ]
  },
  {
   "cell_type": "markdown",
   "metadata": {},
   "source": [
    "## Acts\n",
    "\n",
    "    +----------+----------------+------+-----+---------+-------+\n",
    "    | Field    | Type           | Null | Key | Default | Extra |\n",
    "    +----------+----------------+------+-----+---------+-------+\n",
    "    | id       | varchar(64)    | NO   | PRI | NULL    |       |\n",
    "    | the_type | varchar(32)    | YES  |     | NULL    |       |\n",
    "    | the_date | varchar(24)    | YES  | MUL | NULL    |       |\n",
    "    | loc      | varchar(64)    | YES  |     | NULL    |       |\n",
    "    | ref      | varchar(64)    | YES  |     | NULL    |       |\n",
    "    | obs      | varchar(16000) | YES  |     | NULL    |       |\n",
    "    +----------+----------------+------+-----+---------+-------+\n"
   ]
  },
  {
   "cell_type": "code",
   "execution_count": null,
   "metadata": {},
   "outputs": [
    {
     "name": "stderr",
     "output_type": "stream",
     "text": [
      "/var/folders/sx/x6pyh9097n98mlz29_6njdj00000gn/T/ipykernel_75810/670107530.py:1: SAWarning: Reassigning polymorphic association for identity 'object' from <Mapper at 0x10808e160; Object> to <Mapper at 0x107fa20a0; Act>: Check for duplicate use of 'object' as value for polymorphic_identity.\n",
      "  class Act(Entity):\n"
     ]
    }
   ],
   "source": [
    "class Act(Entity):\n",
    "    __tablename__ = 'acts'\n",
    "\n",
    "    id = Column(String, ForeignKey('entities.id'), primary_key=True)\n",
    "    name = Column(String)\n",
    "    the_type = Column(String(32))\n",
    "    obs = Column(String)\n",
    "\n",
    "    __mapper_args__ = {\n",
    "        'polymorphic_identity':'act'\n",
    "    }"
   ]
  },
  {
   "cell_type": "markdown",
   "metadata": {},
   "source": [
    "## Sources\n",
    "\n",
    "    +-----------+----------------+------+-----+---------+-------+\n",
    "    | Field     | Type           | Null | Key | Default | Extra |\n",
    "    +-----------+----------------+------+-----+---------+-------+\n",
    "    | id        | varchar(64)    | NO   | PRI | NULL    |       |\n",
    "    | the_type  | varchar(32)    | YES  |     | NULL    |       |\n",
    "    | the_date  | varchar(24)    | YES  |     | NULL    |       |\n",
    "    | loc       | varchar(64)    | YES  |     | NULL    |       |\n",
    "    | ref       | varchar(64)    | YES  |     | NULL    |       |\n",
    "    | kleiofile | varchar(1024)  | YES  |     | NULL    |       |\n",
    "    | replaces  | varchar(254)   | YES  |     | NULL    |       |\n",
    "    | obs       | varchar(16000) | YES  |     | NULL    |       |\n",
    "    +-----------+----------------+------+-----+---------+-------+"
   ]
  },
  {
   "cell_type": "markdown",
   "metadata": {},
   "source": [
    "## Classes\n",
    "\n",
    "    +------------+-------------+------+-----+---------+-------+\n",
    "    | Field      | Type        | Null | Key | Default | Extra |\n",
    "    +------------+-------------+------+-----+---------+-------+\n",
    "    | id         | varchar(64) | NO   | PRI | NULL    |       |\n",
    "    | table_name | varchar(32) | YES  |     | NULL    |       |\n",
    "    | group_name | varchar(32) | YES  |     | NULL    |       |\n",
    "    | super      | varchar(64) | YES  |     | NULL    |       |\n",
    "    +------------+-------------+------+-----+---------+-------+\n",
    "\n",
    "## Class attributes\n",
    "\n",
    "    +--------------+--------------+------+-----+---------+-------+\n",
    "    | Field        | Type         | Null | Key | Default | Extra |\n",
    "    +--------------+--------------+------+-----+---------+-------+\n",
    "    | the_class    | varchar(64)  | YES  | MUL | NULL    |       |\n",
    "    | name         | varchar(32)  | YES  |     | NULL    |       |\n",
    "    | colname      | varchar(32)  | YES  |     | NULL    |       |\n",
    "    | colclass     | varchar(32)  | YES  |     | NULL    |       |\n",
    "    | coltype      | varchar(32)  | YES  |     | NULL    |       |\n",
    "    | colsize      | decimal(5,0) | YES  |     | NULL    |       |\n",
    "    | colprecision | decimal(6,0) | YES  |     | NULL    |       |\n",
    "    | pkey         | decimal(1,0) | YES  |     | NULL    |       |\n",
    "    +--------------+--------------+------+-----+---------+-------+\n"
   ]
  },
  {
   "cell_type": "markdown",
   "metadata": {},
   "source": [
    "## Testing"
   ]
  },
  {
   "cell_type": "code",
   "execution_count": null,
   "metadata": {},
   "outputs": [],
   "source": [
    "from sqlalchemy import select\n",
    "from sqlalchemy.orm import Session\n",
    "\n",
    "stmt = select(Entity).where(Entity.pom_class.not_in(['attribute','relation'])).limit(5)\n",
    "print(stmt)\n",
    "with Session(engine) as session:\n",
    "    for row in session.execute(stmt):\n",
    "        print(row)\n",
    "    "
   ]
  },
  {
   "cell_type": "code",
   "execution_count": 65,
   "metadata": {},
   "outputs": [
    {
     "name": "stdout",
     "output_type": "stream",
     "text": [
      "[<class '__main__.Person'>]\n",
      "persons\n"
     ]
    }
   ],
   "source": [
    "print(Entity.__subclasses__())\n",
    "for aclass in Entity.__subclasses__():\n",
    "    print(aclass.__tablename__)"
   ]
  },
  {
   "cell_type": "markdown",
   "metadata": {},
   "source": []
  },
  {
   "cell_type": "code",
   "execution_count": 63,
   "metadata": {},
   "outputs": [
    {
     "name": "stdout",
     "output_type": "stream",
     "text": [
      "SELECT entities.class, persons.id, entities.id AS id_1, entities.inside, entities.the_order, entities.the_level, entities.the_line, entities.groupname, entities.updated, entities.indexed, persons.name, persons.sex, persons.obs \n",
      "FROM entities JOIN persons ON entities.id = persons.id \n",
      "WHERE persons.id = :id_2\n",
      "n$Arnaldo Henriques de Abreu/id=140625#person\n",
      "     ls$código-de-referência/\"PT/AUC/ELU/UC-AUC/B/001-001/A/000336\"/20200211\n",
      "     ls$data-do-registo/2018-04-19 14:33:58/20200211\n",
      "     ls$url/\"https://pesquisa.auc.uc.pt/details?id=140625\"/20200211\n",
      "     ls$uc.entrada/1835-10-17/1835-10-17\n",
      "     ls$uc.saida/1838-10-09/1838-10-09\n",
      "     ls$uc.entrada.ano/1835/1835-10-17\n",
      "     ls$uc.saida.ano/1838/1838-10-09\n",
      "     ls$nome/Arnaldo Henriques de Abreu/1835-10-17\n",
      "     ls$nome.primeiro/Arnaldo/1835-10-17\n",
      "     ls$nome.apelido/Henriques de Abreu/1835-10-17\n",
      "     ls$nome.apelido/Abreu/1835-10-17\n",
      "     ls$naturalidade/Porto/1835-10-17\n",
      "     ls$naturalidade.ano/Porto.1835/1835-10-17\n",
      "     ls$nome-geografico/Porto/1835-10-17\n",
      "     ls$nome-geografico.ano/Porto.1835/1835-10-17\n",
      "     ls$faculdade/Matemática/1835-10-17\n",
      "     ls$faculdade.ano/Matemática.1835/1835-10-17\n",
      "     ls$matricula/Matemática/1835-10-17/obs=\"1835/10/17 (obrigado)\"\n",
      "     ls$matricula.ano/Matemática.1835/1835-10-17/obs=\"1835/10/17 (obrigado)\"\n",
      "     ls$matricula/Matemática/1835-10-17/obs=\"1835/10/17 (obrigado)\"\n",
      "     ls$matricula.ano/Matemática.1835/1835-10-17/obs=\"1835/10/17 (obrigado)\"\n",
      "     ls$matricula/Matemática/1838-10-09/obs=\"1838/10/09\"\n",
      "     ls$matricula.ano/Matemática.1838/1838-10-09/obs=\"1838/10/09\"\n",
      ">     rel$function-in-act/n/auc-alumni-A-140337-140771/20200211\n"
     ]
    }
   ],
   "source": [
    "from sqlalchemy import select\n",
    "from sqlalchemy.orm import Session\n",
    "\n",
    "stmt = select(Person).where(Person.id == '140625')\n",
    "print(stmt)\n",
    "with Session(engine) as session:\n",
    "    for row in session.execute(stmt):\n",
    "        entity: Entity=row[0]\n",
    "        print(f'{entity.groupname}${entity.name}/id={entity.id}#{entity.pom_class}')\n",
    "        for attribute in entity.attributes:\n",
    "            print(f'     ls${attribute.the_type}/{attribute.the_value}/{attribute.the_date}',end='')\n",
    "            if attribute.obs is not None:\n",
    "                print(f'/obs={attribute.obs}')\n",
    "            else:\n",
    "                print()\n",
    "        if len(entity.rels_out)>0:\n",
    "            for rel in entity.rels_out:\n",
    "                print(f'>{rel}')\n",
    "        if len(entity.rels_in)>0:\n",
    "            for rel in entity.rels_in:\n",
    "                    print(rel,'<')               \n"
   ]
  },
  {
   "cell_type": "markdown",
   "metadata": {},
   "source": [
    "## Source files"
   ]
  },
  {
   "cell_type": "code",
   "execution_count": 37,
   "metadata": {},
   "outputs": [
    {
     "name": "stdout",
     "output_type": "stream",
     "text": [
      "Number of kleio_files: 235\n",
      "235 rows affected.\n",
      "Number of imported files: 235\n",
      "Files not in the database: set()\n",
      "Imported sources no file found: set()\n"
     ]
    }
   ],
   "source": [
    "from pathlib import Path\n",
    "\n",
    "kleio_files = [f.stem for f in list(Path('../sources').rglob('*.cli'))]\n",
    "print(\"Number of kleio_files:\", len(kleio_files))\n",
    "\n",
    "imported_sources = %sql select sources.id, sources.kleiofile, entities.updated from sources left join entities on (sources.id=entities.id) order by updated desc \n",
    "sources_in_db = [s.id for s in imported_sources]\n",
    "print(\"Number of imported files:\",len(sources_in_db))\n",
    "\n",
    "print(\"Files not in the database:\", set(kleio_files)-set(sources_in_db))\n",
    "print(\"Imported sources no file found:\", set(sources_in_db)-set(kleio_files))\n",
    "\n"
   ]
  },
  {
   "cell_type": "markdown",
   "metadata": {},
   "source": []
  },
  {
   "cell_type": "markdown",
   "metadata": {},
   "source": [
    "## Analyse attributes extracted from records"
   ]
  },
  {
   "cell_type": "markdown",
   "metadata": {},
   "source": [
    "### Attributes in the database"
   ]
  },
  {
   "cell_type": "code",
   "execution_count": 8,
   "metadata": {},
   "outputs": [
    {
     "name": "stdout",
     "output_type": "stream",
     "text": [
      "28 rows affected.\n",
      "105300 | código-de-referência\n",
      "   275 | colegio\n",
      "105300 | data-do-registo\n",
      "   186 | ec\n",
      " 53627 | exame\n",
      " 94164 | faculdade\n",
      " 94164 | faculdade.ano\n",
      "106372 | grau\n",
      "106372 | grau.ano\n",
      "319291 | matricula\n",
      "319291 | matricula.ano\n",
      " 98904 | naturalidade\n",
      " 98904 | naturalidade.ano\n",
      "105300 | nome\n",
      "107486 | nome-geografico\n",
      "101392 | nome-geografico.ano\n",
      "198660 | nome.apelido\n",
      "105300 | nome.primeiro\n",
      "  8155 | nome.vide\n",
      "  9975 | nota\n",
      "  3142 | ordem-religiosa\n",
      "  7036 | padre\n",
      "  4170 | titulo\n",
      "105300 | uc.entrada\n",
      " 99014 | uc.entrada.ano\n",
      "105300 | uc.saida\n",
      " 99281 | uc.saida.ano\n",
      "105300 | url\n"
     ]
    }
   ],
   "source": [
    "nml = %sql select the_type, count(*) as tot from attributes group by the_type\n",
    "for the_type, tot in nml:\n",
    "    print(f'{tot:6} | {the_type}')"
   ]
  },
  {
   "cell_type": "code",
   "execution_count": 11,
   "metadata": {},
   "outputs": [
    {
     "name": "stdout",
     "output_type": "stream",
     "text": [
      "473 rows affected.\n"
     ]
    },
    {
     "ename": "ValueError",
     "evalue": "Unknown format code 'r' for object of type 'str'",
     "output_type": "error",
     "traceback": [
      "\u001b[0;31m---------------------------------------------------------------------------\u001b[0m",
      "\u001b[0;31mValueError\u001b[0m                                Traceback (most recent call last)",
      "\u001b[0;32m/tmp/ipykernel_428226/4098037847.py\u001b[0m in \u001b[0;36m<module>\u001b[0;34m\u001b[0m\n\u001b[1;32m      1\u001b[0m \u001b[0mp1540\u001b[0m \u001b[0;34m=\u001b[0m \u001b[0mget_ipython\u001b[0m\u001b[0;34m(\u001b[0m\u001b[0;34m)\u001b[0m\u001b[0;34m.\u001b[0m\u001b[0mrun_line_magic\u001b[0m\u001b[0;34m(\u001b[0m\u001b[0;34m'sql'\u001b[0m\u001b[0;34m,\u001b[0m \u001b[0;34m\"select id, name, pobs from nattributes where the_type='uc.entrada' and the_value like '1540%'\"\u001b[0m\u001b[0;34m)\u001b[0m\u001b[0;34m\u001b[0m\u001b[0;34m\u001b[0m\u001b[0m\n\u001b[1;32m      2\u001b[0m \u001b[0;32mfor\u001b[0m \u001b[0mid\u001b[0m\u001b[0;34m,\u001b[0m \u001b[0mname\u001b[0m\u001b[0;34m,\u001b[0m \u001b[0mpobs\u001b[0m \u001b[0;32min\u001b[0m \u001b[0mp1540\u001b[0m\u001b[0;34m:\u001b[0m\u001b[0;34m\u001b[0m\u001b[0;34m\u001b[0m\u001b[0m\n\u001b[0;32m----> 3\u001b[0;31m     \u001b[0mprint\u001b[0m\u001b[0;34m(\u001b[0m\u001b[0;34mf'{id:r} | {name} \\n {pobs}\\n\\n'\u001b[0m\u001b[0;34m)\u001b[0m\u001b[0;34m\u001b[0m\u001b[0;34m\u001b[0m\u001b[0m\n\u001b[0m",
      "\u001b[0;31mValueError\u001b[0m: Unknown format code 'r' for object of type 'str'"
     ]
    }
   ],
   "source": [
    "p1540 = %sql select id, name, pobs from nattributes where the_type='uc.entrada' and the_value like '1540%'\n",
    "for id, name, pobs in p1540:\n",
    "    print(f'{id:5} | {name} \\n {pobs}\\n\\n')"
   ]
  }
 ],
 "metadata": {
  "interpreter": {
   "hash": "934ef4408acba814b9756a32638c756f41faa2976a0690acf93c487e545c70af"
  },
  "kernelspec": {
   "display_name": "Python 3.9.0 64-bit ('3.9.0': pyenv)",
   "name": "python3"
  },
  "language_info": {
   "codemirror_mode": {
    "name": "ipython",
    "version": 3
   },
   "file_extension": ".py",
   "mimetype": "text/x-python",
   "name": "python",
   "nbconvert_exporter": "python",
   "pygments_lexer": "ipython3",
   "version": "3.9.0"
  },
  "metadata": {
   "interpreter": {
    "hash": "7eb78c199a872a9864157d40ba1a3a21c75b2dca99a04068f89256c905325ae7"
   }
  },
  "orig_nbformat": 2
 },
 "nbformat": 4,
 "nbformat_minor": 2
}
