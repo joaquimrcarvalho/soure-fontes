{
 "cells": [
  {
   "cell_type": "markdown",
   "metadata": {},
   "source": [
    "# Database overview notebook"
   ]
  },
  {
   "cell_type": "markdown",
   "metadata": {},
   "source": [
    "> First time use: follow instructions in the README.md file in this directory."
   ]
  },
  {
   "cell_type": "markdown",
   "metadata": {},
   "source": [
    "## Setup"
   ]
  },
  {
   "cell_type": "code",
   "execution_count": 350,
   "metadata": {},
   "outputs": [
    {
     "name": "stdout",
     "output_type": "stream",
     "text": [
      "Available databases:\n",
      "['alunos', 'angelica', 'api_tests', 'china', 'china_coimbra', 'dyncoopnet', 'eiras', 'familias', 'glopes', 'ilhavo', 'ilhavo2', 'ilhavo_contrib', 'ilhavo_editor', 'ilhavo_server', 'ilhavo_testes', 'lousa', 'lousa3', 'lousa4', 'mhk', 'notaveis', 'obidos', 'oguest', 'rhv', 'santaclara', 'santajusta', 'sister', 'soure', 'soure_edit', 'soure_editor', 'soure_mfg', 'soure_public', 'soure_server', 'testes', 'toliveira', 'toliveira_reviewed', 'ucprosop']\n"
     ]
    }
   ],
   "source": [
    "from timelink.mhk.utilities import get_engine, get_dbnames, get_connection_string\n",
    "from sqlalchemy import engine, text, MetaData\n",
    "print('Available databases:')\n",
    "print(get_dbnames())\n",
    "#%load_ext sql\n",
    "#%config SqlMagic.displaycon=False"
   ]
  },
  {
   "cell_type": "markdown",
   "metadata": {},
   "source": [
    "## Connect to database"
   ]
  },
  {
   "cell_type": "markdown",
   "metadata": {},
   "source": [
    "### Choose the database"
   ]
  },
  {
   "cell_type": "code",
   "execution_count": 351,
   "metadata": {},
   "outputs": [],
   "source": [
    "db = 'soure_editor'\n",
    "connection_string = get_connection_string(db)\n",
    "engine = get_engine(db)"
   ]
  },
  {
   "cell_type": "markdown",
   "metadata": {},
   "source": [
    "## Database status"
   ]
  },
  {
   "cell_type": "code",
   "execution_count": 352,
   "metadata": {},
   "outputs": [
    {
     "name": "stdout",
     "output_type": "stream",
     "text": [
      "act 10842\n",
      "acta 180\n",
      "acusacoes 375\n",
      "aforamento 2\n",
      "aregister 2\n",
      "attribute 66540\n",
      "cartaperdao 2\n",
      "caso 49\n",
      "class 27\n",
      "crime 1\n",
      "divida 3\n",
      "escritura 254\n",
      "geoentity 9\n",
      "good 6\n",
      "group_element 10869\n",
      "item 92\n",
      "object 2\n",
      "person 52228\n",
      "relation 104592\n",
      "rperson 1120\n",
      "source 193\n"
     ]
    }
   ],
   "source": [
    "with engine.connect() as connection:\n",
    "    classes = connection.execute(\n",
    "        text('select class,count(*) as n from entities group by class')\n",
    "    )\n",
    "    classes\n",
    "for c in classes:\n",
    "    print(c['class'],c.n)"
   ]
  },
  {
   "cell_type": "markdown",
   "metadata": {},
   "source": [
    "## Map MHK database"
   ]
  },
  {
   "cell_type": "code",
   "execution_count": 353,
   "metadata": {},
   "outputs": [],
   "source": [
    "\n",
    "from sqlalchemy import Column,String,Integer,DateTime, ForeignKey\n",
    "from sqlalchemy.orm import declarative_base, relationship\n",
    "\n",
    "Base = declarative_base()\n"
   ]
  },
  {
   "cell_type": "markdown",
   "metadata": {},
   "source": [
    "## Entities\n",
    "     \n",
    "        |-----------|--------------|------|-----|---------------------+-----------------------------+\n",
    "        | Field     | Type         | Null | Key | Default             | Extra                       |\n",
    "        +-----------+--------------+------+-----+---------------------+-----------------------------+\n",
    "        | id        | varchar(64)  | NO   | PRI | NULL                |                             |\n",
    "        | class     | varchar(64)  | YES  | MUL | NULL                |                             |\n",
    "        | inside    | varchar(64)  | YES  | MUL | NULL                |                             |\n",
    "        | the_order | decimal(6,0) | YES  |     | NULL                |                             |\n",
    "        | the_level | decimal(6,0) | YES  |     | NULL                |                             |\n",
    "        | the_line  | decimal(6,0) | YES  |     | NULL                |                             |\n",
    "        | groupname | varchar(32)  | YES  | MUL | NULL                |                             |\n",
    "        | updated   | timestamp    | NO   | MUL | CURRENT_TIMESTAMP   | on update CURRENT_TIMESTAMP |\n",
    "        | indexed   | timestamp    | NO   | MUL | 1974-04-25 00:00:01 |                             |\n",
    "        +-----------+--------------+------+-----+---------------------+-----------------------------+"
   ]
  },
  {
   "cell_type": "code",
   "execution_count": 354,
   "metadata": {},
   "outputs": [],
   "source": [
    "\n",
    "class Entity(Base):\n",
    "    __tablename__ = 'entities'\n",
    "\n",
    "    id = Column(String, primary_key=True)\n",
    "    pom_class = Column('class',String)\n",
    "    inside = Column(String)\n",
    "    the_order = Column(Integer)\n",
    "    the_level = Column(Integer)\n",
    "    the_line = Column(Integer)\n",
    "    groupname = Column(String)\n",
    "    updated = Column(DateTime)\n",
    "    indexed = Column(DateTime)\n",
    "\n",
    "\n",
    "    rels_in = relationship(\"Relation\", back_populates=\"dest\")\n",
    "    rels_out = relationship(\"Relation\",back_populates=\"org\")\n",
    "\n",
    "    # see https://docs.sqlalchemy.org/en/14/orm/inheritance.html\n",
    "    __mapper_args__ = {\n",
    "        'polymorphic_identity': 'entity',\n",
    "        'polymorphic_on':pom_class\n",
    "    }\n",
    "\n",
    "    # untested\n",
    "    @classmethod  # untested\n",
    "    def get_subclasses(cls):\n",
    "        for subclass in cls.__subclasses__():\n",
    "            yield from subclass.get_subclasses()\n",
    "            yield subclass\n",
    "\n",
    "    def __repr__(self):\n",
    "        return (\n",
    "            f'Entity(id=\"{self.id}\", '\n",
    "            f'pom_class=\"{self.pom_class}\",'\n",
    "            f'inside=\"{self.inside}\", '\n",
    "            f'the_order={self.the_order}, '\n",
    "            f'the_level={self.the_level}, '\n",
    "            f'the_line={self.the_line}, '\n",
    "            f'groupname=\"{self.groupname}\", '\n",
    "            \n",
    "            f'updated={self.updated}, '\n",
    "            f'indexed={self.indexed},'\n",
    "            f')'\n",
    "        )\n",
    "        \n",
    "    def __str__(self):\n",
    "        return (f'{self.groupname}${self.id}/type={self.pom_class}')\n"
   ]
  },
  {
   "cell_type": "markdown",
   "metadata": {},
   "source": [
    "## Attributes\n",
    "    +-----------+----------------+------+-----+---------+-------+\n",
    "    | Field     | Type           | Null | Key | Default | Extra |\n",
    "    +-----------+----------------+------+-----+---------+-------+\n",
    "    | id        | varchar(64)    | NO   | PRI | NULL    |       |\n",
    "    | entity    | varchar(64)    | YES  | MUL | NULL    |       |\n",
    "    | the_type  | varchar(512)   | YES  | MUL | NULL    |       |\n",
    "    | the_value | varchar(1024)  | YES  | MUL | NULL    |       |\n",
    "    | the_date  | varchar(24)    | YES  | MUL | NULL    |       |\n",
    "    | obs       | varchar(16000) | YES  |     | NULL    |       |\n",
    "    +-----------+----------------+------+-----+---------+-------+"
   ]
  },
  {
   "cell_type": "code",
   "execution_count": 355,
   "metadata": {},
   "outputs": [],
   "source": [
    "\n",
    "class Attribute(Entity):\n",
    "    __tablename__ = 'attributes'\n",
    "\n",
    "    id = Column(String, ForeignKey('entities.id'), primary_key=True)\n",
    "    entity = Column(String,ForeignKey('entities.id'))\n",
    "    the_type = Column(String)\n",
    "    the_value = Column(String)\n",
    "    the_date = Column(String)\n",
    "    obs = Column(String)\n",
    "\n",
    "    the_entity = relationship(\"Entity\",foreign_keys=[entity],back_populates=\"attributes\",)\n",
    "\n",
    "    __mapper_args__ = {\n",
    "        'polymorphic_identity':'attribute',     \n",
    "        'inherit_condition': id == Entity.id\n",
    "    }\n",
    "\n",
    "    def __repr__(self):\n",
    "        return (\n",
    "            f'Attribute(id={super().__repr__()}, '\n",
    "            f'entity=\"{self.entity}\", '\n",
    "            f'the_type=\"{self.the_type}\", '\n",
    "            f'the_value=\"{self.the_value}\", '\n",
    "            f'the_date=\"{self.the_date}\"\", '\n",
    "            f'obs={self.obs}'\n",
    "            f')'\n",
    "        )\n",
    "\n",
    "    def __str__(self):\n",
    "        r = f'     ls${self.the_type}/{self.the_value}/{self.the_date}'\n",
    "        if self.obs is not None:\n",
    "                r = (f'{r}/obs={self.obs}')\n",
    "        return r\n",
    "\n",
    "\n",
    "Entity.attributes = relationship(\"Attribute\", foreign_keys=[Attribute.entity], back_populates=\"the_entity\")\n"
   ]
  },
  {
   "cell_type": "markdown",
   "metadata": {},
   "source": [
    "## Relations   \n",
    "    +-------------+----------------+------+-----+---------+-------+\n",
    "    | Field       | Type           | Null | Key | Default | Extra |\n",
    "    +-------------+----------------+------+-----+---------+-------+\n",
    "    | id          | varchar(64)    | NO   | PRI | NULL    |       |\n",
    "    | origin      | varchar(64)    | YES  | MUL | NULL    |       |\n",
    "    | destination | varchar(64)    | YES  | MUL | NULL    |       |\n",
    "    | the_date    | varchar(24)    | YES  | MUL | NULL    |       |\n",
    "    | the_type    | varchar(32)    | YES  | MUL | NULL    |       |\n",
    "    | the_value   | varchar(256)   | YES  | MUL | NULL    |       |\n",
    "    | obs         | varchar(16000) | YES  |     | NULL    |       |\n",
    "    +-------------+----------------+------+-----+---------+-------+"
   ]
  },
  {
   "cell_type": "code",
   "execution_count": 356,
   "metadata": {},
   "outputs": [
    {
     "name": "stderr",
     "output_type": "stream",
     "text": [
      "/var/folders/sx/x6pyh9097n98mlz29_6njdj00000gn/T/ipykernel_95374/4209139393.py:43: SAWarning: Property Entity.rels_out on mapped class Entity->entities being replaced with new property Entity.rels_out; the old property will be discarded\n",
      "  Entity.rels_out = relationship(\"Relation\",foreign_keys=[Relation.origin],back_populates=\"dest\")\n",
      "/var/folders/sx/x6pyh9097n98mlz29_6njdj00000gn/T/ipykernel_95374/4209139393.py:43: SAWarning: Property Entity.rels_out on mapped class Attribute->attributes being replaced with new property Entity.rels_out; the old property will be discarded\n",
      "  Entity.rels_out = relationship(\"Relation\",foreign_keys=[Relation.origin],back_populates=\"dest\")\n",
      "/var/folders/sx/x6pyh9097n98mlz29_6njdj00000gn/T/ipykernel_95374/4209139393.py:43: SAWarning: Property Entity.rels_out on mapped class Relation->relations being replaced with new property Entity.rels_out; the old property will be discarded\n",
      "  Entity.rels_out = relationship(\"Relation\",foreign_keys=[Relation.origin],back_populates=\"dest\")\n",
      "/var/folders/sx/x6pyh9097n98mlz29_6njdj00000gn/T/ipykernel_95374/4209139393.py:44: SAWarning: Property Entity.rels_in on mapped class Entity->entities being replaced with new property Entity.rels_in; the old property will be discarded\n",
      "  Entity.rels_in = relationship(\"Relation\",foreign_keys=[Relation.destination],back_populates=\"org\")\n",
      "/var/folders/sx/x6pyh9097n98mlz29_6njdj00000gn/T/ipykernel_95374/4209139393.py:44: SAWarning: Property Entity.rels_in on mapped class Attribute->attributes being replaced with new property Entity.rels_in; the old property will be discarded\n",
      "  Entity.rels_in = relationship(\"Relation\",foreign_keys=[Relation.destination],back_populates=\"org\")\n",
      "/var/folders/sx/x6pyh9097n98mlz29_6njdj00000gn/T/ipykernel_95374/4209139393.py:44: SAWarning: Property Entity.rels_in on mapped class Relation->relations being replaced with new property Entity.rels_in; the old property will be discarded\n",
      "  Entity.rels_in = relationship(\"Relation\",foreign_keys=[Relation.destination],back_populates=\"org\")\n"
     ]
    }
   ],
   "source": [
    "class Relation(Entity):  # should extend Entity but gives error\n",
    "\n",
    "    __tablename__ = 'relations'\n",
    "\n",
    "    id = Column(String,ForeignKey('entities.id'), primary_key=True)\n",
    "    #rel_entity = relationship(\"Entity\",foreign_keys='id',back_populates='rel')\n",
    "    origin = Column(String,ForeignKey('entities.id'))\n",
    "    org = relationship(Entity,foreign_keys=[origin], back_populates='rels_out')\n",
    "\n",
    "    destination = Column(String,ForeignKey('entities.id'))\n",
    "    dest = relationship(\"Entity\",foreign_keys=[destination], back_populates=\"rels_in\")\n",
    "    the_type = Column(String)\n",
    "    the_value = Column(String)\n",
    "    the_date = Column(String)\n",
    "    obs = Column(String)\n",
    "\n",
    "    __mapper_args__ = {\n",
    "        'polymorphic_identity':'relation',\n",
    "        'inherit_condition': id == Entity.id\n",
    "    }\n",
    "\n",
    "    def __repr__(self):\n",
    "        return (\n",
    "            f'Relation(id={super().__repr__()}, '\n",
    "            f'origin=\"{self.origin}\", '\n",
    "            f'destination=\"{self.destination}\", '\n",
    "            f'the_type=\"{self.the_type}\", '\n",
    "            f'the_value=\"{self.the_value}\", '\n",
    "            f'the_date=\"{self.the_date}\"\", '\n",
    "            f'obs={self.obs}'\n",
    "            f')'\n",
    "        )\n",
    "\n",
    "    def __str__(self):\n",
    "        if self.dest is not None and self.dest.pom_class == 'person':\n",
    "            r = f'rel${self.the_type}/{self.the_value}/{self.dest.name}/{self.destination}/{self.the_date}'\n",
    "        else:\n",
    "            r = f'rel${self.the_type}/{self.the_value}/{self.destination}/{self.the_date}'\n",
    "        if self.obs is not None:\n",
    "                r = (f'{r}  /obs={self.obs}')\n",
    "        return r\n",
    "\n",
    "Entity.rels_out = relationship(\"Relation\",foreign_keys=[Relation.origin],back_populates=\"dest\")\n",
    "Entity.rels_in = relationship(\"Relation\",foreign_keys=[Relation.destination],back_populates=\"org\")"
   ]
  },
  {
   "cell_type": "markdown",
   "metadata": {},
   "source": [
    "## Persons    \n",
    "    +-------+----------------+------+-----+---------+-------+\n",
    "    | Field | Type           | Null | Key | Default | Extra |\n",
    "    +-------+----------------+------+-----+---------+-------+\n",
    "    | id    | varchar(64)    | NO   | PRI | NULL    |       |\n",
    "    | name  | varchar(128)   | YES  | MUL | NULL    |       |\n",
    "    | sex   | char(1)        | YES  |     | NULL    |       |\n",
    "    | obs   | varchar(16000) | YES  |     | NULL    |       |\n",
    "    +-------+----------------+------+-----+---------+-------+"
   ]
  },
  {
   "cell_type": "code",
   "execution_count": 357,
   "metadata": {},
   "outputs": [],
   "source": [
    "class Person(Entity):\n",
    "    __tablename__ = 'persons'\n",
    "\n",
    "    id = Column(String, ForeignKey('entities.id'), primary_key=True)\n",
    "    name = Column(String)\n",
    "    sex = Column(String(1))\n",
    "    obs = Column(String)\n",
    "\n",
    "    __mapper_args__ = {\n",
    "        'polymorphic_identity':'person'\n",
    "    }\n",
    "\n",
    "\n",
    "    def __str__(self):\n",
    "        r = f'{self.groupname}${self.name}/{self.sex}/id={self.id}'\n",
    "        if self.obs is not None:\n",
    "                r = (f'{r}  /obs={self.obs}')\n",
    "        return r"
   ]
  },
  {
   "cell_type": "markdown",
   "metadata": {},
   "source": [
    "## Objects\n",
    "\n",
    "    +----------+----------------+------+-----+---------+-------+\n",
    "    | Field    | Type           | Null | Key | Default | Extra |\n",
    "    +----------+----------------+------+-----+---------+-------+\n",
    "    | id       | varchar(64)    | NO   | PRI | NULL    |       |\n",
    "    | name     | varchar(64)    | YES  | MUL | NULL    |       |\n",
    "    | the_type | varchar(32)    | YES  |     | NULL    |       |\n",
    "    | obs      | varchar(16000) | YES  |     | NULL    |       |\n",
    "    +----------+----------------+------+-----+---------+-------+"
   ]
  },
  {
   "cell_type": "code",
   "execution_count": 358,
   "metadata": {},
   "outputs": [],
   "source": [
    "class Object(Entity):\n",
    "    __tablename__ = 'objects'\n",
    "\n",
    "    id = Column(String, ForeignKey('entities.id'), primary_key=True)\n",
    "    name = Column(String)\n",
    "    the_type = Column(String(32))\n",
    "    obs = Column(String)\n",
    "\n",
    "    __mapper_args__ = {\n",
    "        'polymorphic_identity':'object'\n",
    "    }"
   ]
  },
  {
   "cell_type": "markdown",
   "metadata": {},
   "source": [
    "## Acts\n",
    "\n",
    "    +----------+----------------+------+-----+---------+-------+\n",
    "    | Field    | Type           | Null | Key | Default | Extra |\n",
    "    +----------+----------------+------+-----+---------+-------+\n",
    "    | id       | varchar(64)    | NO   | PRI | NULL    |       |\n",
    "    | the_type | varchar(32)    | YES  |     | NULL    |       |\n",
    "    | the_date | varchar(24)    | YES  | MUL | NULL    |       |\n",
    "    | loc      | varchar(64)    | YES  |     | NULL    |       |\n",
    "    | ref      | varchar(64)    | YES  |     | NULL    |       |\n",
    "    | obs      | varchar(16000) | YES  |     | NULL    |       |\n",
    "    +----------+----------------+------+-----+---------+-------+\n"
   ]
  },
  {
   "cell_type": "code",
   "execution_count": 359,
   "metadata": {},
   "outputs": [],
   "source": [
    "class Act(Entity):\n",
    "    __tablename__ = 'acts'\n",
    "\n",
    "    id = Column(String, ForeignKey('entities.id'), primary_key=True)\n",
    "    the_type = Column(String(32))\n",
    "    the_date = Column(String)\n",
    "    loc = Column(String)\n",
    "    ref = Column(String)\n",
    "    obs = Column(String)\n",
    "\n",
    "    __mapper_args__ = {\n",
    "        'polymorphic_identity':'act'\n",
    "    }\n",
    "\n",
    "    def __str__(self):\n",
    "        r = f'{self.groupname}${self.id}/{self.the_date}/type={self.the_type}/ref={self.ref}/loc={self.loc}'\n",
    "        if self.obs is not None:\n",
    "                r = (f'{r}  /obs={self.obs}')\n",
    "        return r\n"
   ]
  },
  {
   "cell_type": "markdown",
   "metadata": {},
   "source": [
    "## Sources\n",
    "\n",
    "    +-----------+----------------+------+-----+---------+-------+\n",
    "    | Field     | Type           | Null | Key | Default | Extra |\n",
    "    +-----------+----------------+------+-----+---------+-------+\n",
    "    | id        | varchar(64)    | NO   | PRI | NULL    |       |\n",
    "    | the_type  | varchar(32)    | YES  |     | NULL    |       |\n",
    "    | the_date  | varchar(24)    | YES  |     | NULL    |       |\n",
    "    | loc       | varchar(64)    | YES  |     | NULL    |       |\n",
    "    | ref       | varchar(64)    | YES  |     | NULL    |       |\n",
    "    | kleiofile | varchar(1024)  | YES  |     | NULL    |       |\n",
    "    | replaces  | varchar(254)   | YES  |     | NULL    |       |\n",
    "    | obs       | varchar(16000) | YES  |     | NULL    |       |\n",
    "    +-----------+----------------+------+-----+---------+-------+"
   ]
  },
  {
   "cell_type": "code",
   "execution_count": 360,
   "metadata": {},
   "outputs": [],
   "source": [
    "class Source(Entity):\n",
    "    __tablename__ = 'sources'\n",
    "\n",
    "    id = Column(String, ForeignKey('entities.id'), primary_key=True)\n",
    "    the_type = Column(String(32))\n",
    "    the_date = Column(String)\n",
    "    loc = Column(String)\n",
    "    ref = Column(String)\n",
    "    kleiofile = Column(String)\n",
    "    replaces = Column(String)\n",
    "    obs = Column(String)\n",
    "\n",
    "    __mapper_args__ = {\n",
    "        'polymorphic_identity':'source'\n",
    "    }\n",
    "\n",
    "    def __str__(self):\n",
    "        r = f'{self.groupname}${self.id}/{self.the_date}/type={self.the_type}/ref={self.ref}/loc={self.loc}/kleiofile={self.kleiofile}/replaces={self.replaces}'\n",
    "        if self.obs is not None:\n",
    "                r = (f'{r}  /obs={self.obs}')\n",
    "        return r"
   ]
  },
  {
   "cell_type": "markdown",
   "metadata": {},
   "source": [
    "## Classes\n",
    "\n",
    "    +------------+-------------+------+-----+---------+-------+\n",
    "    | Field      | Type        | Null | Key | Default | Extra |\n",
    "    +------------+-------------+------+-----+---------+-------+\n",
    "    | id         | varchar(64) | NO   | PRI | NULL    |       |\n",
    "    | table_name | varchar(32) | YES  |     | NULL    |       |\n",
    "    | group_name | varchar(32) | YES  |     | NULL    |       |\n",
    "    | super      | varchar(64) | YES  |     | NULL    |       |\n",
    "    +------------+-------------+------+-----+---------+-------+\n",
    "\n"
   ]
  },
  {
   "cell_type": "code",
   "execution_count": 361,
   "metadata": {},
   "outputs": [],
   "source": [
    "class PomClass(Entity):\n",
    "    __tablename__ = 'classes'\n",
    "\n",
    "    id = Column(String, ForeignKey('entities.id'), primary_key=True)\n",
    "    table_name = Column(String)\n",
    "    class_group = Column(String(32))\n",
    "    super_class = Column(String)\n",
    "\n",
    "    class_attributes = relationship(\"PomClassAttributes\", back_populates=\"pom_class\")\n",
    "\n",
    "    __mapper_args__ = {\n",
    "        'polymorphic_identity':'class'\n",
    "    }"
   ]
  },
  {
   "cell_type": "markdown",
   "metadata": {},
   "source": [
    "\n",
    "## Class attributes\n",
    "\n",
    "    +--------------+--------------+------+-----+---------+-------+\n",
    "    | Field        | Type         | Null | Key | Default | Extra |\n",
    "    +--------------+--------------+------+-----+---------+-------+\n",
    "    | the_class    | varchar(64)  | YES  | MUL | NULL    |       |\n",
    "    | name         | varchar(32)  | YES  |     | NULL    |       |\n",
    "    | colname      | varchar(32)  | YES  |     | NULL    |       |\n",
    "    | colclass     | varchar(32)  | YES  |     | NULL    |       |\n",
    "    | coltype      | varchar(32)  | YES  |     | NULL    |       |\n",
    "    | colsize      | decimal(5,0) | YES  |     | NULL    |       |\n",
    "    | colprecision | decimal(6,0) | YES  |     | NULL    |       |\n",
    "    | pkey         | decimal(1,0) | YES  |     | NULL    |       |\n",
    "    +--------------+--------------+------+-----+---------+-------+\n"
   ]
  },
  {
   "cell_type": "code",
   "execution_count": 362,
   "metadata": {},
   "outputs": [],
   "source": [
    "class PomClassAttributes(Base):\n",
    "    __tablename__ = 'class_attributes'\n",
    "\n",
    "    the_class = Column(String, ForeignKey('classes.id'),primary_key=True)\n",
    "\n",
    "    pom_class = relationship(\"PomClass\",foreign_keys=[the_class], back_populates='class_attributes')\n",
    "    name = Column(String(32), primary_key=True)\n",
    "    colname = Column(String(32))\n",
    "    colname = Column(String(32))\n",
    "    coltype = Column(String)\n",
    "    colsize = Column(Integer)\n",
    "    colprecision = Column(Integer)\n",
    "    pkey = Column(Integer)"
   ]
  },
  {
   "cell_type": "markdown",
   "metadata": {},
   "source": [
    "## Testing"
   ]
  },
  {
   "cell_type": "code",
   "execution_count": 363,
   "metadata": {},
   "outputs": [],
   "source": [
    "from sqlalchemy.orm import sessionmaker\n",
    "Session = sessionmaker(bind=engine)\n",
    "session = Session()\n"
   ]
  },
  {
   "cell_type": "code",
   "execution_count": 364,
   "metadata": {},
   "outputs": [
    {
     "name": "stdout",
     "output_type": "stream",
     "text": [
      "     ls$residencia/barrosas/16970205/obs=%barrosos. \n",
      "Attribute(id=Entity(id=\"$c51-2-att3-12\", pom_class=\"attribute\",inside=\"$c51-2\", the_order=164, the_level=5, the_line=136, groupname=\"ls\", updated=2021-08-21 08:33:00, indexed=1974-04-25 00:00:01,), entity=\"$c51-2\", the_type=\"residencia\", the_value=\"barrosas\", the_date=\"16970205\"\", obs=%barrosos. )\n"
     ]
    }
   ],
   "source": [
    "attribute = session.query(Attribute).where(Entity.pom_class  == 'attribute').first()\n",
    "print(attribute)\n",
    "print(repr(attribute))"
   ]
  },
  {
   "cell_type": "code",
   "execution_count": 365,
   "metadata": {},
   "outputs": [
    {
     "name": "stdout",
     "output_type": "stream",
     "text": [
      "pnoivo$domingos andre/m/id=$c51-2\n"
     ]
    }
   ],
   "source": [
    "entity = attribute.the_entity\n",
    "print(entity)"
   ]
  },
  {
   "cell_type": "code",
   "execution_count": 366,
   "metadata": {},
   "outputs": [
    {
     "name": "stdout",
     "output_type": "stream",
     "text": [
      "Relation(id=Entity(id=\"$c51-2-att2-2-geo-rel\", pom_class=\"relation\",inside=\"$c51-2-att2-2-geo\", the_order=None, the_level=None, the_line=None, groupname=\"*georelation\", updated=2020-02-26 21:55:45, indexed=1974-04-25 00:00:01,), origin=\"$c51-2-att2-2-geo\", destination=\"$c51-2\", the_type=\"geografica\", the_value=\"residencia\", the_date=\"16970205\"\", obs=*automatic relation)\n",
      "rel$geografica/residencia/domingos andre/$c51-2/16970205  /obs=*automatic relation\n"
     ]
    }
   ],
   "source": [
    "relation = session.query(Relation).where(Relation.pom_class  == 'relation').first()\n",
    "\n",
    "print(repr(relation))\n",
    "print(relation)\n"
   ]
  },
  {
   "cell_type": "code",
   "execution_count": 367,
   "metadata": {},
   "outputs": [
    {
     "name": "stdout",
     "output_type": "stream",
     "text": [
      "Relation(id=Entity(id=\"01705-a5e-rel17-4\", pom_class=\"relation\",inside=\"01705-a5e\", the_order=274, the_level=5, the_line=331, groupname=\"rel\", updated=2021-08-21 08:46:22, indexed=1974-04-25 00:00:01,), origin=\"01705-a5e\", destination=\"1705-a5ea\", the_type=\"parentesco\", the_value=\"foi mulher\", the_date=\"17051005\"\", obs=None)\n",
      "referida$maria fernandes/f/id=01705-a5e\n",
      "    rel$parentesco/foi mulher/manuel cordeiro/1705-a5ea/17051005\n",
      "referido$manuel cordeiro/m/id=1705-a5ea\n"
     ]
    }
   ],
   "source": [
    "relation = session.query(Relation).where(Relation.the_type  == 'parentesco').first()\n",
    "print(repr(relation))\n",
    "\n",
    "print(relation.org)\n",
    "print(\"   \",relation)\n",
    "print(relation.dest)"
   ]
  },
  {
   "cell_type": "code",
   "execution_count": 368,
   "metadata": {},
   "outputs": [
    {
     "name": "stdout",
     "output_type": "stream",
     "text": [
      "Entity(id=\"1700-142\", pom_class=\"act\",inside=\"casamentos 1700\", the_order=2, the_level=2, the_line=6, groupname=\"cas\", updated=2020-06-17 18:18:21, indexed=2020-06-17 18:18:21,)\n",
      "cas$1700-142/17000110/type=cas/ref=igreja matriz/loc=luis alvares pinto\n"
     ]
    }
   ],
   "source": [
    "act = session.query(Act).where(Entity.pom_class  == 'act').first()\n",
    "\n",
    "print(repr(act))\n",
    "print(act)"
   ]
  },
  {
   "cell_type": "code",
   "execution_count": 370,
   "metadata": {},
   "outputs": [
    {
     "ename": "ProgrammingError",
     "evalue": "(mysql.connector.errors.ProgrammingError) 1054 (42S22): Unknown column 'sources.name' in 'field list'\n[SQL: SELECT entities.class AS entities_class, sources.id AS sources_id, entities.id AS entities_id, entities.inside AS entities_inside, entities.the_order AS entities_the_order, entities.the_level AS entities_the_level, entities.the_line AS entities_the_line, entities.groupname AS entities_groupname, entities.updated AS entities_updated, entities.indexed AS entities_indexed, sources.name AS sources_name, sources.the_type AS sources_the_type, sources.the_date AS sources_the_date, sources.loc AS sources_loc, sources.ref AS sources_ref, sources.kleiofile AS sources_kleiofile, sources.replaces AS sources_replaces, sources.obs AS sources_obs \nFROM entities INNER JOIN sources ON entities.id = sources.id \nWHERE entities.class = %(class_1)s \n LIMIT %(param_1)s]\n[parameters: {'class_1': 'source', 'param_1': 1}]\n(Background on this error at: https://sqlalche.me/e/14/f405)",
     "output_type": "error",
     "traceback": [
      "\u001b[0;31m---------------------------------------------------------------------------\u001b[0m",
      "\u001b[0;31mProgrammingError\u001b[0m                          Traceback (most recent call last)",
      "\u001b[0;32m~/.pyenv/versions/3.9.0/lib/python3.9/site-packages/sqlalchemy/engine/base.py\u001b[0m in \u001b[0;36m_execute_context\u001b[0;34m(self, dialect, constructor, statement, parameters, execution_options, *args, **kw)\u001b[0m\n\u001b[1;32m   1770\u001b[0m                 \u001b[0;32mif\u001b[0m \u001b[0;32mnot\u001b[0m \u001b[0mevt_handled\u001b[0m\u001b[0;34m:\u001b[0m\u001b[0;34m\u001b[0m\u001b[0;34m\u001b[0m\u001b[0m\n\u001b[0;32m-> 1771\u001b[0;31m                     self.dialect.do_execute(\n\u001b[0m\u001b[1;32m   1772\u001b[0m                         \u001b[0mcursor\u001b[0m\u001b[0;34m,\u001b[0m \u001b[0mstatement\u001b[0m\u001b[0;34m,\u001b[0m \u001b[0mparameters\u001b[0m\u001b[0;34m,\u001b[0m \u001b[0mcontext\u001b[0m\u001b[0;34m\u001b[0m\u001b[0;34m\u001b[0m\u001b[0m\n",
      "\u001b[0;32m~/.pyenv/versions/3.9.0/lib/python3.9/site-packages/sqlalchemy/engine/default.py\u001b[0m in \u001b[0;36mdo_execute\u001b[0;34m(self, cursor, statement, parameters, context)\u001b[0m\n\u001b[1;32m    716\u001b[0m     \u001b[0;32mdef\u001b[0m \u001b[0mdo_execute\u001b[0m\u001b[0;34m(\u001b[0m\u001b[0mself\u001b[0m\u001b[0;34m,\u001b[0m \u001b[0mcursor\u001b[0m\u001b[0;34m,\u001b[0m \u001b[0mstatement\u001b[0m\u001b[0;34m,\u001b[0m \u001b[0mparameters\u001b[0m\u001b[0;34m,\u001b[0m \u001b[0mcontext\u001b[0m\u001b[0;34m=\u001b[0m\u001b[0;32mNone\u001b[0m\u001b[0;34m)\u001b[0m\u001b[0;34m:\u001b[0m\u001b[0;34m\u001b[0m\u001b[0;34m\u001b[0m\u001b[0m\n\u001b[0;32m--> 717\u001b[0;31m         \u001b[0mcursor\u001b[0m\u001b[0;34m.\u001b[0m\u001b[0mexecute\u001b[0m\u001b[0;34m(\u001b[0m\u001b[0mstatement\u001b[0m\u001b[0;34m,\u001b[0m \u001b[0mparameters\u001b[0m\u001b[0;34m)\u001b[0m\u001b[0;34m\u001b[0m\u001b[0;34m\u001b[0m\u001b[0m\n\u001b[0m\u001b[1;32m    718\u001b[0m \u001b[0;34m\u001b[0m\u001b[0m\n",
      "\u001b[0;32m~/.pyenv/versions/3.9.0/lib/python3.9/site-packages/mysql/connector/cursor.py\u001b[0m in \u001b[0;36mexecute\u001b[0;34m(self, operation, params, multi)\u001b[0m\n\u001b[1;32m    567\u001b[0m         \u001b[0;32mtry\u001b[0m\u001b[0;34m:\u001b[0m\u001b[0;34m\u001b[0m\u001b[0;34m\u001b[0m\u001b[0m\n\u001b[0;32m--> 568\u001b[0;31m             \u001b[0mself\u001b[0m\u001b[0;34m.\u001b[0m\u001b[0m_handle_result\u001b[0m\u001b[0;34m(\u001b[0m\u001b[0mself\u001b[0m\u001b[0;34m.\u001b[0m\u001b[0m_connection\u001b[0m\u001b[0;34m.\u001b[0m\u001b[0mcmd_query\u001b[0m\u001b[0;34m(\u001b[0m\u001b[0mstmt\u001b[0m\u001b[0;34m)\u001b[0m\u001b[0;34m)\u001b[0m\u001b[0;34m\u001b[0m\u001b[0;34m\u001b[0m\u001b[0m\n\u001b[0m\u001b[1;32m    569\u001b[0m         \u001b[0;32mexcept\u001b[0m \u001b[0merrors\u001b[0m\u001b[0;34m.\u001b[0m\u001b[0mInterfaceError\u001b[0m\u001b[0;34m:\u001b[0m\u001b[0;34m\u001b[0m\u001b[0;34m\u001b[0m\u001b[0m\n",
      "\u001b[0;32m~/.pyenv/versions/3.9.0/lib/python3.9/site-packages/mysql/connector/connection.py\u001b[0m in \u001b[0;36mcmd_query\u001b[0;34m(self, query, raw, buffered, raw_as_string)\u001b[0m\n\u001b[1;32m    685\u001b[0m         \u001b[0;32mtry\u001b[0m\u001b[0;34m:\u001b[0m\u001b[0;34m\u001b[0m\u001b[0;34m\u001b[0m\u001b[0m\n\u001b[0;32m--> 686\u001b[0;31m             \u001b[0mresult\u001b[0m \u001b[0;34m=\u001b[0m \u001b[0mself\u001b[0m\u001b[0;34m.\u001b[0m\u001b[0m_handle_result\u001b[0m\u001b[0;34m(\u001b[0m\u001b[0mself\u001b[0m\u001b[0;34m.\u001b[0m\u001b[0m_send_cmd\u001b[0m\u001b[0;34m(\u001b[0m\u001b[0mServerCmd\u001b[0m\u001b[0;34m.\u001b[0m\u001b[0mQUERY\u001b[0m\u001b[0;34m,\u001b[0m \u001b[0mquery\u001b[0m\u001b[0;34m)\u001b[0m\u001b[0;34m)\u001b[0m\u001b[0;34m\u001b[0m\u001b[0;34m\u001b[0m\u001b[0m\n\u001b[0m\u001b[1;32m    687\u001b[0m         \u001b[0;32mexcept\u001b[0m \u001b[0merrors\u001b[0m\u001b[0;34m.\u001b[0m\u001b[0mProgrammingError\u001b[0m \u001b[0;32mas\u001b[0m \u001b[0merr\u001b[0m\u001b[0;34m:\u001b[0m\u001b[0;34m\u001b[0m\u001b[0;34m\u001b[0m\u001b[0m\n",
      "\u001b[0;32m~/.pyenv/versions/3.9.0/lib/python3.9/site-packages/mysql/connector/connection.py\u001b[0m in \u001b[0;36m_handle_result\u001b[0;34m(self, packet)\u001b[0m\n\u001b[1;32m    572\u001b[0m         \u001b[0;32melif\u001b[0m \u001b[0mpacket\u001b[0m\u001b[0;34m[\u001b[0m\u001b[0;36m4\u001b[0m\u001b[0;34m]\u001b[0m \u001b[0;34m==\u001b[0m \u001b[0;36m255\u001b[0m\u001b[0;34m:\u001b[0m\u001b[0;34m\u001b[0m\u001b[0;34m\u001b[0m\u001b[0m\n\u001b[0;32m--> 573\u001b[0;31m             \u001b[0;32mraise\u001b[0m \u001b[0merrors\u001b[0m\u001b[0;34m.\u001b[0m\u001b[0mget_exception\u001b[0m\u001b[0;34m(\u001b[0m\u001b[0mpacket\u001b[0m\u001b[0;34m)\u001b[0m\u001b[0;34m\u001b[0m\u001b[0;34m\u001b[0m\u001b[0m\n\u001b[0m\u001b[1;32m    574\u001b[0m \u001b[0;34m\u001b[0m\u001b[0m\n",
      "\u001b[0;31mProgrammingError\u001b[0m: 1054 (42S22): Unknown column 'sources.name' in 'field list'",
      "\nThe above exception was the direct cause of the following exception:\n",
      "\u001b[0;31mProgrammingError\u001b[0m                          Traceback (most recent call last)",
      "\u001b[0;32m/var/folders/sx/x6pyh9097n98mlz29_6njdj00000gn/T/ipykernel_95374/1177748806.py\u001b[0m in \u001b[0;36m<module>\u001b[0;34m\u001b[0m\n\u001b[0;32m----> 1\u001b[0;31m \u001b[0msource\u001b[0m \u001b[0;34m=\u001b[0m \u001b[0msession\u001b[0m\u001b[0;34m.\u001b[0m\u001b[0mquery\u001b[0m\u001b[0;34m(\u001b[0m\u001b[0mSource\u001b[0m\u001b[0;34m)\u001b[0m\u001b[0;34m.\u001b[0m\u001b[0mwhere\u001b[0m\u001b[0;34m(\u001b[0m\u001b[0mEntity\u001b[0m\u001b[0;34m.\u001b[0m\u001b[0mpom_class\u001b[0m  \u001b[0;34m==\u001b[0m \u001b[0;34m'source'\u001b[0m\u001b[0;34m)\u001b[0m\u001b[0;34m.\u001b[0m\u001b[0mfirst\u001b[0m\u001b[0;34m(\u001b[0m\u001b[0;34m)\u001b[0m\u001b[0;34m\u001b[0m\u001b[0;34m\u001b[0m\u001b[0m\n\u001b[0m\u001b[1;32m      2\u001b[0m \u001b[0;34m\u001b[0m\u001b[0m\n\u001b[1;32m      3\u001b[0m \u001b[0mprint\u001b[0m\u001b[0;34m(\u001b[0m\u001b[0mrepr\u001b[0m\u001b[0;34m(\u001b[0m\u001b[0msource\u001b[0m\u001b[0;34m)\u001b[0m\u001b[0;34m)\u001b[0m\u001b[0;34m\u001b[0m\u001b[0;34m\u001b[0m\u001b[0m\n\u001b[1;32m      4\u001b[0m \u001b[0mprint\u001b[0m\u001b[0;34m(\u001b[0m\u001b[0msource\u001b[0m\u001b[0;34m)\u001b[0m\u001b[0;34m\u001b[0m\u001b[0;34m\u001b[0m\u001b[0m\n",
      "\u001b[0;32m~/.pyenv/versions/3.9.0/lib/python3.9/site-packages/sqlalchemy/orm/query.py\u001b[0m in \u001b[0;36mfirst\u001b[0;34m(self)\u001b[0m\n\u001b[1;32m   2760\u001b[0m             \u001b[0;32mreturn\u001b[0m \u001b[0mself\u001b[0m\u001b[0;34m.\u001b[0m\u001b[0m_iter\u001b[0m\u001b[0;34m(\u001b[0m\u001b[0;34m)\u001b[0m\u001b[0;34m.\u001b[0m\u001b[0mfirst\u001b[0m\u001b[0;34m(\u001b[0m\u001b[0;34m)\u001b[0m\u001b[0;34m\u001b[0m\u001b[0;34m\u001b[0m\u001b[0m\n\u001b[1;32m   2761\u001b[0m         \u001b[0;32melse\u001b[0m\u001b[0;34m:\u001b[0m\u001b[0;34m\u001b[0m\u001b[0;34m\u001b[0m\u001b[0m\n\u001b[0;32m-> 2762\u001b[0;31m             \u001b[0;32mreturn\u001b[0m \u001b[0mself\u001b[0m\u001b[0;34m.\u001b[0m\u001b[0mlimit\u001b[0m\u001b[0;34m(\u001b[0m\u001b[0;36m1\u001b[0m\u001b[0;34m)\u001b[0m\u001b[0;34m.\u001b[0m\u001b[0m_iter\u001b[0m\u001b[0;34m(\u001b[0m\u001b[0;34m)\u001b[0m\u001b[0;34m.\u001b[0m\u001b[0mfirst\u001b[0m\u001b[0;34m(\u001b[0m\u001b[0;34m)\u001b[0m\u001b[0;34m\u001b[0m\u001b[0;34m\u001b[0m\u001b[0m\n\u001b[0m\u001b[1;32m   2763\u001b[0m \u001b[0;34m\u001b[0m\u001b[0m\n\u001b[1;32m   2764\u001b[0m     \u001b[0;32mdef\u001b[0m \u001b[0mone_or_none\u001b[0m\u001b[0;34m(\u001b[0m\u001b[0mself\u001b[0m\u001b[0;34m)\u001b[0m\u001b[0;34m:\u001b[0m\u001b[0;34m\u001b[0m\u001b[0;34m\u001b[0m\u001b[0m\n",
      "\u001b[0;32m~/.pyenv/versions/3.9.0/lib/python3.9/site-packages/sqlalchemy/orm/query.py\u001b[0m in \u001b[0;36m_iter\u001b[0;34m(self)\u001b[0m\n\u001b[1;32m   2844\u001b[0m \u001b[0;34m\u001b[0m\u001b[0m\n\u001b[1;32m   2845\u001b[0m         \u001b[0mstatement\u001b[0m \u001b[0;34m=\u001b[0m \u001b[0mself\u001b[0m\u001b[0;34m.\u001b[0m\u001b[0m_statement_20\u001b[0m\u001b[0;34m(\u001b[0m\u001b[0;34m)\u001b[0m\u001b[0;34m\u001b[0m\u001b[0;34m\u001b[0m\u001b[0m\n\u001b[0;32m-> 2846\u001b[0;31m         result = self.session.execute(\n\u001b[0m\u001b[1;32m   2847\u001b[0m             \u001b[0mstatement\u001b[0m\u001b[0;34m,\u001b[0m\u001b[0;34m\u001b[0m\u001b[0;34m\u001b[0m\u001b[0m\n\u001b[1;32m   2848\u001b[0m             \u001b[0mparams\u001b[0m\u001b[0;34m,\u001b[0m\u001b[0;34m\u001b[0m\u001b[0;34m\u001b[0m\u001b[0m\n",
      "\u001b[0;32m~/.pyenv/versions/3.9.0/lib/python3.9/site-packages/sqlalchemy/orm/session.py\u001b[0m in \u001b[0;36mexecute\u001b[0;34m(self, statement, params, execution_options, bind_arguments, _parent_execute_state, _add_event, **kw)\u001b[0m\n\u001b[1;32m   1687\u001b[0m         \u001b[0;32melse\u001b[0m\u001b[0;34m:\u001b[0m\u001b[0;34m\u001b[0m\u001b[0;34m\u001b[0m\u001b[0m\n\u001b[1;32m   1688\u001b[0m             \u001b[0mconn\u001b[0m \u001b[0;34m=\u001b[0m \u001b[0mself\u001b[0m\u001b[0;34m.\u001b[0m\u001b[0m_connection_for_bind\u001b[0m\u001b[0;34m(\u001b[0m\u001b[0mbind\u001b[0m\u001b[0;34m)\u001b[0m\u001b[0;34m\u001b[0m\u001b[0;34m\u001b[0m\u001b[0m\n\u001b[0;32m-> 1689\u001b[0;31m         \u001b[0mresult\u001b[0m \u001b[0;34m=\u001b[0m \u001b[0mconn\u001b[0m\u001b[0;34m.\u001b[0m\u001b[0m_execute_20\u001b[0m\u001b[0;34m(\u001b[0m\u001b[0mstatement\u001b[0m\u001b[0;34m,\u001b[0m \u001b[0mparams\u001b[0m \u001b[0;32mor\u001b[0m \u001b[0;34m{\u001b[0m\u001b[0;34m}\u001b[0m\u001b[0;34m,\u001b[0m \u001b[0mexecution_options\u001b[0m\u001b[0;34m)\u001b[0m\u001b[0;34m\u001b[0m\u001b[0;34m\u001b[0m\u001b[0m\n\u001b[0m\u001b[1;32m   1690\u001b[0m \u001b[0;34m\u001b[0m\u001b[0m\n\u001b[1;32m   1691\u001b[0m         \u001b[0;32mif\u001b[0m \u001b[0mcompile_state_cls\u001b[0m\u001b[0;34m:\u001b[0m\u001b[0;34m\u001b[0m\u001b[0;34m\u001b[0m\u001b[0m\n",
      "\u001b[0;32m~/.pyenv/versions/3.9.0/lib/python3.9/site-packages/sqlalchemy/engine/base.py\u001b[0m in \u001b[0;36m_execute_20\u001b[0;34m(self, statement, parameters, execution_options)\u001b[0m\n\u001b[1;32m   1581\u001b[0m             )\n\u001b[1;32m   1582\u001b[0m         \u001b[0;32melse\u001b[0m\u001b[0;34m:\u001b[0m\u001b[0;34m\u001b[0m\u001b[0;34m\u001b[0m\u001b[0m\n\u001b[0;32m-> 1583\u001b[0;31m             \u001b[0;32mreturn\u001b[0m \u001b[0mmeth\u001b[0m\u001b[0;34m(\u001b[0m\u001b[0mself\u001b[0m\u001b[0;34m,\u001b[0m \u001b[0margs_10style\u001b[0m\u001b[0;34m,\u001b[0m \u001b[0mkwargs_10style\u001b[0m\u001b[0;34m,\u001b[0m \u001b[0mexecution_options\u001b[0m\u001b[0;34m)\u001b[0m\u001b[0;34m\u001b[0m\u001b[0;34m\u001b[0m\u001b[0m\n\u001b[0m\u001b[1;32m   1584\u001b[0m \u001b[0;34m\u001b[0m\u001b[0m\n\u001b[1;32m   1585\u001b[0m     def exec_driver_sql(\n",
      "\u001b[0;32m~/.pyenv/versions/3.9.0/lib/python3.9/site-packages/sqlalchemy/sql/elements.py\u001b[0m in \u001b[0;36m_execute_on_connection\u001b[0;34m(self, connection, multiparams, params, execution_options, _force)\u001b[0m\n\u001b[1;32m    321\u001b[0m     ):\n\u001b[1;32m    322\u001b[0m         \u001b[0;32mif\u001b[0m \u001b[0m_force\u001b[0m \u001b[0;32mor\u001b[0m \u001b[0mself\u001b[0m\u001b[0;34m.\u001b[0m\u001b[0msupports_execution\u001b[0m\u001b[0;34m:\u001b[0m\u001b[0;34m\u001b[0m\u001b[0;34m\u001b[0m\u001b[0m\n\u001b[0;32m--> 323\u001b[0;31m             return connection._execute_clauseelement(\n\u001b[0m\u001b[1;32m    324\u001b[0m                 \u001b[0mself\u001b[0m\u001b[0;34m,\u001b[0m \u001b[0mmultiparams\u001b[0m\u001b[0;34m,\u001b[0m \u001b[0mparams\u001b[0m\u001b[0;34m,\u001b[0m \u001b[0mexecution_options\u001b[0m\u001b[0;34m\u001b[0m\u001b[0;34m\u001b[0m\u001b[0m\n\u001b[1;32m    325\u001b[0m             )\n",
      "\u001b[0;32m~/.pyenv/versions/3.9.0/lib/python3.9/site-packages/sqlalchemy/engine/base.py\u001b[0m in \u001b[0;36m_execute_clauseelement\u001b[0;34m(self, elem, multiparams, params, execution_options)\u001b[0m\n\u001b[1;32m   1450\u001b[0m             \u001b[0mlinting\u001b[0m\u001b[0;34m=\u001b[0m\u001b[0mself\u001b[0m\u001b[0;34m.\u001b[0m\u001b[0mdialect\u001b[0m\u001b[0;34m.\u001b[0m\u001b[0mcompiler_linting\u001b[0m \u001b[0;34m|\u001b[0m \u001b[0mcompiler\u001b[0m\u001b[0;34m.\u001b[0m\u001b[0mWARN_LINTING\u001b[0m\u001b[0;34m,\u001b[0m\u001b[0;34m\u001b[0m\u001b[0;34m\u001b[0m\u001b[0m\n\u001b[1;32m   1451\u001b[0m         )\n\u001b[0;32m-> 1452\u001b[0;31m         ret = self._execute_context(\n\u001b[0m\u001b[1;32m   1453\u001b[0m             \u001b[0mdialect\u001b[0m\u001b[0;34m,\u001b[0m\u001b[0;34m\u001b[0m\u001b[0;34m\u001b[0m\u001b[0m\n\u001b[1;32m   1454\u001b[0m             \u001b[0mdialect\u001b[0m\u001b[0;34m.\u001b[0m\u001b[0mexecution_ctx_cls\u001b[0m\u001b[0;34m.\u001b[0m\u001b[0m_init_compiled\u001b[0m\u001b[0;34m,\u001b[0m\u001b[0;34m\u001b[0m\u001b[0;34m\u001b[0m\u001b[0m\n",
      "\u001b[0;32m~/.pyenv/versions/3.9.0/lib/python3.9/site-packages/sqlalchemy/engine/base.py\u001b[0m in \u001b[0;36m_execute_context\u001b[0;34m(self, dialect, constructor, statement, parameters, execution_options, *args, **kw)\u001b[0m\n\u001b[1;32m   1812\u001b[0m \u001b[0;34m\u001b[0m\u001b[0m\n\u001b[1;32m   1813\u001b[0m         \u001b[0;32mexcept\u001b[0m \u001b[0mBaseException\u001b[0m \u001b[0;32mas\u001b[0m \u001b[0me\u001b[0m\u001b[0;34m:\u001b[0m\u001b[0;34m\u001b[0m\u001b[0;34m\u001b[0m\u001b[0m\n\u001b[0;32m-> 1814\u001b[0;31m             self._handle_dbapi_exception(\n\u001b[0m\u001b[1;32m   1815\u001b[0m                 \u001b[0me\u001b[0m\u001b[0;34m,\u001b[0m \u001b[0mstatement\u001b[0m\u001b[0;34m,\u001b[0m \u001b[0mparameters\u001b[0m\u001b[0;34m,\u001b[0m \u001b[0mcursor\u001b[0m\u001b[0;34m,\u001b[0m \u001b[0mcontext\u001b[0m\u001b[0;34m\u001b[0m\u001b[0;34m\u001b[0m\u001b[0m\n\u001b[1;32m   1816\u001b[0m             )\n",
      "\u001b[0;32m~/.pyenv/versions/3.9.0/lib/python3.9/site-packages/sqlalchemy/engine/base.py\u001b[0m in \u001b[0;36m_handle_dbapi_exception\u001b[0;34m(self, e, statement, parameters, cursor, context)\u001b[0m\n\u001b[1;32m   1993\u001b[0m                 \u001b[0mutil\u001b[0m\u001b[0;34m.\u001b[0m\u001b[0mraise_\u001b[0m\u001b[0;34m(\u001b[0m\u001b[0mnewraise\u001b[0m\u001b[0;34m,\u001b[0m \u001b[0mwith_traceback\u001b[0m\u001b[0;34m=\u001b[0m\u001b[0mexc_info\u001b[0m\u001b[0;34m[\u001b[0m\u001b[0;36m2\u001b[0m\u001b[0;34m]\u001b[0m\u001b[0;34m,\u001b[0m \u001b[0mfrom_\u001b[0m\u001b[0;34m=\u001b[0m\u001b[0me\u001b[0m\u001b[0;34m)\u001b[0m\u001b[0;34m\u001b[0m\u001b[0;34m\u001b[0m\u001b[0m\n\u001b[1;32m   1994\u001b[0m             \u001b[0;32melif\u001b[0m \u001b[0mshould_wrap\u001b[0m\u001b[0;34m:\u001b[0m\u001b[0;34m\u001b[0m\u001b[0;34m\u001b[0m\u001b[0m\n\u001b[0;32m-> 1995\u001b[0;31m                 util.raise_(\n\u001b[0m\u001b[1;32m   1996\u001b[0m                     \u001b[0msqlalchemy_exception\u001b[0m\u001b[0;34m,\u001b[0m \u001b[0mwith_traceback\u001b[0m\u001b[0;34m=\u001b[0m\u001b[0mexc_info\u001b[0m\u001b[0;34m[\u001b[0m\u001b[0;36m2\u001b[0m\u001b[0;34m]\u001b[0m\u001b[0;34m,\u001b[0m \u001b[0mfrom_\u001b[0m\u001b[0;34m=\u001b[0m\u001b[0me\u001b[0m\u001b[0;34m\u001b[0m\u001b[0;34m\u001b[0m\u001b[0m\n\u001b[1;32m   1997\u001b[0m                 )\n",
      "\u001b[0;32m~/.pyenv/versions/3.9.0/lib/python3.9/site-packages/sqlalchemy/util/compat.py\u001b[0m in \u001b[0;36mraise_\u001b[0;34m(***failed resolving arguments***)\u001b[0m\n\u001b[1;32m    205\u001b[0m \u001b[0;34m\u001b[0m\u001b[0m\n\u001b[1;32m    206\u001b[0m         \u001b[0;32mtry\u001b[0m\u001b[0;34m:\u001b[0m\u001b[0;34m\u001b[0m\u001b[0;34m\u001b[0m\u001b[0m\n\u001b[0;32m--> 207\u001b[0;31m             \u001b[0;32mraise\u001b[0m \u001b[0mexception\u001b[0m\u001b[0;34m\u001b[0m\u001b[0;34m\u001b[0m\u001b[0m\n\u001b[0m\u001b[1;32m    208\u001b[0m         \u001b[0;32mfinally\u001b[0m\u001b[0;34m:\u001b[0m\u001b[0;34m\u001b[0m\u001b[0;34m\u001b[0m\u001b[0m\n\u001b[1;32m    209\u001b[0m             \u001b[0;31m# credit to\u001b[0m\u001b[0;34m\u001b[0m\u001b[0;34m\u001b[0m\u001b[0;34m\u001b[0m\u001b[0m\n",
      "\u001b[0;32m~/.pyenv/versions/3.9.0/lib/python3.9/site-packages/sqlalchemy/engine/base.py\u001b[0m in \u001b[0;36m_execute_context\u001b[0;34m(self, dialect, constructor, statement, parameters, execution_options, *args, **kw)\u001b[0m\n\u001b[1;32m   1769\u001b[0m                             \u001b[0;32mbreak\u001b[0m\u001b[0;34m\u001b[0m\u001b[0;34m\u001b[0m\u001b[0m\n\u001b[1;32m   1770\u001b[0m                 \u001b[0;32mif\u001b[0m \u001b[0;32mnot\u001b[0m \u001b[0mevt_handled\u001b[0m\u001b[0;34m:\u001b[0m\u001b[0;34m\u001b[0m\u001b[0;34m\u001b[0m\u001b[0m\n\u001b[0;32m-> 1771\u001b[0;31m                     self.dialect.do_execute(\n\u001b[0m\u001b[1;32m   1772\u001b[0m                         \u001b[0mcursor\u001b[0m\u001b[0;34m,\u001b[0m \u001b[0mstatement\u001b[0m\u001b[0;34m,\u001b[0m \u001b[0mparameters\u001b[0m\u001b[0;34m,\u001b[0m \u001b[0mcontext\u001b[0m\u001b[0;34m\u001b[0m\u001b[0;34m\u001b[0m\u001b[0m\n\u001b[1;32m   1773\u001b[0m                     )\n",
      "\u001b[0;32m~/.pyenv/versions/3.9.0/lib/python3.9/site-packages/sqlalchemy/engine/default.py\u001b[0m in \u001b[0;36mdo_execute\u001b[0;34m(self, cursor, statement, parameters, context)\u001b[0m\n\u001b[1;32m    715\u001b[0m \u001b[0;34m\u001b[0m\u001b[0m\n\u001b[1;32m    716\u001b[0m     \u001b[0;32mdef\u001b[0m \u001b[0mdo_execute\u001b[0m\u001b[0;34m(\u001b[0m\u001b[0mself\u001b[0m\u001b[0;34m,\u001b[0m \u001b[0mcursor\u001b[0m\u001b[0;34m,\u001b[0m \u001b[0mstatement\u001b[0m\u001b[0;34m,\u001b[0m \u001b[0mparameters\u001b[0m\u001b[0;34m,\u001b[0m \u001b[0mcontext\u001b[0m\u001b[0;34m=\u001b[0m\u001b[0;32mNone\u001b[0m\u001b[0;34m)\u001b[0m\u001b[0;34m:\u001b[0m\u001b[0;34m\u001b[0m\u001b[0;34m\u001b[0m\u001b[0m\n\u001b[0;32m--> 717\u001b[0;31m         \u001b[0mcursor\u001b[0m\u001b[0;34m.\u001b[0m\u001b[0mexecute\u001b[0m\u001b[0;34m(\u001b[0m\u001b[0mstatement\u001b[0m\u001b[0;34m,\u001b[0m \u001b[0mparameters\u001b[0m\u001b[0;34m)\u001b[0m\u001b[0;34m\u001b[0m\u001b[0;34m\u001b[0m\u001b[0m\n\u001b[0m\u001b[1;32m    718\u001b[0m \u001b[0;34m\u001b[0m\u001b[0m\n\u001b[1;32m    719\u001b[0m     \u001b[0;32mdef\u001b[0m \u001b[0mdo_execute_no_params\u001b[0m\u001b[0;34m(\u001b[0m\u001b[0mself\u001b[0m\u001b[0;34m,\u001b[0m \u001b[0mcursor\u001b[0m\u001b[0;34m,\u001b[0m \u001b[0mstatement\u001b[0m\u001b[0;34m,\u001b[0m \u001b[0mcontext\u001b[0m\u001b[0;34m=\u001b[0m\u001b[0;32mNone\u001b[0m\u001b[0;34m)\u001b[0m\u001b[0;34m:\u001b[0m\u001b[0;34m\u001b[0m\u001b[0;34m\u001b[0m\u001b[0m\n",
      "\u001b[0;32m~/.pyenv/versions/3.9.0/lib/python3.9/site-packages/mysql/connector/cursor.py\u001b[0m in \u001b[0;36mexecute\u001b[0;34m(self, operation, params, multi)\u001b[0m\n\u001b[1;32m    566\u001b[0m \u001b[0;34m\u001b[0m\u001b[0m\n\u001b[1;32m    567\u001b[0m         \u001b[0;32mtry\u001b[0m\u001b[0;34m:\u001b[0m\u001b[0;34m\u001b[0m\u001b[0;34m\u001b[0m\u001b[0m\n\u001b[0;32m--> 568\u001b[0;31m             \u001b[0mself\u001b[0m\u001b[0;34m.\u001b[0m\u001b[0m_handle_result\u001b[0m\u001b[0;34m(\u001b[0m\u001b[0mself\u001b[0m\u001b[0;34m.\u001b[0m\u001b[0m_connection\u001b[0m\u001b[0;34m.\u001b[0m\u001b[0mcmd_query\u001b[0m\u001b[0;34m(\u001b[0m\u001b[0mstmt\u001b[0m\u001b[0;34m)\u001b[0m\u001b[0;34m)\u001b[0m\u001b[0;34m\u001b[0m\u001b[0;34m\u001b[0m\u001b[0m\n\u001b[0m\u001b[1;32m    569\u001b[0m         \u001b[0;32mexcept\u001b[0m \u001b[0merrors\u001b[0m\u001b[0;34m.\u001b[0m\u001b[0mInterfaceError\u001b[0m\u001b[0;34m:\u001b[0m\u001b[0;34m\u001b[0m\u001b[0;34m\u001b[0m\u001b[0m\n\u001b[1;32m    570\u001b[0m             \u001b[0;32mif\u001b[0m \u001b[0mself\u001b[0m\u001b[0;34m.\u001b[0m\u001b[0m_connection\u001b[0m\u001b[0;34m.\u001b[0m\u001b[0m_have_next_result\u001b[0m\u001b[0;34m:\u001b[0m  \u001b[0;31m# pylint: disable=W0212\u001b[0m\u001b[0;34m\u001b[0m\u001b[0;34m\u001b[0m\u001b[0m\n",
      "\u001b[0;32m~/.pyenv/versions/3.9.0/lib/python3.9/site-packages/mysql/connector/connection.py\u001b[0m in \u001b[0;36mcmd_query\u001b[0;34m(self, query, raw, buffered, raw_as_string)\u001b[0m\n\u001b[1;32m    684\u001b[0m             \u001b[0mquery\u001b[0m \u001b[0;34m=\u001b[0m \u001b[0mquery\u001b[0m\u001b[0;34m.\u001b[0m\u001b[0mencode\u001b[0m\u001b[0;34m(\u001b[0m\u001b[0;34m'utf-8'\u001b[0m\u001b[0;34m)\u001b[0m\u001b[0;34m\u001b[0m\u001b[0;34m\u001b[0m\u001b[0m\n\u001b[1;32m    685\u001b[0m         \u001b[0;32mtry\u001b[0m\u001b[0;34m:\u001b[0m\u001b[0;34m\u001b[0m\u001b[0;34m\u001b[0m\u001b[0m\n\u001b[0;32m--> 686\u001b[0;31m             \u001b[0mresult\u001b[0m \u001b[0;34m=\u001b[0m \u001b[0mself\u001b[0m\u001b[0;34m.\u001b[0m\u001b[0m_handle_result\u001b[0m\u001b[0;34m(\u001b[0m\u001b[0mself\u001b[0m\u001b[0;34m.\u001b[0m\u001b[0m_send_cmd\u001b[0m\u001b[0;34m(\u001b[0m\u001b[0mServerCmd\u001b[0m\u001b[0;34m.\u001b[0m\u001b[0mQUERY\u001b[0m\u001b[0;34m,\u001b[0m \u001b[0mquery\u001b[0m\u001b[0;34m)\u001b[0m\u001b[0;34m)\u001b[0m\u001b[0;34m\u001b[0m\u001b[0;34m\u001b[0m\u001b[0m\n\u001b[0m\u001b[1;32m    687\u001b[0m         \u001b[0;32mexcept\u001b[0m \u001b[0merrors\u001b[0m\u001b[0;34m.\u001b[0m\u001b[0mProgrammingError\u001b[0m \u001b[0;32mas\u001b[0m \u001b[0merr\u001b[0m\u001b[0;34m:\u001b[0m\u001b[0;34m\u001b[0m\u001b[0;34m\u001b[0m\u001b[0m\n\u001b[1;32m    688\u001b[0m             \u001b[0;32mif\u001b[0m \u001b[0merr\u001b[0m\u001b[0;34m.\u001b[0m\u001b[0merrno\u001b[0m \u001b[0;34m==\u001b[0m \u001b[0;36m3948\u001b[0m \u001b[0;32mand\u001b[0m\u001b[0;31m \u001b[0m\u001b[0;31m\\\u001b[0m\u001b[0;34m\u001b[0m\u001b[0;34m\u001b[0m\u001b[0m\n",
      "\u001b[0;32m~/.pyenv/versions/3.9.0/lib/python3.9/site-packages/mysql/connector/connection.py\u001b[0m in \u001b[0;36m_handle_result\u001b[0;34m(self, packet)\u001b[0m\n\u001b[1;32m    571\u001b[0m             \u001b[0;32mreturn\u001b[0m \u001b[0mself\u001b[0m\u001b[0;34m.\u001b[0m\u001b[0m_handle_eof\u001b[0m\u001b[0;34m(\u001b[0m\u001b[0mpacket\u001b[0m\u001b[0;34m)\u001b[0m\u001b[0;34m\u001b[0m\u001b[0;34m\u001b[0m\u001b[0m\n\u001b[1;32m    572\u001b[0m         \u001b[0;32melif\u001b[0m \u001b[0mpacket\u001b[0m\u001b[0;34m[\u001b[0m\u001b[0;36m4\u001b[0m\u001b[0;34m]\u001b[0m \u001b[0;34m==\u001b[0m \u001b[0;36m255\u001b[0m\u001b[0;34m:\u001b[0m\u001b[0;34m\u001b[0m\u001b[0;34m\u001b[0m\u001b[0m\n\u001b[0;32m--> 573\u001b[0;31m             \u001b[0;32mraise\u001b[0m \u001b[0merrors\u001b[0m\u001b[0;34m.\u001b[0m\u001b[0mget_exception\u001b[0m\u001b[0;34m(\u001b[0m\u001b[0mpacket\u001b[0m\u001b[0;34m)\u001b[0m\u001b[0;34m\u001b[0m\u001b[0;34m\u001b[0m\u001b[0m\n\u001b[0m\u001b[1;32m    574\u001b[0m \u001b[0;34m\u001b[0m\u001b[0m\n\u001b[1;32m    575\u001b[0m         \u001b[0;31m# We have a text result set\u001b[0m\u001b[0;34m\u001b[0m\u001b[0;34m\u001b[0m\u001b[0;34m\u001b[0m\u001b[0m\n",
      "\u001b[0;31mProgrammingError\u001b[0m: (mysql.connector.errors.ProgrammingError) 1054 (42S22): Unknown column 'sources.name' in 'field list'\n[SQL: SELECT entities.class AS entities_class, sources.id AS sources_id, entities.id AS entities_id, entities.inside AS entities_inside, entities.the_order AS entities_the_order, entities.the_level AS entities_the_level, entities.the_line AS entities_the_line, entities.groupname AS entities_groupname, entities.updated AS entities_updated, entities.indexed AS entities_indexed, sources.name AS sources_name, sources.the_type AS sources_the_type, sources.the_date AS sources_the_date, sources.loc AS sources_loc, sources.ref AS sources_ref, sources.kleiofile AS sources_kleiofile, sources.replaces AS sources_replaces, sources.obs AS sources_obs \nFROM entities INNER JOIN sources ON entities.id = sources.id \nWHERE entities.class = %(class_1)s \n LIMIT %(param_1)s]\n[parameters: {'class_1': 'source', 'param_1': 1}]\n(Background on this error at: https://sqlalche.me/e/14/f405)"
     ]
    }
   ],
   "source": [
    "source = session.query(Source).where(Entity.pom_class  == 'source').first()\n",
    "\n",
    "print(repr(source))\n",
    "print(source)"
   ]
  },
  {
   "cell_type": "code",
   "execution_count": 65,
   "metadata": {},
   "outputs": [
    {
     "name": "stdout",
     "output_type": "stream",
     "text": [
      "[<class '__main__.Person'>]\n",
      "persons\n"
     ]
    }
   ],
   "source": [
    "print(Entity.__subclasses__())\n",
    "for aclass in Entity.__subclasses__():\n",
    "    print(aclass.__tablename__)"
   ]
  },
  {
   "cell_type": "markdown",
   "metadata": {},
   "source": []
  },
  {
   "cell_type": "code",
   "execution_count": 63,
   "metadata": {},
   "outputs": [
    {
     "name": "stdout",
     "output_type": "stream",
     "text": [
      "SELECT entities.class, persons.id, entities.id AS id_1, entities.inside, entities.the_order, entities.the_level, entities.the_line, entities.groupname, entities.updated, entities.indexed, persons.name, persons.sex, persons.obs \n",
      "FROM entities JOIN persons ON entities.id = persons.id \n",
      "WHERE persons.id = :id_2\n",
      "n$Arnaldo Henriques de Abreu/id=140625#person\n",
      "     ls$código-de-referência/\"PT/AUC/ELU/UC-AUC/B/001-001/A/000336\"/20200211\n",
      "     ls$data-do-registo/2018-04-19 14:33:58/20200211\n",
      "     ls$url/\"https://pesquisa.auc.uc.pt/details?id=140625\"/20200211\n",
      "     ls$uc.entrada/1835-10-17/1835-10-17\n",
      "     ls$uc.saida/1838-10-09/1838-10-09\n",
      "     ls$uc.entrada.ano/1835/1835-10-17\n",
      "     ls$uc.saida.ano/1838/1838-10-09\n",
      "     ls$nome/Arnaldo Henriques de Abreu/1835-10-17\n",
      "     ls$nome.primeiro/Arnaldo/1835-10-17\n",
      "     ls$nome.apelido/Henriques de Abreu/1835-10-17\n",
      "     ls$nome.apelido/Abreu/1835-10-17\n",
      "     ls$naturalidade/Porto/1835-10-17\n",
      "     ls$naturalidade.ano/Porto.1835/1835-10-17\n",
      "     ls$nome-geografico/Porto/1835-10-17\n",
      "     ls$nome-geografico.ano/Porto.1835/1835-10-17\n",
      "     ls$faculdade/Matemática/1835-10-17\n",
      "     ls$faculdade.ano/Matemática.1835/1835-10-17\n",
      "     ls$matricula/Matemática/1835-10-17/obs=\"1835/10/17 (obrigado)\"\n",
      "     ls$matricula.ano/Matemática.1835/1835-10-17/obs=\"1835/10/17 (obrigado)\"\n",
      "     ls$matricula/Matemática/1835-10-17/obs=\"1835/10/17 (obrigado)\"\n",
      "     ls$matricula.ano/Matemática.1835/1835-10-17/obs=\"1835/10/17 (obrigado)\"\n",
      "     ls$matricula/Matemática/1838-10-09/obs=\"1838/10/09\"\n",
      "     ls$matricula.ano/Matemática.1838/1838-10-09/obs=\"1838/10/09\"\n",
      ">     rel$function-in-act/n/auc-alumni-A-140337-140771/20200211\n"
     ]
    }
   ],
   "source": [
    "from sqlalchemy import select\n",
    "from sqlalchemy.orm import Session\n",
    "\n",
    "stmt = select(Person).first()\n",
    "print(stmt)\n",
    "with Session(engine) as session:\n",
    "    for row in session.execute(stmt):\n",
    "        entity: Entity=row[0]\n",
    "        print(f'{entity.groupname}${entity.name}/id={entity.id}#{entity.pom_class}')\n",
    "        for attribute in entity.attributes:\n",
    "            print(f'     ls${attribute.the_type}/{attribute.the_value}/{attribute.the_date}',end='')\n",
    "            if attribute.obs is not None:\n",
    "                print(f'/obs={attribute.obs}')\n",
    "            else:\n",
    "                print()\n",
    "        if len(entity.rels_out)>0:\n",
    "            for rel in entity.rels_out:\n",
    "                print(f'>{rel}')\n",
    "        if len(entity.rels_in)>0:\n",
    "            for rel in entity.rels_in:\n",
    "                    print(rel,'<')               \n"
   ]
  },
  {
   "cell_type": "markdown",
   "metadata": {},
   "source": [
    "## Source files"
   ]
  },
  {
   "cell_type": "code",
   "execution_count": 37,
   "metadata": {},
   "outputs": [
    {
     "name": "stdout",
     "output_type": "stream",
     "text": [
      "Number of kleio_files: 235\n",
      "235 rows affected.\n",
      "Number of imported files: 235\n",
      "Files not in the database: set()\n",
      "Imported sources no file found: set()\n"
     ]
    }
   ],
   "source": [
    "from pathlib import Path\n",
    "\n",
    "kleio_files = [f.stem for f in list(Path('../sources').rglob('*.cli'))]\n",
    "print(\"Number of kleio_files:\", len(kleio_files))\n",
    "\n",
    "imported_sources = %sql select sources.id, sources.kleiofile, entities.updated from sources left join entities on (sources.id=entities.id) order by updated desc \n",
    "sources_in_db = [s.id for s in imported_sources]\n",
    "print(\"Number of imported files:\",len(sources_in_db))\n",
    "\n",
    "print(\"Files not in the database:\", set(kleio_files)-set(sources_in_db))\n",
    "print(\"Imported sources no file found:\", set(sources_in_db)-set(kleio_files))\n",
    "\n"
   ]
  },
  {
   "cell_type": "markdown",
   "metadata": {},
   "source": []
  },
  {
   "cell_type": "markdown",
   "metadata": {},
   "source": [
    "## Analyse attributes extracted from records"
   ]
  },
  {
   "cell_type": "markdown",
   "metadata": {},
   "source": [
    "### Attributes in the database"
   ]
  },
  {
   "cell_type": "code",
   "execution_count": 8,
   "metadata": {},
   "outputs": [
    {
     "name": "stdout",
     "output_type": "stream",
     "text": [
      "28 rows affected.\n",
      "105300 | código-de-referência\n",
      "   275 | colegio\n",
      "105300 | data-do-registo\n",
      "   186 | ec\n",
      " 53627 | exame\n",
      " 94164 | faculdade\n",
      " 94164 | faculdade.ano\n",
      "106372 | grau\n",
      "106372 | grau.ano\n",
      "319291 | matricula\n",
      "319291 | matricula.ano\n",
      " 98904 | naturalidade\n",
      " 98904 | naturalidade.ano\n",
      "105300 | nome\n",
      "107486 | nome-geografico\n",
      "101392 | nome-geografico.ano\n",
      "198660 | nome.apelido\n",
      "105300 | nome.primeiro\n",
      "  8155 | nome.vide\n",
      "  9975 | nota\n",
      "  3142 | ordem-religiosa\n",
      "  7036 | padre\n",
      "  4170 | titulo\n",
      "105300 | uc.entrada\n",
      " 99014 | uc.entrada.ano\n",
      "105300 | uc.saida\n",
      " 99281 | uc.saida.ano\n",
      "105300 | url\n"
     ]
    }
   ],
   "source": [
    "nml = %sql select the_type, count(*) as tot from attributes group by the_type\n",
    "for the_type, tot in nml:\n",
    "    print(f'{tot:6} | {the_type}')"
   ]
  },
  {
   "cell_type": "code",
   "execution_count": 11,
   "metadata": {},
   "outputs": [
    {
     "name": "stdout",
     "output_type": "stream",
     "text": [
      "473 rows affected.\n"
     ]
    },
    {
     "ename": "ValueError",
     "evalue": "Unknown format code 'r' for object of type 'str'",
     "output_type": "error",
     "traceback": [
      "\u001b[0;31m---------------------------------------------------------------------------\u001b[0m",
      "\u001b[0;31mValueError\u001b[0m                                Traceback (most recent call last)",
      "\u001b[0;32m/tmp/ipykernel_428226/4098037847.py\u001b[0m in \u001b[0;36m<module>\u001b[0;34m\u001b[0m\n\u001b[1;32m      1\u001b[0m \u001b[0mp1540\u001b[0m \u001b[0;34m=\u001b[0m \u001b[0mget_ipython\u001b[0m\u001b[0;34m(\u001b[0m\u001b[0;34m)\u001b[0m\u001b[0;34m.\u001b[0m\u001b[0mrun_line_magic\u001b[0m\u001b[0;34m(\u001b[0m\u001b[0;34m'sql'\u001b[0m\u001b[0;34m,\u001b[0m \u001b[0;34m\"select id, name, pobs from nattributes where the_type='uc.entrada' and the_value like '1540%'\"\u001b[0m\u001b[0;34m)\u001b[0m\u001b[0;34m\u001b[0m\u001b[0;34m\u001b[0m\u001b[0m\n\u001b[1;32m      2\u001b[0m \u001b[0;32mfor\u001b[0m \u001b[0mid\u001b[0m\u001b[0;34m,\u001b[0m \u001b[0mname\u001b[0m\u001b[0;34m,\u001b[0m \u001b[0mpobs\u001b[0m \u001b[0;32min\u001b[0m \u001b[0mp1540\u001b[0m\u001b[0;34m:\u001b[0m\u001b[0;34m\u001b[0m\u001b[0;34m\u001b[0m\u001b[0m\n\u001b[0;32m----> 3\u001b[0;31m     \u001b[0mprint\u001b[0m\u001b[0;34m(\u001b[0m\u001b[0;34mf'{id:r} | {name} \\n {pobs}\\n\\n'\u001b[0m\u001b[0;34m)\u001b[0m\u001b[0;34m\u001b[0m\u001b[0;34m\u001b[0m\u001b[0m\n\u001b[0m",
      "\u001b[0;31mValueError\u001b[0m: Unknown format code 'r' for object of type 'str'"
     ]
    }
   ],
   "source": [
    "p1540 = %sql select id, name, pobs from nattributes where the_type='uc.entrada' and the_value like '1540%'\n",
    "for id, name, pobs in p1540:\n",
    "    print(f'{id:5} | {name} \\n {pobs}\\n\\n')"
   ]
  }
 ],
 "metadata": {
  "interpreter": {
   "hash": "934ef4408acba814b9756a32638c756f41faa2976a0690acf93c487e545c70af"
  },
  "kernelspec": {
   "display_name": "Python 3.9.0 64-bit ('3.9.0': pyenv)",
   "name": "python3"
  },
  "language_info": {
   "codemirror_mode": {
    "name": "ipython",
    "version": 3
   },
   "file_extension": ".py",
   "mimetype": "text/x-python",
   "name": "python",
   "nbconvert_exporter": "python",
   "pygments_lexer": "ipython3",
   "version": "3.9.0"
  },
  "metadata": {
   "interpreter": {
    "hash": "7eb78c199a872a9864157d40ba1a3a21c75b2dca99a04068f89256c905325ae7"
   }
  },
  "orig_nbformat": 2
 },
 "nbformat": 4,
 "nbformat_minor": 2
}
