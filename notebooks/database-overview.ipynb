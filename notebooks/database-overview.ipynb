{
 "cells": [
  {
   "cell_type": "markdown",
   "metadata": {},
   "source": [
    "# Database overview notebook"
   ]
  },
  {
   "cell_type": "markdown",
   "metadata": {},
   "source": [
    "> First time use: follow instructions in the README.md file in this directory."
   ]
  },
  {
   "cell_type": "markdown",
   "metadata": {},
   "source": [
    "## Setup"
   ]
  },
  {
   "cell_type": "code",
   "execution_count": 340,
   "metadata": {},
   "outputs": [
    {
     "name": "stdout",
     "output_type": "stream",
     "text": [
      "Available databases:\n",
      "['china', 'soure_cloud', 'ucprosop']\n"
     ]
    }
   ],
   "source": [
    "from timelink.mhk.utilities import get_engine, get_dbnames, get_connection_string\n",
    "from sqlalchemy import engine, text, MetaData\n",
    "print('Available databases:')\n",
    "print(get_dbnames())\n",
    "#%load_ext sql\n",
    "#%config SqlMagic.displaycon=False"
   ]
  },
  {
   "cell_type": "markdown",
   "metadata": {},
   "source": [
    "## Connect to database"
   ]
  },
  {
   "cell_type": "markdown",
   "metadata": {},
   "source": [
    "### Choose the database"
   ]
  },
  {
   "cell_type": "code",
   "execution_count": 341,
   "metadata": {},
   "outputs": [],
   "source": [
    "db = 'soure_editor'\n",
    "connection_string = get_connection_string(db)\n",
    "engine = get_engine(db)"
   ]
  },
  {
   "cell_type": "markdown",
   "metadata": {},
   "source": [
    "## Database status"
   ]
  },
  {
   "cell_type": "code",
   "execution_count": 342,
   "metadata": {},
   "outputs": [
    {
     "name": "stdout",
     "output_type": "stream",
     "text": [
      "act 10844\n",
      "acta 180\n",
      "acusacoes 315\n",
      "aforamento 2\n",
      "attribute 66135\n",
      "cartaperdao 2\n",
      "caso 40\n",
      "class 26\n",
      "crime 1\n",
      "divida 3\n",
      "escritura 243\n",
      "geoentity 9\n",
      "good 6\n",
      "group_element 10870\n",
      "item 92\n",
      "object 2\n",
      "person 52134\n",
      "relation 87353\n",
      "rperson 357\n",
      "source 184\n"
     ]
    }
   ],
   "source": [
    "with engine.connect() as connection:\n",
    "    classes = connection.execute(\n",
    "        text('select class,count(*) as n from entities group by class')\n",
    "    )\n",
    "    classes\n",
    "for c in classes:\n",
    "    print(c['class'],c.n)"
   ]
  },
  {
   "cell_type": "markdown",
   "metadata": {},
   "source": [
    "## Map MHK database"
   ]
  },
  {
   "cell_type": "code",
   "execution_count": 343,
   "metadata": {},
   "outputs": [],
   "source": [
    "\n",
    "from sqlalchemy import Column,String,Integer,DateTime, ForeignKey\n",
    "from sqlalchemy.orm import declarative_base, relationship\n",
    "\n",
    "Base = declarative_base()\n"
   ]
  },
  {
   "cell_type": "markdown",
   "metadata": {},
   "source": [
    "## Entities\n",
    "     \n",
    "        |-----------|--------------|------|-----|---------------------+-----------------------------+\n",
    "        | Field     | Type         | Null | Key | Default             | Extra                       |\n",
    "        +-----------+--------------+------+-----+---------------------+-----------------------------+\n",
    "        | id        | varchar(64)  | NO   | PRI | NULL                |                             |\n",
    "        | class     | varchar(64)  | YES  | MUL | NULL                |                             |\n",
    "        | inside    | varchar(64)  | YES  | MUL | NULL                |                             |\n",
    "        | the_order | decimal(6,0) | YES  |     | NULL                |                             |\n",
    "        | the_level | decimal(6,0) | YES  |     | NULL                |                             |\n",
    "        | the_line  | decimal(6,0) | YES  |     | NULL                |                             |\n",
    "        | groupname | varchar(32)  | YES  | MUL | NULL                |                             |\n",
    "        | updated   | timestamp    | NO   | MUL | CURRENT_TIMESTAMP   | on update CURRENT_TIMESTAMP |\n",
    "        | indexed   | timestamp    | NO   | MUL | 1974-04-25 00:00:01 |                             |\n",
    "        +-----------+--------------+------+-----+---------------------+-----------------------------+"
   ]
  },
  {
   "cell_type": "code",
   "execution_count": 344,
   "metadata": {},
   "outputs": [],
   "source": [
    "\n",
    "class Entity(Base):\n",
    "    __tablename__ = 'entities'\n",
    "\n",
    "    id = Column(String, primary_key=True)\n",
    "    pom_class = Column('class',String,ForeignKey('classes.id'))\n",
    "    inside = Column(String, ForeignKey('entities.id'))\n",
    "    the_order = Column(Integer)\n",
    "    the_level = Column(Integer)\n",
    "    the_line = Column(Integer)\n",
    "    groupname = Column(String)\n",
    "    updated = Column(DateTime)\n",
    "    indexed = Column(DateTime)\n",
    "\n",
    "\n",
    "    rels_in = relationship(\"Relation\", back_populates=\"dest\")\n",
    "    rels_out = relationship(\"Relation\",back_populates=\"org\")\n",
    "\n",
    "    # see https://docs.sqlalchemy.org/en/14/orm/inheritance.html\n",
    "    # To handle non mapped pom_class see https://github.com/sqlalchemy/sqlalchemy/issues/5445\n",
    "    #\n",
    "    #    __mapper_args__ = {\n",
    "    #       \"polymorphic_identity\": \"entity\",\n",
    "    #    \"polymorphic_on\": case(\n",
    "    #        [(type.in_([\"parent\", \"child\"]), type)], else_=\"entity\"\n",
    "    #    ),\n",
    "    # \n",
    "    #  This defines what mappings do exist\n",
    "    # [aclass.__mapper_args__['polymorphic_identity'] for aclass in Entity.__subclasses__()]\n",
    "\n",
    "    __mapper_args__ = {\n",
    "        'polymorphic_identity': 'entity',\n",
    "        'polymorphic_on':pom_class\n",
    "    }\n",
    "\n",
    "    # untested\n",
    "    @classmethod  # untested\n",
    "    def get_subclasses(cls):\n",
    "        for subclass in cls.__subclasses__():\n",
    "            yield from subclass.get_subclasses()\n",
    "            yield subclass\n",
    "\n",
    "    @classmethod \n",
    "    def get_pom_classes(cls):\n",
    "        return [aclass.__mapper_args__['polymorphic_identity'] \n",
    "                    for aclass \n",
    "                    in Entity.__subclasses__()]\n",
    "\n",
    "    def __repr__(self):\n",
    "        return (\n",
    "            f'Entity(id=\"{self.id}\", '\n",
    "            f'pom_class=\"{self.pom_class}\",'\n",
    "            f'inside=\"{self.inside}\", '\n",
    "            f'the_order={self.the_order}, '\n",
    "            f'the_level={self.the_level}, '\n",
    "            f'the_line={self.the_line}, '\n",
    "            f'groupname=\"{self.groupname}\", '\n",
    "            \n",
    "            f'updated={self.updated}, '\n",
    "            f'indexed={self.indexed},'\n",
    "            f')'\n",
    "        )\n",
    "        \n",
    "    def __str__(self):\n",
    "        return (f'{self.groupname}${self.id}/type={self.pom_class}')\n"
   ]
  },
  {
   "cell_type": "markdown",
   "metadata": {},
   "source": [
    "## Attributes\n",
    "    +-----------+----------------+------+-----+---------+-------+\n",
    "    | Field     | Type           | Null | Key | Default | Extra |\n",
    "    +-----------+----------------+------+-----+---------+-------+\n",
    "    | id        | varchar(64)    | NO   | PRI | NULL    |       |\n",
    "    | entity    | varchar(64)    | YES  | MUL | NULL    |       |\n",
    "    | the_type  | varchar(512)   | YES  | MUL | NULL    |       |\n",
    "    | the_value | varchar(1024)  | YES  | MUL | NULL    |       |\n",
    "    | the_date  | varchar(24)    | YES  | MUL | NULL    |       |\n",
    "    | obs       | varchar(16000) | YES  |     | NULL    |       |\n",
    "    +-----------+----------------+------+-----+---------+-------+"
   ]
  },
  {
   "cell_type": "code",
   "execution_count": 345,
   "metadata": {},
   "outputs": [],
   "source": [
    "\n",
    "class Attribute(Entity):\n",
    "    __tablename__ = 'attributes'\n",
    "\n",
    "    id = Column(String, ForeignKey('entities.id'), primary_key=True)\n",
    "    entity = Column(String,ForeignKey('entities.id'))\n",
    "    the_type = Column(String)\n",
    "    the_value = Column(String)\n",
    "    the_date = Column(String)\n",
    "    obs = Column(String)\n",
    "\n",
    "    the_entity = relationship(\"Entity\",foreign_keys=[entity],back_populates=\"attributes\",)\n",
    "\n",
    "    __mapper_args__ = {\n",
    "        'polymorphic_identity':'attribute',     \n",
    "        'inherit_condition': id == Entity.id\n",
    "    }\n",
    "\n",
    "    def __repr__(self):\n",
    "        sr = super().__repr__()\n",
    "        return (\n",
    "            f'Attribute(id={sr}, '\n",
    "            f'entity=\"{self.entity}\", '\n",
    "            f'the_type=\"{self.the_type}\", '\n",
    "            f'the_value=\"{self.the_value}\", '\n",
    "            f'the_date=\"{self.the_date}\"\", '\n",
    "            f'obs={self.obs}'\n",
    "            f')'\n",
    "        )\n",
    "\n",
    "    def __str__(self):\n",
    "        r = f'     ls${self.the_type}/{self.the_value}/{self.the_date}'\n",
    "        if self.obs is not None:\n",
    "                r = (f'{r}/obs={self.obs}')\n",
    "        return r\n",
    "\n",
    "\n",
    "Entity.attributes = relationship(\"Attribute\", foreign_keys=[Attribute.entity], back_populates=\"the_entity\")\n"
   ]
  },
  {
   "cell_type": "markdown",
   "metadata": {},
   "source": [
    "## Relations   \n",
    "    +-------------+----------------+------+-----+---------+-------+\n",
    "    | Field       | Type           | Null | Key | Default | Extra |\n",
    "    +-------------+----------------+------+-----+---------+-------+\n",
    "    | id          | varchar(64)    | NO   | PRI | NULL    |       |\n",
    "    | origin      | varchar(64)    | YES  | MUL | NULL    |       |\n",
    "    | destination | varchar(64)    | YES  | MUL | NULL    |       |\n",
    "    | the_date    | varchar(24)    | YES  | MUL | NULL    |       |\n",
    "    | the_type    | varchar(32)    | YES  | MUL | NULL    |       |\n",
    "    | the_value   | varchar(256)   | YES  | MUL | NULL    |       |\n",
    "    | obs         | varchar(16000) | YES  |     | NULL    |       |\n",
    "    +-------------+----------------+------+-----+---------+-------+"
   ]
  },
  {
   "cell_type": "code",
   "execution_count": 346,
   "metadata": {},
   "outputs": [
    {
     "name": "stderr",
     "output_type": "stream",
     "text": [
      "/tmp/ipykernel_583205/3788928658.py:44: SAWarning: Property Entity.rels_out on mapped class Entity->entities being replaced with new property Entity.rels_out; the old property will be discarded\n",
      "  Entity.rels_out = relationship(\"Relation\",foreign_keys=[Relation.origin],back_populates=\"dest\")\n",
      "/tmp/ipykernel_583205/3788928658.py:44: SAWarning: Property Entity.rels_out on mapped class Attribute->attributes being replaced with new property Entity.rels_out; the old property will be discarded\n",
      "  Entity.rels_out = relationship(\"Relation\",foreign_keys=[Relation.origin],back_populates=\"dest\")\n",
      "/tmp/ipykernel_583205/3788928658.py:44: SAWarning: Property Entity.rels_out on mapped class Relation->relations being replaced with new property Entity.rels_out; the old property will be discarded\n",
      "  Entity.rels_out = relationship(\"Relation\",foreign_keys=[Relation.origin],back_populates=\"dest\")\n",
      "/tmp/ipykernel_583205/3788928658.py:45: SAWarning: Property Entity.rels_in on mapped class Entity->entities being replaced with new property Entity.rels_in; the old property will be discarded\n",
      "  Entity.rels_in = relationship(\"Relation\",foreign_keys=[Relation.destination],back_populates=\"org\")\n",
      "/tmp/ipykernel_583205/3788928658.py:45: SAWarning: Property Entity.rels_in on mapped class Attribute->attributes being replaced with new property Entity.rels_in; the old property will be discarded\n",
      "  Entity.rels_in = relationship(\"Relation\",foreign_keys=[Relation.destination],back_populates=\"org\")\n",
      "/tmp/ipykernel_583205/3788928658.py:45: SAWarning: Property Entity.rels_in on mapped class Relation->relations being replaced with new property Entity.rels_in; the old property will be discarded\n",
      "  Entity.rels_in = relationship(\"Relation\",foreign_keys=[Relation.destination],back_populates=\"org\")\n"
     ]
    }
   ],
   "source": [
    "class Relation(Entity):  # should extend Entity but gives error\n",
    "\n",
    "    __tablename__ = 'relations'\n",
    "\n",
    "    id = Column(String,ForeignKey('entities.id'), primary_key=True)\n",
    "    #rel_entity = relationship(\"Entity\",foreign_keys='id',back_populates='rel')\n",
    "    origin = Column(String,ForeignKey('entities.id'))\n",
    "    org = relationship(Entity,foreign_keys=[origin], back_populates='rels_out')\n",
    "\n",
    "    destination = Column(String,ForeignKey('entities.id'))\n",
    "    dest = relationship(\"Entity\",foreign_keys=[destination], back_populates=\"rels_in\")\n",
    "    the_type = Column(String)\n",
    "    the_value = Column(String)\n",
    "    the_date = Column(String)\n",
    "    obs = Column(String)\n",
    "\n",
    "    __mapper_args__ = {\n",
    "        'polymorphic_identity':'relation',\n",
    "        'inherit_condition': id == Entity.id\n",
    "    }\n",
    "\n",
    "    def __repr__(self):\n",
    "        sr = super().__repr__()\n",
    "        return (\n",
    "            f'Relation(id={sr}, '\n",
    "            f'origin=\"{self.origin}\", '\n",
    "            f'destination=\"{self.destination}\", '\n",
    "            f'the_type=\"{self.the_type}\", '\n",
    "            f'the_value=\"{self.the_value}\", '\n",
    "            f'the_date=\"{self.the_date}\"\", '\n",
    "            f'obs={self.obs}'\n",
    "            f')'\n",
    "        )\n",
    "\n",
    "    def __str__(self):\n",
    "        if self.dest is not None and self.dest.pom_class == 'person':\n",
    "            r = f'rel${self.the_type}/{self.the_value}/{self.dest.name}/{self.destination}/{self.the_date}'\n",
    "        else:\n",
    "            r = f'rel${self.the_type}/{self.the_value}/{self.destination}/{self.the_date}'\n",
    "        if self.obs is not None:\n",
    "                r = (f'{r}  /obs={self.obs}')\n",
    "        return r\n",
    "\n",
    "Entity.rels_out = relationship(\"Relation\",foreign_keys=[Relation.origin],back_populates=\"dest\")\n",
    "Entity.rels_in = relationship(\"Relation\",foreign_keys=[Relation.destination],back_populates=\"org\")"
   ]
  },
  {
   "cell_type": "markdown",
   "metadata": {},
   "source": [
    "## Persons    \n",
    "    +-------+----------------+------+-----+---------+-------+\n",
    "    | Field | Type           | Null | Key | Default | Extra |\n",
    "    +-------+----------------+------+-----+---------+-------+\n",
    "    | id    | varchar(64)    | NO   | PRI | NULL    |       |\n",
    "    | name  | varchar(128)   | YES  | MUL | NULL    |       |\n",
    "    | sex   | char(1)        | YES  |     | NULL    |       |\n",
    "    | obs   | varchar(16000) | YES  |     | NULL    |       |\n",
    "    +-------+----------------+------+-----+---------+-------+"
   ]
  },
  {
   "cell_type": "code",
   "execution_count": 347,
   "metadata": {},
   "outputs": [],
   "source": [
    "class Person(Entity):\n",
    "    __tablename__ = 'persons'\n",
    "\n",
    "    id = Column(String, ForeignKey('entities.id'), primary_key=True)\n",
    "    name = Column(String)\n",
    "    sex = Column(String(1))\n",
    "    obs = Column(String)\n",
    "\n",
    "    __mapper_args__ = {\n",
    "        'polymorphic_identity':'person'\n",
    "    }\n",
    "\n",
    "    def __repr__(self):\n",
    "        sr = super().__repr__()\n",
    "        f'Person(id={sr}, '\n",
    "        f'name=\"{self.name}\", '\n",
    "        f'sex=\"{self.sex}\", '\n",
    "        f'obs={self.obs}'\n",
    "        f')'\n",
    "\n",
    "        \n",
    "    def __str__(self):\n",
    "        r = f'{self.groupname}${self.name}/{self.sex}/id={self.id}'\n",
    "        if self.obs is not None:\n",
    "                r = (f'{r}  /obs={self.obs}')\n",
    "        return r"
   ]
  },
  {
   "cell_type": "markdown",
   "metadata": {},
   "source": [
    "## Objects\n",
    "\n",
    "    +----------+----------------+------+-----+---------+-------+\n",
    "    | Field    | Type           | Null | Key | Default | Extra |\n",
    "    +----------+----------------+------+-----+---------+-------+\n",
    "    | id       | varchar(64)    | NO   | PRI | NULL    |       |\n",
    "    | name     | varchar(64)    | YES  | MUL | NULL    |       |\n",
    "    | the_type | varchar(32)    | YES  |     | NULL    |       |\n",
    "    | obs      | varchar(16000) | YES  |     | NULL    |       |\n",
    "    +----------+----------------+------+-----+---------+-------+"
   ]
  },
  {
   "cell_type": "code",
   "execution_count": 348,
   "metadata": {},
   "outputs": [],
   "source": [
    "class Object(Entity):\n",
    "    __tablename__ = 'objects'\n",
    "\n",
    "    id = Column(String, ForeignKey('entities.id'), primary_key=True)\n",
    "    name = Column(String)\n",
    "    the_type = Column(String(32))\n",
    "    obs = Column(String)\n",
    "\n",
    "    __mapper_args__ = {\n",
    "        'polymorphic_identity':'object'\n",
    "    }\n",
    "\n",
    "    def __repr__(self):\n",
    "        sr = super().__repr__()\n",
    "        f'Object(id={sr}, '\n",
    "        f'name=\"{self.name}\", '\n",
    "        f'the_type=\"{self.the_type}\", '\n",
    "        f'obs={self.obs}'\n",
    "        f')'\n",
    "\n",
    "    def __str__(self):\n",
    "        r = f'{self.groupname}${self.name}/{self.the_type}/id={self.id}'\n",
    "        if self.obs is not None:\n",
    "                r = (f'{r}  /obs={self.obs}')\n",
    "        return r\n"
   ]
  },
  {
   "cell_type": "markdown",
   "metadata": {},
   "source": [
    "## Acts\n",
    "\n",
    "    +----------+----------------+------+-----+---------+-------+\n",
    "    | Field    | Type           | Null | Key | Default | Extra |\n",
    "    +----------+----------------+------+-----+---------+-------+\n",
    "    | id       | varchar(64)    | NO   | PRI | NULL    |       |\n",
    "    | the_type | varchar(32)    | YES  |     | NULL    |       |\n",
    "    | the_date | varchar(24)    | YES  | MUL | NULL    |       |\n",
    "    | loc      | varchar(64)    | YES  |     | NULL    |       |\n",
    "    | ref      | varchar(64)    | YES  |     | NULL    |       |\n",
    "    | obs      | varchar(16000) | YES  |     | NULL    |       |\n",
    "    +----------+----------------+------+-----+---------+-------+\n"
   ]
  },
  {
   "cell_type": "code",
   "execution_count": 349,
   "metadata": {},
   "outputs": [],
   "source": [
    "class Act(Entity):\n",
    "    __tablename__ = 'acts'\n",
    "\n",
    "    id = Column(String, ForeignKey('entities.id'), primary_key=True)\n",
    "    the_type = Column(String(32))\n",
    "    the_date = Column(String)\n",
    "    loc = Column(String)\n",
    "    ref = Column(String)\n",
    "    obs = Column(String)\n",
    "\n",
    "    __mapper_args__ = {\n",
    "        'polymorphic_identity':'act'\n",
    "    }\n",
    "\n",
    "\n",
    "    def __repr__(self):\n",
    "        sr = super().__repr__()\n",
    "        return (\n",
    "            f'Act(id={sr}, '\n",
    "            f'the_type=\"{self.the_type}\", '\n",
    "            f'the_date=\"{self.the_date}\", '\n",
    "            f'local=\"{self.loc}\", '\n",
    "            f'ref=\"{self.ref}\", '\n",
    "            f'obs={self.obs}'\n",
    "            f')'\n",
    "            )\n",
    "\n",
    "    def __str__(self):\n",
    "        r = f'{self.groupname}${self.id}/{self.the_date}/type={self.the_type}/ref={self.ref}/loc={self.loc}'\n",
    "        if self.obs is not None:\n",
    "                r = (f'{r}  /obs={self.obs}')\n",
    "        return r\n"
   ]
  },
  {
   "cell_type": "markdown",
   "metadata": {},
   "source": [
    "## Sources\n",
    "\n",
    "    +-----------+----------------+------+-----+---------+-------+\n",
    "    | Field     | Type           | Null | Key | Default | Extra |\n",
    "    +-----------+----------------+------+-----+---------+-------+\n",
    "    | id        | varchar(64)    | NO   | PRI | NULL    |       |\n",
    "    | the_type  | varchar(32)    | YES  |     | NULL    |       |\n",
    "    | the_date  | varchar(24)    | YES  |     | NULL    |       |\n",
    "    | loc       | varchar(64)    | YES  |     | NULL    |       |\n",
    "    | ref       | varchar(64)    | YES  |     | NULL    |       |\n",
    "    | kleiofile | varchar(1024)  | YES  |     | NULL    |       |\n",
    "    | replaces  | varchar(254)   | YES  |     | NULL    |       |\n",
    "    | obs       | varchar(16000) | YES  |     | NULL    |       |\n",
    "    +-----------+----------------+------+-----+---------+-------+"
   ]
  },
  {
   "cell_type": "code",
   "execution_count": 350,
   "metadata": {},
   "outputs": [],
   "source": [
    "class Source(Entity):\n",
    "    __tablename__ = 'sources'\n",
    "\n",
    "    id = Column(String, ForeignKey('entities.id'), primary_key=True)\n",
    "    the_type = Column(String(32))\n",
    "    the_date = Column(String)\n",
    "    loc = Column(String)\n",
    "    ref = Column(String)\n",
    "    kleiofile = Column(String)\n",
    "    replaces = Column(String)\n",
    "    obs = Column(String)\n",
    "\n",
    "    __mapper_args__ = {\n",
    "        'polymorphic_identity':'source'\n",
    "    }\n",
    "\n",
    "    def __repr__(self):\n",
    "        sr = super().__repr__()\n",
    "        return (\n",
    "            f'Source(id={sr}, '\n",
    "            f'the_type=\"{self.the_type}\", '\n",
    "            f'the_date=\"{self.the_date}\", '\n",
    "            f'local=\"{self.loc}\", '\n",
    "            f'ref=\"{self.ref}\", '\n",
    "            f'kleiofile=\"{self.kleiofile}\", '\n",
    "            f'replaces=\"{self.replaces}\", '\n",
    "            f'obs={self.obs}'\n",
    "            f')'\n",
    "        )\n",
    "\n",
    "    def __str__(self):\n",
    "        r = f'{self.groupname}${self.id}/{self.the_date}/type={self.the_type}/ref={self.ref}/loc={self.loc}/kleiofile={self.kleiofile}/replaces={self.replaces}'\n",
    "        if self.obs is not None:\n",
    "                r = (f'{r}  /obs={self.obs}')\n",
    "        return r"
   ]
  },
  {
   "cell_type": "markdown",
   "metadata": {},
   "source": [
    "## Classes\n",
    "\n",
    "    +------------+-------------+------+-----+---------+-------+\n",
    "    | Field      | Type        | Null | Key | Default | Extra |\n",
    "    +------------+-------------+------+-----+---------+-------+\n",
    "    | id         | varchar(64) | NO   | PRI | NULL    |       |\n",
    "    | table_name | varchar(32) | YES  |     | NULL    |       |\n",
    "    | group_name | varchar(32) | YES  |     | NULL    |       |\n",
    "    | super      | varchar(64) | YES  |     | NULL    |       |\n",
    "    +------------+-------------+------+-----+---------+-------+\n",
    "\n"
   ]
  },
  {
   "cell_type": "code",
   "execution_count": 351,
   "metadata": {},
   "outputs": [],
   "source": [
    "from typing import Optional\n",
    "\n",
    "class PomSomMapper(Entity):\n",
    "    __tablename__ = 'classes'\n",
    "\n",
    "    id = Column(String, ForeignKey('entities.id'), primary_key=True)\n",
    "    table_name = Column(String)\n",
    "    class_group = Column(\"group_name\",String(32))\n",
    "    super_class = Column(\"super\", String)\n",
    "\n",
    "    \n",
    "\n",
    "    __mapper_args__ = {\n",
    "        'polymorphic_identity':'class',\n",
    "        'inherit_condition': id == Entity.id\n",
    "    }\n",
    "\n",
    "    @classmethod\n",
    "    def find_pom_class(cls,session, poly_ident: String):\n",
    "        \"\"\"\n",
    "        Find a pom_class by looking up the POM hierarchy.\n",
    "\n",
    "        \"\"\"\n",
    "        current_class: Optional[\"PomSomMapper\"] = session.query(Entity).get(poly_ident)\n",
    "        if current_class is None:\n",
    "            #print(\"POM class not found\")\n",
    "            return 'entity'\n",
    "        if poly_ident in Entity.get_pom_classes():\n",
    "            #print(\"Returning \"+current_class.id)\n",
    "            return current_class.id\n",
    "        else:\n",
    "            #print(\"Not found, going up the inheritance chain\")\n",
    "            return find_pom_class(session, current_class.super_class)   \n",
    "\n",
    "    def __repr__(self):\n",
    "        return (\n",
    "            f'PomSomMapper(id={self.id}, '\n",
    "            f'table_name=\"{self.table_name}\", '\n",
    "            f'class_group=\"{self.class_group}\", '\n",
    "            f'super_class=\"{self.super_class}\" '\n",
    "            f')'\n",
    "        )\n",
    "\n",
    "    def __str__(self):\n",
    "        r = f'{self.id} table {self.table_name}\\n'\n",
    "        for cattr in self.class_attributes:\n",
    "            r = r + f'{cattr.the_class}.{cattr.name} \\tclass {cattr.colclass} \\tcol {cattr.colname} \\ttype {cattr.coltype} size {cattr.colsize} precision {cattr.colprecision} primary key {cattr.pkey} \\n'\n",
    "        return r"
   ]
  },
  {
   "cell_type": "code",
   "execution_count": 353,
   "metadata": {},
   "outputs": [
    {
     "name": "stdout",
     "output_type": "stream",
     "text": [
      "Not found, going up the inheritance chain\n",
      "act\n"
     ]
    }
   ],
   "source": [
    "C = PomSomMapper.find_pom_class(session,'acta')\n",
    "print(C)"
   ]
  },
  {
   "cell_type": "code",
   "execution_count": 283,
   "metadata": {},
   "outputs": [],
   "source": [
    "from typing import Optional\n",
    "def find_pom_class(session, poly_ident: String):\n",
    "    current_class: Optional[PomSomMapper] = session.query(PomSomMapper).get(poly_ident)\n",
    "    #print(current_class.id)\n",
    "    if current_class is None:\n",
    "        return 'entity'\n",
    "    if poly_ident in Entity.get_pom_classes():\n",
    "        #print(\"Returning \"+current_class.id)\n",
    "        return current_class.id\n",
    "    else:\n",
    "        #print(\"Not found, going up the inheritance chain\")\n",
    "        return find_pom_class(session, current_class.super_class)   "
   ]
  },
  {
   "cell_type": "code",
   "execution_count": 285,
   "metadata": {},
   "outputs": [
    {
     "name": "stdout",
     "output_type": "stream",
     "text": [
      "act\n"
     ]
    }
   ],
   "source": [
    "C = find_pom_class(session, 'acta')\n",
    "print(C)"
   ]
  },
  {
   "cell_type": "markdown",
   "metadata": {},
   "source": [
    "\n",
    "## Class attributes\n",
    "\n",
    "    +--------------+--------------+------+-----+---------+-------+\n",
    "    | Field        | Type         | Null | Key | Default | Extra |\n",
    "    +--------------+--------------+------+-----+---------+-------+\n",
    "    | the_class    | varchar(64)  | YES  | MUL | NULL    |       |\n",
    "    | name         | varchar(32)  | YES  |     | NULL    |       |\n",
    "    | colname      | varchar(32)  | YES  |     | NULL    |       |\n",
    "    | colclass     | varchar(32)  | YES  |     | NULL    |       |\n",
    "    | coltype      | varchar(32)  | YES  |     | NULL    |       |\n",
    "    | colsize      | decimal(5,0) | YES  |     | NULL    |       |\n",
    "    | colprecision | decimal(6,0) | YES  |     | NULL    |       |\n",
    "    | pkey         | decimal(1,0) | YES  |     | NULL    |       |\n",
    "    +--------------+--------------+------+-----+---------+-------+\n"
   ]
  },
  {
   "cell_type": "code",
   "execution_count": 278,
   "metadata": {},
   "outputs": [],
   "source": [
    "class PomClassAttributes(Base):\n",
    "    __tablename__ = 'class_attributes'\n",
    "\n",
    "    the_class = Column(String, ForeignKey('classes.id'),primary_key=True)\n",
    "    \n",
    "    pom_class = relationship(\"PomSomMapper\",foreign_keys=[the_class], back_populates='class_attributes')\n",
    "    name = Column(String(32), primary_key=True)\n",
    "    colname = Column(String(32))\n",
    "    colclass = Column(String(32))\n",
    "    coltype = Column(String)\n",
    "    colsize = Column(Integer)\n",
    "    colprecision = Column(Integer)\n",
    "    pkey = Column(Integer)\n",
    "\n",
    "PomSomMapper.class_attributes = relationship(\"PomClassAttributes\", back_populates=\"pom_class\")\n",
    "\n"
   ]
  },
  {
   "cell_type": "code",
   "execution_count": 230,
   "metadata": {},
   "outputs": [
    {
     "name": "stdout",
     "output_type": "stream",
     "text": [
      "('kleio', <class 'timelink.kleio.groups.KKleio'>)\n",
      "('source', <class 'timelink.kleio.groups.KSource'>)\n",
      "('act', <class 'timelink.kleio.groups.KAct'>)\n",
      "('person', <class 'timelink.kleio.groups.KPerson'>)\n",
      "('object', <class 'timelink.kleio.groups.KAbstraction'>)\n",
      "('object', <class 'timelink.kleio.groups.KObject'>)\n",
      "('ls', <class 'timelink.kleio.groups.KLs'>)\n",
      "('atr', <class 'timelink.kleio.groups.KAtr'>)\n",
      "('attr', <class 'timelink.kleio.groups.KAttribute'>)\n",
      "('rel', <class 'timelink.kleio.groups.KRelation'>)\n"
     ]
    }
   ],
   "source": [
    "from timelink.kleio.groups import KGroup\n",
    "\n",
    "for gn in [(g._name,g) for g in KGroup.all_subclasses()]:\n",
    "    print(gn)\n",
    "\n"
   ]
  },
  {
   "cell_type": "markdown",
   "metadata": {},
   "source": [
    "## Testing"
   ]
  },
  {
   "cell_type": "code",
   "execution_count": 231,
   "metadata": {},
   "outputs": [],
   "source": [
    "from sqlalchemy.orm import sessionmaker\n",
    "Session = sessionmaker(bind=engine)\n",
    "session = Session()\n"
   ]
  },
  {
   "cell_type": "code",
   "execution_count": 232,
   "metadata": {},
   "outputs": [
    {
     "name": "stdout",
     "output_type": "stream",
     "text": [
      "     ls$residencia/barrosas/16970205/obs=%barrosos. \n",
      "Attribute(id=Entity(id=\"$c51-2-att3-12\", pom_class=\"attribute\",inside=\"$c51-2\", the_order=164, the_level=5, the_line=136, groupname=\"ls\", updated=2021-11-01 01:40:25, indexed=1974-04-25 00:00:01,), entity=\"$c51-2\", the_type=\"residencia\", the_value=\"barrosas\", the_date=\"16970205\"\", obs=%barrosos. )\n"
     ]
    }
   ],
   "source": [
    "attribute = session.query(Attribute).where(Entity.pom_class  == 'attribute').first()\n",
    "print(attribute)\n",
    "print(repr(attribute))"
   ]
  },
  {
   "cell_type": "code",
   "execution_count": 233,
   "metadata": {},
   "outputs": [
    {
     "name": "stdout",
     "output_type": "stream",
     "text": [
      "pnoivo$domingos andre/m/id=$c51-2\n"
     ]
    }
   ],
   "source": [
    "entity = attribute.the_entity\n",
    "print(entity)"
   ]
  },
  {
   "cell_type": "code",
   "execution_count": 234,
   "metadata": {},
   "outputs": [
    {
     "name": "stdout",
     "output_type": "stream",
     "text": [
      "Relation(id=Entity(id=\"01705-a5e-rel16-4\", pom_class=\"relation\",inside=\"01705-a5e\", the_order=273, the_level=5, the_line=329, groupname=\"rel\", updated=2021-11-01 01:43:51, indexed=1974-04-25 00:00:01,), origin=\"01705-a5e\", destination=\"1705-a5\", the_type=\"sociabilidade\", the_value=\"foram juntas 'a romaria\", the_date=\"17051005\"\", obs=None)\n",
      "rel$sociabilidade/foram juntas 'a romaria/catarina leitao/1705-a5/17051005\n"
     ]
    }
   ],
   "source": [
    "relation = session.query(Relation).where(Relation.pom_class  == 'relation').first()\n",
    "\n",
    "print(repr(relation))\n",
    "print(relation)\n"
   ]
  },
  {
   "cell_type": "code",
   "execution_count": 235,
   "metadata": {},
   "outputs": [
    {
     "name": "stdout",
     "output_type": "stream",
     "text": [
      "Relation(id=Entity(id=\"01705-a5e-rel17-4\", pom_class=\"relation\",inside=\"01705-a5e\", the_order=274, the_level=5, the_line=331, groupname=\"rel\", updated=2021-11-01 01:43:51, indexed=1974-04-25 00:00:01,), origin=\"01705-a5e\", destination=\"1705-a5ea\", the_type=\"parentesco\", the_value=\"foi mulher\", the_date=\"17051005\"\", obs=None)\n",
      "referida$maria fernandes/f/id=01705-a5e\n",
      "    rel$parentesco/foi mulher/manuel cordeiro/1705-a5ea/17051005\n",
      "referido$manuel cordeiro/m/id=1705-a5ea\n"
     ]
    }
   ],
   "source": [
    "relation = session.query(Relation).where(Relation.the_type  == 'parentesco').first()\n",
    "print(repr(relation))\n",
    "\n",
    "print(relation.org)\n",
    "print(\"   \",relation)\n",
    "print(relation.dest)"
   ]
  },
  {
   "cell_type": "code",
   "execution_count": 236,
   "metadata": {},
   "outputs": [
    {
     "name": "stdout",
     "output_type": "stream",
     "text": [
      "Act(id=Entity(id=\"1700-142\", pom_class=\"act\",inside=\"casamentos 1700\", the_order=2, the_level=2, the_line=6, groupname=\"cas\", updated=2021-11-01 01:41:00, indexed=2021-11-01 01:41:00,), the_type=\"cas\", the_date=\"17000110\", local=\"luis alvares pinto\", ref=\"igreja matriz\", obs=None)\n",
      "cas$1700-142/17000110/type=cas/ref=igreja matriz/loc=luis alvares pinto\n"
     ]
    }
   ],
   "source": [
    "act = session.query(Act).where(Entity.pom_class  == 'act').first()\n",
    "\n",
    "print(repr(act))\n",
    "print(act)"
   ]
  },
  {
   "cell_type": "code",
   "execution_count": 181,
   "metadata": {},
   "outputs": [
    {
     "ename": "AssertionError",
     "evalue": "No such polymorphic_identity 'acta' is defined",
     "output_type": "error",
     "traceback": [
      "\u001b[0;31m---------------------------------------------------------------------------\u001b[0m",
      "\u001b[0;31mKeyError\u001b[0m                                  Traceback (most recent call last)",
      "\u001b[0;32m~/.pyenv/versions/3.9.6/lib/python3.9/site-packages/sqlalchemy/orm/loading.py\u001b[0m in \u001b[0;36mconfigure_subclass_mapper\u001b[0;34m(discriminator)\u001b[0m\n\u001b[1;32m   1234\u001b[0m         \u001b[0;32mtry\u001b[0m\u001b[0;34m:\u001b[0m\u001b[0;34m\u001b[0m\u001b[0;34m\u001b[0m\u001b[0m\n\u001b[0;32m-> 1235\u001b[0;31m             \u001b[0msub_mapper\u001b[0m \u001b[0;34m=\u001b[0m \u001b[0mmapper\u001b[0m\u001b[0;34m.\u001b[0m\u001b[0mpolymorphic_map\u001b[0m\u001b[0;34m[\u001b[0m\u001b[0mdiscriminator\u001b[0m\u001b[0;34m]\u001b[0m\u001b[0;34m\u001b[0m\u001b[0;34m\u001b[0m\u001b[0m\n\u001b[0m\u001b[1;32m   1236\u001b[0m         \u001b[0;32mexcept\u001b[0m \u001b[0mKeyError\u001b[0m\u001b[0;34m:\u001b[0m\u001b[0;34m\u001b[0m\u001b[0;34m\u001b[0m\u001b[0m\n",
      "\u001b[0;31mKeyError\u001b[0m: 'acta'",
      "\nDuring handling of the above exception, another exception occurred:\n",
      "\u001b[0;31mAssertionError\u001b[0m                            Traceback (most recent call last)",
      "\u001b[0;32m/tmp/ipykernel_583205/53600580.py\u001b[0m in \u001b[0;36m<module>\u001b[0;34m\u001b[0m\n\u001b[0;32m----> 1\u001b[0;31m \u001b[0macta\u001b[0m \u001b[0;34m=\u001b[0m \u001b[0msession\u001b[0m\u001b[0;34m.\u001b[0m\u001b[0mquery\u001b[0m\u001b[0;34m(\u001b[0m\u001b[0mAct\u001b[0m\u001b[0;34m)\u001b[0m\u001b[0;34m.\u001b[0m\u001b[0mwhere\u001b[0m\u001b[0;34m(\u001b[0m\u001b[0mEntity\u001b[0m\u001b[0;34m.\u001b[0m\u001b[0mpom_class\u001b[0m  \u001b[0;34m==\u001b[0m \u001b[0;34m'acta'\u001b[0m\u001b[0;34m)\u001b[0m\u001b[0;34m.\u001b[0m\u001b[0mfirst\u001b[0m\u001b[0;34m(\u001b[0m\u001b[0;34m)\u001b[0m\u001b[0;34m\u001b[0m\u001b[0;34m\u001b[0m\u001b[0m\n\u001b[0m\u001b[1;32m      2\u001b[0m \u001b[0;34m\u001b[0m\u001b[0m\n\u001b[1;32m      3\u001b[0m \u001b[0mprint\u001b[0m\u001b[0;34m(\u001b[0m\u001b[0mrepr\u001b[0m\u001b[0;34m(\u001b[0m\u001b[0macta\u001b[0m\u001b[0;34m)\u001b[0m\u001b[0;34m)\u001b[0m\u001b[0;34m\u001b[0m\u001b[0;34m\u001b[0m\u001b[0m\n\u001b[1;32m      4\u001b[0m \u001b[0mprint\u001b[0m\u001b[0;34m(\u001b[0m\u001b[0macta\u001b[0m\u001b[0;34m)\u001b[0m\u001b[0;34m\u001b[0m\u001b[0;34m\u001b[0m\u001b[0m\n",
      "\u001b[0;32m~/.pyenv/versions/3.9.6/lib/python3.9/site-packages/sqlalchemy/orm/query.py\u001b[0m in \u001b[0;36mfirst\u001b[0;34m(self)\u001b[0m\n\u001b[1;32m   2760\u001b[0m             \u001b[0;32mreturn\u001b[0m \u001b[0mself\u001b[0m\u001b[0;34m.\u001b[0m\u001b[0m_iter\u001b[0m\u001b[0;34m(\u001b[0m\u001b[0;34m)\u001b[0m\u001b[0;34m.\u001b[0m\u001b[0mfirst\u001b[0m\u001b[0;34m(\u001b[0m\u001b[0;34m)\u001b[0m\u001b[0;34m\u001b[0m\u001b[0;34m\u001b[0m\u001b[0m\n\u001b[1;32m   2761\u001b[0m         \u001b[0;32melse\u001b[0m\u001b[0;34m:\u001b[0m\u001b[0;34m\u001b[0m\u001b[0;34m\u001b[0m\u001b[0m\n\u001b[0;32m-> 2762\u001b[0;31m             \u001b[0;32mreturn\u001b[0m \u001b[0mself\u001b[0m\u001b[0;34m.\u001b[0m\u001b[0mlimit\u001b[0m\u001b[0;34m(\u001b[0m\u001b[0;36m1\u001b[0m\u001b[0;34m)\u001b[0m\u001b[0;34m.\u001b[0m\u001b[0m_iter\u001b[0m\u001b[0;34m(\u001b[0m\u001b[0;34m)\u001b[0m\u001b[0;34m.\u001b[0m\u001b[0mfirst\u001b[0m\u001b[0;34m(\u001b[0m\u001b[0;34m)\u001b[0m\u001b[0;34m\u001b[0m\u001b[0;34m\u001b[0m\u001b[0m\n\u001b[0m\u001b[1;32m   2763\u001b[0m \u001b[0;34m\u001b[0m\u001b[0m\n\u001b[1;32m   2764\u001b[0m     \u001b[0;32mdef\u001b[0m \u001b[0mone_or_none\u001b[0m\u001b[0;34m(\u001b[0m\u001b[0mself\u001b[0m\u001b[0;34m)\u001b[0m\u001b[0;34m:\u001b[0m\u001b[0;34m\u001b[0m\u001b[0;34m\u001b[0m\u001b[0m\n",
      "\u001b[0;32m~/.pyenv/versions/3.9.6/lib/python3.9/site-packages/sqlalchemy/engine/result.py\u001b[0m in \u001b[0;36mfirst\u001b[0;34m(self)\u001b[0m\n\u001b[1;32m   1348\u001b[0m \u001b[0;34m\u001b[0m\u001b[0m\n\u001b[1;32m   1349\u001b[0m         \"\"\"\n\u001b[0;32m-> 1350\u001b[0;31m         return self._only_one_row(\n\u001b[0m\u001b[1;32m   1351\u001b[0m             \u001b[0mraise_for_second_row\u001b[0m\u001b[0;34m=\u001b[0m\u001b[0;32mFalse\u001b[0m\u001b[0;34m,\u001b[0m \u001b[0mraise_for_none\u001b[0m\u001b[0;34m=\u001b[0m\u001b[0;32mFalse\u001b[0m\u001b[0;34m,\u001b[0m \u001b[0mscalar\u001b[0m\u001b[0;34m=\u001b[0m\u001b[0;32mFalse\u001b[0m\u001b[0;34m\u001b[0m\u001b[0;34m\u001b[0m\u001b[0m\n\u001b[1;32m   1352\u001b[0m         )\n",
      "\u001b[0;32m~/.pyenv/versions/3.9.6/lib/python3.9/site-packages/sqlalchemy/engine/result.py\u001b[0m in \u001b[0;36m_only_one_row\u001b[0;34m(self, raise_for_second_row, raise_for_none, scalar)\u001b[0m\n\u001b[1;32m    556\u001b[0m         \u001b[0monerow\u001b[0m \u001b[0;34m=\u001b[0m \u001b[0mself\u001b[0m\u001b[0;34m.\u001b[0m\u001b[0m_fetchone_impl\u001b[0m\u001b[0;34m\u001b[0m\u001b[0;34m\u001b[0m\u001b[0m\n\u001b[1;32m    557\u001b[0m \u001b[0;34m\u001b[0m\u001b[0m\n\u001b[0;32m--> 558\u001b[0;31m         \u001b[0mrow\u001b[0m \u001b[0;34m=\u001b[0m \u001b[0monerow\u001b[0m\u001b[0;34m(\u001b[0m\u001b[0mhard_close\u001b[0m\u001b[0;34m=\u001b[0m\u001b[0;32mTrue\u001b[0m\u001b[0;34m)\u001b[0m\u001b[0;34m\u001b[0m\u001b[0;34m\u001b[0m\u001b[0m\n\u001b[0m\u001b[1;32m    559\u001b[0m         \u001b[0;32mif\u001b[0m \u001b[0mrow\u001b[0m \u001b[0;32mis\u001b[0m \u001b[0;32mNone\u001b[0m\u001b[0;34m:\u001b[0m\u001b[0;34m\u001b[0m\u001b[0;34m\u001b[0m\u001b[0m\n\u001b[1;32m    560\u001b[0m             \u001b[0;32mif\u001b[0m \u001b[0mraise_for_none\u001b[0m\u001b[0;34m:\u001b[0m\u001b[0;34m\u001b[0m\u001b[0;34m\u001b[0m\u001b[0m\n",
      "\u001b[0;32m~/.pyenv/versions/3.9.6/lib/python3.9/site-packages/sqlalchemy/engine/result.py\u001b[0m in \u001b[0;36m_fetchone_impl\u001b[0;34m(self, hard_close)\u001b[0m\n\u001b[1;32m   1236\u001b[0m \u001b[0;34m\u001b[0m\u001b[0m\n\u001b[1;32m   1237\u001b[0m     \u001b[0;32mdef\u001b[0m \u001b[0m_fetchone_impl\u001b[0m\u001b[0;34m(\u001b[0m\u001b[0mself\u001b[0m\u001b[0;34m,\u001b[0m \u001b[0mhard_close\u001b[0m\u001b[0;34m=\u001b[0m\u001b[0;32mFalse\u001b[0m\u001b[0;34m)\u001b[0m\u001b[0;34m:\u001b[0m\u001b[0;34m\u001b[0m\u001b[0;34m\u001b[0m\u001b[0m\n\u001b[0;32m-> 1238\u001b[0;31m         \u001b[0;32mreturn\u001b[0m \u001b[0mself\u001b[0m\u001b[0;34m.\u001b[0m\u001b[0m_real_result\u001b[0m\u001b[0;34m.\u001b[0m\u001b[0m_fetchone_impl\u001b[0m\u001b[0;34m(\u001b[0m\u001b[0mhard_close\u001b[0m\u001b[0;34m=\u001b[0m\u001b[0mhard_close\u001b[0m\u001b[0;34m)\u001b[0m\u001b[0;34m\u001b[0m\u001b[0;34m\u001b[0m\u001b[0m\n\u001b[0m\u001b[1;32m   1239\u001b[0m \u001b[0;34m\u001b[0m\u001b[0m\n\u001b[1;32m   1240\u001b[0m     \u001b[0;32mdef\u001b[0m \u001b[0m_fetchall_impl\u001b[0m\u001b[0;34m(\u001b[0m\u001b[0mself\u001b[0m\u001b[0;34m)\u001b[0m\u001b[0;34m:\u001b[0m\u001b[0;34m\u001b[0m\u001b[0;34m\u001b[0m\u001b[0m\n",
      "\u001b[0;32m~/.pyenv/versions/3.9.6/lib/python3.9/site-packages/sqlalchemy/engine/result.py\u001b[0m in \u001b[0;36m_fetchone_impl\u001b[0;34m(self, hard_close)\u001b[0m\n\u001b[1;32m   1624\u001b[0m \u001b[0;34m\u001b[0m\u001b[0m\n\u001b[1;32m   1625\u001b[0m     \u001b[0;32mdef\u001b[0m \u001b[0m_fetchone_impl\u001b[0m\u001b[0;34m(\u001b[0m\u001b[0mself\u001b[0m\u001b[0;34m,\u001b[0m \u001b[0mhard_close\u001b[0m\u001b[0;34m=\u001b[0m\u001b[0;32mFalse\u001b[0m\u001b[0;34m)\u001b[0m\u001b[0;34m:\u001b[0m\u001b[0;34m\u001b[0m\u001b[0;34m\u001b[0m\u001b[0m\n\u001b[0;32m-> 1626\u001b[0;31m         \u001b[0mrow\u001b[0m \u001b[0;34m=\u001b[0m \u001b[0mnext\u001b[0m\u001b[0;34m(\u001b[0m\u001b[0mself\u001b[0m\u001b[0;34m.\u001b[0m\u001b[0miterator\u001b[0m\u001b[0;34m,\u001b[0m \u001b[0m_NO_ROW\u001b[0m\u001b[0;34m)\u001b[0m\u001b[0;34m\u001b[0m\u001b[0;34m\u001b[0m\u001b[0m\n\u001b[0m\u001b[1;32m   1627\u001b[0m         \u001b[0;32mif\u001b[0m \u001b[0mrow\u001b[0m \u001b[0;32mis\u001b[0m \u001b[0m_NO_ROW\u001b[0m\u001b[0;34m:\u001b[0m\u001b[0;34m\u001b[0m\u001b[0;34m\u001b[0m\u001b[0m\n\u001b[1;32m   1628\u001b[0m             \u001b[0mself\u001b[0m\u001b[0;34m.\u001b[0m\u001b[0m_soft_close\u001b[0m\u001b[0;34m(\u001b[0m\u001b[0mhard\u001b[0m\u001b[0;34m=\u001b[0m\u001b[0mhard_close\u001b[0m\u001b[0;34m)\u001b[0m\u001b[0;34m\u001b[0m\u001b[0;34m\u001b[0m\u001b[0m\n",
      "\u001b[0;32m~/.pyenv/versions/3.9.6/lib/python3.9/site-packages/sqlalchemy/orm/loading.py\u001b[0m in \u001b[0;36mchunks\u001b[0;34m(size)\u001b[0m\n\u001b[1;32m    149\u001b[0m             \u001b[0;32mif\u001b[0m \u001b[0msingle_entity\u001b[0m\u001b[0;34m:\u001b[0m\u001b[0;34m\u001b[0m\u001b[0;34m\u001b[0m\u001b[0m\n\u001b[1;32m    150\u001b[0m                 \u001b[0mproc\u001b[0m \u001b[0;34m=\u001b[0m \u001b[0mprocess\u001b[0m\u001b[0;34m[\u001b[0m\u001b[0;36m0\u001b[0m\u001b[0;34m]\u001b[0m\u001b[0;34m\u001b[0m\u001b[0;34m\u001b[0m\u001b[0m\n\u001b[0;32m--> 151\u001b[0;31m                 \u001b[0mrows\u001b[0m \u001b[0;34m=\u001b[0m \u001b[0;34m[\u001b[0m\u001b[0mproc\u001b[0m\u001b[0;34m(\u001b[0m\u001b[0mrow\u001b[0m\u001b[0;34m)\u001b[0m \u001b[0;32mfor\u001b[0m \u001b[0mrow\u001b[0m \u001b[0;32min\u001b[0m \u001b[0mfetch\u001b[0m\u001b[0;34m]\u001b[0m\u001b[0;34m\u001b[0m\u001b[0;34m\u001b[0m\u001b[0m\n\u001b[0m\u001b[1;32m    152\u001b[0m             \u001b[0;32melse\u001b[0m\u001b[0;34m:\u001b[0m\u001b[0;34m\u001b[0m\u001b[0;34m\u001b[0m\u001b[0m\n\u001b[1;32m    153\u001b[0m                 rows = [\n",
      "\u001b[0;32m~/.pyenv/versions/3.9.6/lib/python3.9/site-packages/sqlalchemy/orm/loading.py\u001b[0m in \u001b[0;36m<listcomp>\u001b[0;34m(.0)\u001b[0m\n\u001b[1;32m    149\u001b[0m             \u001b[0;32mif\u001b[0m \u001b[0msingle_entity\u001b[0m\u001b[0;34m:\u001b[0m\u001b[0;34m\u001b[0m\u001b[0;34m\u001b[0m\u001b[0m\n\u001b[1;32m    150\u001b[0m                 \u001b[0mproc\u001b[0m \u001b[0;34m=\u001b[0m \u001b[0mprocess\u001b[0m\u001b[0;34m[\u001b[0m\u001b[0;36m0\u001b[0m\u001b[0;34m]\u001b[0m\u001b[0;34m\u001b[0m\u001b[0;34m\u001b[0m\u001b[0m\n\u001b[0;32m--> 151\u001b[0;31m                 \u001b[0mrows\u001b[0m \u001b[0;34m=\u001b[0m \u001b[0;34m[\u001b[0m\u001b[0mproc\u001b[0m\u001b[0;34m(\u001b[0m\u001b[0mrow\u001b[0m\u001b[0;34m)\u001b[0m \u001b[0;32mfor\u001b[0m \u001b[0mrow\u001b[0m \u001b[0;32min\u001b[0m \u001b[0mfetch\u001b[0m\u001b[0;34m]\u001b[0m\u001b[0;34m\u001b[0m\u001b[0;34m\u001b[0m\u001b[0m\n\u001b[0m\u001b[1;32m    152\u001b[0m             \u001b[0;32melse\u001b[0m\u001b[0;34m:\u001b[0m\u001b[0;34m\u001b[0m\u001b[0;34m\u001b[0m\u001b[0m\n\u001b[1;32m    153\u001b[0m                 rows = [\n",
      "\u001b[0;32m~/.pyenv/versions/3.9.6/lib/python3.9/site-packages/sqlalchemy/orm/loading.py\u001b[0m in \u001b[0;36mpolymorphic_instance\u001b[0;34m(row)\u001b[0m\n\u001b[1;32m   1261\u001b[0m         \u001b[0mdiscriminator\u001b[0m \u001b[0;34m=\u001b[0m \u001b[0mgetter\u001b[0m\u001b[0;34m(\u001b[0m\u001b[0mrow\u001b[0m\u001b[0;34m)\u001b[0m\u001b[0;34m\u001b[0m\u001b[0;34m\u001b[0m\u001b[0m\n\u001b[1;32m   1262\u001b[0m         \u001b[0;32mif\u001b[0m \u001b[0mdiscriminator\u001b[0m \u001b[0;32mis\u001b[0m \u001b[0;32mnot\u001b[0m \u001b[0;32mNone\u001b[0m\u001b[0;34m:\u001b[0m\u001b[0;34m\u001b[0m\u001b[0;34m\u001b[0m\u001b[0m\n\u001b[0;32m-> 1263\u001b[0;31m             \u001b[0m_instance\u001b[0m \u001b[0;34m=\u001b[0m \u001b[0mpolymorphic_instances\u001b[0m\u001b[0;34m[\u001b[0m\u001b[0mdiscriminator\u001b[0m\u001b[0;34m]\u001b[0m\u001b[0;34m\u001b[0m\u001b[0;34m\u001b[0m\u001b[0m\n\u001b[0m\u001b[1;32m   1264\u001b[0m             \u001b[0;32mif\u001b[0m \u001b[0m_instance\u001b[0m\u001b[0;34m:\u001b[0m\u001b[0;34m\u001b[0m\u001b[0;34m\u001b[0m\u001b[0m\n\u001b[1;32m   1265\u001b[0m                 \u001b[0;32mreturn\u001b[0m \u001b[0m_instance\u001b[0m\u001b[0;34m(\u001b[0m\u001b[0mrow\u001b[0m\u001b[0;34m)\u001b[0m\u001b[0;34m\u001b[0m\u001b[0;34m\u001b[0m\u001b[0m\n",
      "\u001b[0;32m~/.pyenv/versions/3.9.6/lib/python3.9/site-packages/sqlalchemy/util/_collections.py\u001b[0m in \u001b[0;36m__missing__\u001b[0;34m(self, key)\u001b[0m\n\u001b[1;32m    744\u001b[0m \u001b[0;34m\u001b[0m\u001b[0m\n\u001b[1;32m    745\u001b[0m     \u001b[0;32mdef\u001b[0m \u001b[0m__missing__\u001b[0m\u001b[0;34m(\u001b[0m\u001b[0mself\u001b[0m\u001b[0;34m,\u001b[0m \u001b[0mkey\u001b[0m\u001b[0;34m)\u001b[0m\u001b[0;34m:\u001b[0m\u001b[0;34m\u001b[0m\u001b[0;34m\u001b[0m\u001b[0m\n\u001b[0;32m--> 746\u001b[0;31m         \u001b[0mself\u001b[0m\u001b[0;34m[\u001b[0m\u001b[0mkey\u001b[0m\u001b[0;34m]\u001b[0m \u001b[0;34m=\u001b[0m \u001b[0mval\u001b[0m \u001b[0;34m=\u001b[0m \u001b[0mself\u001b[0m\u001b[0;34m.\u001b[0m\u001b[0mcreator\u001b[0m\u001b[0;34m(\u001b[0m\u001b[0mkey\u001b[0m\u001b[0;34m)\u001b[0m\u001b[0;34m\u001b[0m\u001b[0;34m\u001b[0m\u001b[0m\n\u001b[0m\u001b[1;32m    747\u001b[0m         \u001b[0;32mreturn\u001b[0m \u001b[0mval\u001b[0m\u001b[0;34m\u001b[0m\u001b[0;34m\u001b[0m\u001b[0m\n\u001b[1;32m    748\u001b[0m \u001b[0;34m\u001b[0m\u001b[0m\n",
      "\u001b[0;32m~/.pyenv/versions/3.9.6/lib/python3.9/site-packages/sqlalchemy/orm/loading.py\u001b[0m in \u001b[0;36mconfigure_subclass_mapper\u001b[0;34m(discriminator)\u001b[0m\n\u001b[1;32m   1235\u001b[0m             \u001b[0msub_mapper\u001b[0m \u001b[0;34m=\u001b[0m \u001b[0mmapper\u001b[0m\u001b[0;34m.\u001b[0m\u001b[0mpolymorphic_map\u001b[0m\u001b[0;34m[\u001b[0m\u001b[0mdiscriminator\u001b[0m\u001b[0;34m]\u001b[0m\u001b[0;34m\u001b[0m\u001b[0;34m\u001b[0m\u001b[0m\n\u001b[1;32m   1236\u001b[0m         \u001b[0;32mexcept\u001b[0m \u001b[0mKeyError\u001b[0m\u001b[0;34m:\u001b[0m\u001b[0;34m\u001b[0m\u001b[0;34m\u001b[0m\u001b[0m\n\u001b[0;32m-> 1237\u001b[0;31m             raise AssertionError(\n\u001b[0m\u001b[1;32m   1238\u001b[0m                 \u001b[0;34m\"No such polymorphic_identity %r is defined\"\u001b[0m \u001b[0;34m%\u001b[0m \u001b[0mdiscriminator\u001b[0m\u001b[0;34m\u001b[0m\u001b[0;34m\u001b[0m\u001b[0m\n\u001b[1;32m   1239\u001b[0m             )\n",
      "\u001b[0;31mAssertionError\u001b[0m: No such polymorphic_identity 'acta' is defined"
     ]
    }
   ],
   "source": [
    "acta = session.query(Act).where(Entity.pom_class  == 'acta').first()\n",
    "\n",
    "print(repr(acta))\n",
    "print(acta)"
   ]
  },
  {
   "cell_type": "code",
   "execution_count": null,
   "metadata": {},
   "outputs": [
    {
     "name": "stdout",
     "output_type": "stream",
     "text": [
      "Source(id=Entity(id=\"1D-8-2-4\", pom_class=\"source\",inside=\"root\", the_order=1, the_level=1, the_line=4, groupname=\"fonte\", updated=2021-11-01 01:44:51, indexed=1974-04-25 00:00:01,), the_type=\"livro de notas\", the_date=\"14031691\", local=\"AUC D-8-2-4\", ref=\"None\", kleiofile=\"/kleio-home/sources/soure-fontes/sources/1685-1720/notariais/1D-8-2-4.cli\", replaces=\"n2.23\", obs=legivel)\n",
      "fonte$1D-8-2-4/14031691/type=livro de notas/ref=None/loc=AUC D-8-2-4/kleiofile=/kleio-home/sources/soure-fontes/sources/1685-1720/notariais/1D-8-2-4.cli/replaces=n2.23  /obs=legivel\n"
     ]
    }
   ],
   "source": [
    "source = session.query(Source).where(Entity.pom_class  == 'source').first()\n",
    "\n",
    "print(repr(source))\n",
    "print(source)"
   ]
  },
  {
   "cell_type": "code",
   "execution_count": 180,
   "metadata": {},
   "outputs": [
    {
     "name": "stdout",
     "output_type": "stream",
     "text": [
      "PomSomMapper(id=act, table_name=\"acts\", class_group=\"historical-act\", super_class=\"entity\" )\n",
      "act table acts\n",
      "act.date \tclass date \tcol the_date \ttype varchar size 24 precision 0 primary key 0 \n",
      "act.id \tclass id \tcol id \ttype varchar size 64 precision 0 primary key 1 \n",
      "act.loc \tclass loc \tcol loc \ttype varchar size 64 precision 0 primary key 0 \n",
      "act.obs \tclass obs \tcol obs \ttype varchar size 1024 precision 0 primary key 0 \n",
      "act.ref \tclass ref \tcol ref \ttype varchar size 64 precision 0 primary key 0 \n",
      "act.type \tclass type \tcol the_type \ttype varchar size 32 precision 0 primary key 0 \n",
      "\n",
      "PomSomMapper(id=acta, table_name=\"actas\", class_group=\"amz\", super_class=\"act\" )\n",
      "acta table actas\n",
      "acta.ano \tclass year \tcol the_year \ttype numeric size 4 precision 0 primary key 0 \n",
      "acta.dia \tclass day \tcol the_day \ttype numeric size 2 precision 0 primary key 0 \n",
      "acta.fol \tclass fol \tcol fol \ttype varchar size 64 precision 0 primary key 0 \n",
      "acta.id \tclass id \tcol id \ttype varchar size 64 precision 0 primary key 1 \n",
      "acta.mes \tclass month \tcol the_month \ttype numeric size 2 precision 0 primary key 0 \n",
      "acta.obs \tclass obs \tcol obs \ttype varchar size 16654 precision 0 primary key 0 \n",
      "acta.resumo \tclass resumo \tcol resumo \ttype varchar size 1024 precision 0 primary key 0 \n",
      "\n",
      "PomSomMapper(id=acusacoes, table_name=\"acusacoes\", class_group=\"acusa\", super_class=\"object\" )\n",
      "acusacoes table acusacoes\n",
      "acusacoes.id \tclass id \tcol id \ttype varchar size 64 precision 0 primary key 1 \n",
      "acusacoes.idcaso \tclass idcaso \tcol idcaso \ttype varchar size 64 precision 0 primary key 0 \n",
      "acusacoes.literal \tclass literal \tcol literal \ttype varchar size 16000 precision 0 primary key 0 \n",
      "acusacoes.obs \tclass obs \tcol obs \ttype varchar size 16000 precision 0 primary key 0 \n",
      "acusacoes.origem \tclass origem \tcol origem \ttype varchar size 16000 precision 0 primary key 0 \n",
      "\n",
      "PomSomMapper(id=aforamento, table_name=\"aforamentos\", class_group=\"aforamento\", super_class=\"good\" )\n",
      "aforamento table aforamentos\n",
      "aforamento.description \tclass description \tcol description \ttype varchar size 1024 precision 0 primary key 0 \n",
      "aforamento.id \tclass id \tcol id \ttype varchar size 64 precision 0 primary key 1 \n",
      "aforamento.loc \tclass loc \tcol loc \ttype varchar size 64 precision 0 primary key 0 \n",
      "aforamento.name \tclass name \tcol name \ttype varchar size 64 precision 0 primary key 0 \n",
      "aforamento.obs \tclass obs \tcol obs \ttype varchar size 16654 precision 0 primary key 0 \n",
      "aforamento.type \tclass type \tcol the_type \ttype varchar size 32 precision 0 primary key 0 \n",
      "\n",
      "PomSomMapper(id=attribute, table_name=\"attributes\", class_group=\"attribute\", super_class=\"entity\" )\n",
      "attribute table attributes\n",
      "attribute.date \tclass date \tcol the_date \ttype varchar size 24 precision 0 primary key 0 \n",
      "attribute.entity \tclass entity \tcol entity \ttype varchar size 64 precision 0 primary key 0 \n",
      "attribute.id \tclass id \tcol id \ttype varchar size 64 precision 0 primary key 1 \n",
      "attribute.obs \tclass obs \tcol obs \ttype varchar size 1024 precision 0 primary key 0 \n",
      "attribute.type \tclass type \tcol the_type \ttype varchar size 32 precision 0 primary key 0 \n",
      "attribute.value \tclass value \tcol the_value \ttype varchar size 254 precision 0 primary key 0 \n",
      "\n",
      "PomSomMapper(id=cartaperdao, table_name=\"perdoes\", class_group=\"cartaperdao\", super_class=\"act\" )\n",
      "cartaperdao table perdoes\n",
      "cartaperdao.ano \tclass year \tcol the_year \ttype numeric size 4 precision 0 primary key 0 \n",
      "cartaperdao.cota \tclass ref \tcol cota \ttype varchar size 64 precision 0 primary key 0 \n",
      "cartaperdao.dia \tclass day \tcol the_day \ttype numeric size 2 precision 0 primary key 0 \n",
      "cartaperdao.id \tclass id \tcol id \ttype varchar size 64 precision 0 primary key 1 \n",
      "cartaperdao.local \tclass loc \tcol local \ttype varchar size 64 precision 0 primary key 0 \n",
      "cartaperdao.mes \tclass month \tcol the_month \ttype numeric size 2 precision 0 primary key 0 \n",
      "cartaperdao.obs \tclass obs \tcol obs \ttype varchar size 1024 precision 0 primary key 0 \n",
      "cartaperdao.tabeliao \tclass tabeliao \tcol tabeliao \ttype varchar size 64 precision 0 primary key 0 \n",
      "cartaperdao.tipo \tclass type \tcol the_type \ttype varchar size 12 precision 0 primary key 0 \n",
      "\n",
      "PomSomMapper(id=caso, table_name=\"casos\", class_group=\"caso\", super_class=\"object\" )\n",
      "caso table casos\n",
      "caso.id \tclass id \tcol id \ttype varchar size 64 precision 0 primary key 1 \n",
      "caso.obs \tclass obs \tcol obs \ttype varchar size 16654 precision 0 primary key 0 \n",
      "caso.type \tclass type \tcol the_type \ttype varchar size 32 precision 0 primary key 0 \n",
      "\n",
      "PomSomMapper(id=class, table_name=\"classes\", class_group=\"na\", super_class=\"entity\" )\n",
      "class table classes\n",
      "\n",
      "PomSomMapper(id=crime, table_name=\"cartas_de_perdao\", class_group=\"crime\", super_class=\"object\" )\n",
      "crime table cartas_de_perdao\n",
      "crime.ano \tclass year \tcol the_year \ttype numeric size 4 precision 0 primary key 0 \n",
      "crime.descricao \tclass descricao \tcol descricao \ttype varchar size 1024 precision 0 primary key 0 \n",
      "crime.dia \tclass day \tcol the_day \ttype numeric size 2 precision 0 primary key 0 \n",
      "crime.forma \tclass forma \tcol forma \ttype varchar size 64 precision 0 primary key 0 \n",
      "crime.id \tclass id \tcol id \ttype varchar size 64 precision 0 primary key 1 \n",
      "crime.instrumento \tclass objecto \tcol instrumento \ttype varchar size 32 precision 0 primary key 0 \n",
      "crime.local \tclass loc \tcol local \ttype varchar size 32 precision 0 primary key 0 \n",
      "crime.mes \tclass month \tcol the_month \ttype numeric size 2 precision 0 primary key 0 \n",
      "crime.objecto \tclass objecto \tcol objecto \ttype varchar size 128 precision 0 primary key 0 \n",
      "crime.obs \tclass obs \tcol obs \ttype varchar size 1024 precision 0 primary key 0 \n",
      "crime.ocorrencia \tclass ocorrencia \tcol ocorrencia \ttype varchar size 128 precision 0 primary key 0 \n",
      "crime.pronuncia \tclass pronuncia \tcol pronuncia \ttype varchar size 128 precision 0 primary key 0 \n",
      "crime.situacao \tclass situacao \tcol situacao \ttype varchar size 128 precision 0 primary key 0 \n",
      "crime.subtipo \tclass subtipo \tcol subtipo \ttype varchar size 32 precision 0 primary key 0 \n",
      "crime.tempo \tclass tempo \tcol tempo \ttype varchar size 32 precision 0 primary key 0 \n",
      "crime.tipo \tclass type \tcol the_type \ttype varchar size 32 precision 0 primary key 0 \n",
      "\n",
      "PomSomMapper(id=divida, table_name=\"dividas\", class_group=\"divida\", super_class=\"object\" )\n",
      "divida table dividas\n",
      "divida.id \tclass id \tcol id \ttype varchar size 64 precision 0 primary key 1 \n",
      "divida.juro \tclass juro \tcol juro \ttype varchar size 32 precision 0 primary key 0 \n",
      "divida.moeda \tclass moeda \tcol moeda \ttype varchar size 12 precision 0 primary key 0 \n",
      "divida.obs \tclass obs \tcol obs \ttype varchar size 1024 precision 0 primary key 0 \n",
      "divida.prazo \tclass prazo \tcol prazo \ttype varchar size 254 precision 0 primary key 0 \n",
      "divida.valor \tclass value \tcol the_value \ttype varchar size 254 precision 0 primary key 0 \n",
      "divida.valorn \tclass valorn \tcol valorn \ttype numeric size 12 precision 2 primary key 0 \n",
      "\n",
      "PomSomMapper(id=entity, table_name=\"entities\", class_group=\"na\", super_class=\"root\" )\n",
      "entity table entities\n",
      "entity.class \tclass class \tcol class \ttype varchar size 64 precision 0 primary key 0 \n",
      "entity.groupname \tclass groupname \tcol groupname \ttype varchar size 32 precision 0 primary key 0 \n",
      "entity.id \tclass id \tcol id \ttype varchar size 64 precision 0 primary key 1 \n",
      "entity.inside \tclass inside \tcol inside \ttype varchar size 64 precision 0 primary key 0 \n",
      "entity.level \tclass level \tcol the_level \ttype numeric size 3 precision 0 primary key 0 \n",
      "entity.line \tclass line \tcol the_line \ttype numeric size 6 precision 0 primary key 0 \n",
      "entity.order \tclass order \tcol the_order \ttype numeric size 6 precision 0 primary key 0 \n",
      "\n",
      "PomSomMapper(id=escritura, table_name=\"escrituras\", class_group=\"escritura\", super_class=\"act\" )\n",
      "escritura table escrituras\n",
      "escritura.date \tclass date \tcol the_date \ttype varchar size 24 precision 0 primary key 0 \n",
      "escritura.fol \tclass fol \tcol fol \ttype varchar size 64 precision 0 primary key 0 \n",
      "escritura.id \tclass id \tcol id \ttype varchar size 64 precision 0 primary key 1 \n",
      "escritura.loc \tclass loc \tcol loc \ttype varchar size 64 precision 0 primary key 0 \n",
      "escritura.obs \tclass obs \tcol obs \ttype varchar size 1024 precision 0 primary key 0 \n",
      "escritura.sumario \tclass summary \tcol summary \ttype varchar size 1024 precision 0 primary key 0 \n",
      "escritura.type \tclass type \tcol the_type \ttype varchar size 32 precision 0 primary key 0 \n",
      "\n",
      "PomSomMapper(id=geoentity, table_name=\"geoentities\", class_group=\"geoentity\", super_class=\"entity\" )\n",
      "geoentity table geoentities\n",
      "geoentity.id \tclass id \tcol id \ttype varchar size 64 precision 0 primary key 1 \n",
      "geoentity.name \tclass name \tcol name \ttype varchar size 64 precision 0 primary key 0 \n",
      "geoentity.obs \tclass obs \tcol obs \ttype varchar size 1024 precision 0 primary key 0 \n",
      "geoentity.type \tclass type \tcol the_type \ttype varchar size 32 precision 0 primary key 0 \n",
      "\n",
      "PomSomMapper(id=good, table_name=\"goods\", class_group=\"bem\", super_class=\"object\" )\n",
      "good table goods\n",
      "good.description \tclass description \tcol description \ttype varchar size 1024 precision 0 primary key 0 \n",
      "good.id \tclass id \tcol id \ttype varchar size 64 precision 0 primary key 1 \n",
      "good.loc \tclass loc \tcol loc \ttype varchar size 64 precision 0 primary key 0 \n",
      "good.name \tclass name \tcol name \ttype varchar size 64 precision 0 primary key 0 \n",
      "good.obs \tclass obs \tcol obs \ttype varchar size 1024 precision 0 primary key 0 \n",
      "good.type \tclass type \tcol the_type \ttype varchar size 32 precision 0 primary key 0 \n",
      "\n",
      "PomSomMapper(id=group_element, table_name=\"gelement\", class_group=\"sacr\", super_class=\"entity\" )\n",
      "group_element table gelement\n",
      "group_element.id \tclass id \tcol id \ttype varchar size 64 precision 0 primary key 1 \n",
      "group_element.obs \tclass obs \tcol obs \ttype varchar size 1024 precision 0 primary key 0 \n",
      "group_element.value \tclass value \tcol the_value \ttype varchar size 254 precision 0 primary key 0 \n",
      "\n",
      "PomSomMapper(id=item, table_name=\"items\", class_group=\"item\", super_class=\"object\" )\n",
      "item table items\n",
      "item.id \tclass id \tcol id \ttype varchar size 64 precision 0 primary key 1 \n",
      "item.resumo \tclass resumo \tcol resumo \ttype varchar size 2048 precision 0 primary key 0 \n",
      "item.titulo \tclass titulo \tcol titulo \ttype varchar size 128 precision 0 primary key 0 \n",
      "\n",
      "PomSomMapper(id=lgraph, table_name=\"lgraphs\", class_group=\"lgraph\", super_class=\"entity\" )\n",
      "lgraph table lgraphs\n",
      "\n",
      "PomSomMapper(id=object, table_name=\"objects\", class_group=\"object\", super_class=\"entity\" )\n",
      "object table objects\n",
      "object.id \tclass id \tcol id \ttype varchar size 64 precision 0 primary key 1 \n",
      "object.name \tclass name \tcol name \ttype varchar size 64 precision 0 primary key 0 \n",
      "object.obs \tclass obs \tcol obs \ttype varchar size 1024 precision 0 primary key 0 \n",
      "object.type \tclass type \tcol the_type \ttype varchar size 32 precision 0 primary key 0 \n",
      "\n",
      "PomSomMapper(id=person, table_name=\"persons\", class_group=\"person\", super_class=\"entity\" )\n",
      "person table persons\n",
      "person.id \tclass id \tcol id \ttype varchar size 64 precision 0 primary key 1 \n",
      "person.name \tclass name \tcol name \ttype varchar size 64 precision 0 primary key 0 \n",
      "person.obs \tclass obs \tcol obs \ttype varchar size 1024 precision 0 primary key 0 \n",
      "person.sex \tclass sex \tcol sex \ttype char size 1 precision 0 primary key 0 \n",
      "\n",
      "PomSomMapper(id=relation, table_name=\"relations\", class_group=\"relation\", super_class=\"entity\" )\n",
      "relation table relations\n",
      "relation.date \tclass date \tcol the_date \ttype varchar size 24 precision 0 primary key 0 \n",
      "relation.destination \tclass destination \tcol destination \ttype varchar size 64 precision 0 primary key 0 \n",
      "relation.id \tclass id \tcol id \ttype varchar size 64 precision 0 primary key 1 \n",
      "relation.obs \tclass obs \tcol obs \ttype varchar size 1024 precision 0 primary key 0 \n",
      "relation.origin \tclass origin \tcol origin \ttype varchar size 64 precision 0 primary key 0 \n",
      "relation.type \tclass type \tcol the_type \ttype varchar size 32 precision 0 primary key 0 \n",
      "relation.value \tclass value \tcol the_value \ttype varchar size 254 precision 0 primary key 0 \n",
      "\n",
      "PomSomMapper(id=rgeoentity, table_name=\"rgeoentities\", class_group=\"rgeoentity\", super_class=\"rentity\" )\n",
      "rgeoentity table rgeoentities\n",
      "rgeoentity.id \tclass id \tcol id \ttype varchar size 64 precision 0 primary key 1 \n",
      "rgeoentity.obs \tclass obs \tcol obs \ttype text size 32000 precision 0 primary key 0 \n",
      "rgeoentity.sname \tclass sname \tcol sname \ttype varchar size 64 precision 0 primary key 0 \n",
      "rgeoentity.status \tclass status \tcol status \ttype char size 1 precision 0 primary key 0 \n",
      "\n",
      "PomSomMapper(id=robject, table_name=\"robjects\", class_group=\"robject\", super_class=\"rentity\" )\n",
      "robject table robjects\n",
      "robject.id \tclass id \tcol id \ttype varchar size 64 precision 0 primary key 1 \n",
      "robject.obs \tclass obs \tcol obs \ttype varchar size 16000 precision 0 primary key 0 \n",
      "robject.sname \tclass sname \tcol sname \ttype varchar size 64 precision 0 primary key 0 \n",
      "robject.type \tclass type \tcol the_type \ttype varchar size 32 precision 0 primary key 0 \n",
      "robject.user \tclass user \tcol user \ttype varchar size 64 precision 0 primary key 0 \n",
      "\n",
      "PomSomMapper(id=rperson, table_name=\"rpersons\", class_group=\"rperson\", super_class=\"rentity\" )\n",
      "rperson table rpersons\n",
      "rperson.id \tclass id \tcol id \ttype varchar size 64 precision 0 primary key 1 \n",
      "rperson.obs \tclass obs \tcol obs \ttype varchar size 1024 precision 0 primary key 0 \n",
      "rperson.seq \tclass seq \tcol seq \ttype int size 10 precision 0 primary key 0 \n",
      "rperson.sex \tclass sex \tcol sex \ttype varchar size 1 precision 0 primary key 0 \n",
      "rperson.sname \tclass name \tcol sname \ttype varchar size 128 precision 0 primary key 0 \n",
      "rperson.status \tclass status \tcol status \ttype varchar size 1 precision 0 primary key 0 \n",
      "rperson.user \tclass user \tcol user \ttype varchar size 64 precision 0 primary key 0 \n",
      "\n",
      "PomSomMapper(id=source, table_name=\"sources\", class_group=\"historical-source\", super_class=\"entity\" )\n",
      "source table sources\n",
      "source.date \tclass date \tcol the_date \ttype varchar size 24 precision 0 primary key 0 \n",
      "source.id \tclass id \tcol id \ttype varchar size 64 precision 0 primary key 1 \n",
      "source.kleiofile \tclass kleiofile \tcol kleiofile \ttype varchar size 512 precision 0 primary key 0 \n",
      "source.loc \tclass loc \tcol loc \ttype varchar size 64 precision 0 primary key 0 \n",
      "source.obs \tclass obs \tcol obs \ttype varchar size 1024 precision 0 primary key 0 \n",
      "source.ref \tclass ref \tcol ref \ttype varchar size 64 precision 0 primary key 0 \n",
      "source.replace \tclass replace \tcol replaces \ttype varchar size 254 precision 0 primary key 0 \n",
      "source.type \tclass type \tcol the_type \ttype varchar size 32 precision 0 primary key 0 \n",
      "source.value \tclass value \tcol the_value \ttype varchar size 254 precision 0 primary key 0 \n",
      "\n"
     ]
    }
   ],
   "source": [
    "pom_classes = session.query(PomSomMapper).where(Entity.pom_class  == 'class').all()\n",
    "for pom_class in pom_classes:\n",
    "    print(repr(pom_class))\n",
    "    print(pom_class)"
   ]
  },
  {
   "cell_type": "code",
   "execution_count": 237,
   "metadata": {},
   "outputs": [
    {
     "name": "stdout",
     "output_type": "stream",
     "text": [
      "[<class '__main__.Attribute'>, <class '__main__.Relation'>, <class '__main__.Person'>, <class '__main__.Object'>, <class '__main__.Act'>, <class '__main__.Source'>, <class '__main__.PomSomMapper'>]\n",
      "attribute\n",
      "relation\n",
      "person\n",
      "object\n",
      "act\n",
      "source\n",
      "class\n",
      "['attribute', 'relation', 'person', 'object', 'act', 'source', 'class']\n",
      "pom_classes ['attribute', 'relation', 'person', 'object', 'act', 'source', 'class']\n"
     ]
    }
   ],
   "source": [
    "print(list(Entity.get_subclasses()))\n",
    "for aclass in Entity.get_subclasses():\n",
    "    print(aclass.__mapper_args__['polymorphic_identity'])\n",
    "print([aclass.__mapper_args__['polymorphic_identity'] for aclass in Entity.get_subclasses()])\n",
    "print(\"pom_classes\",Entity.get_pom_classes())"
   ]
  },
  {
   "cell_type": "code",
   "execution_count": 188,
   "metadata": {},
   "outputs": [
    {
     "data": {
      "text/plain": [
       "['__abstract__',\n",
       " '__class__',\n",
       " '__delattr__',\n",
       " '__dict__',\n",
       " '__dir__',\n",
       " '__doc__',\n",
       " '__eq__',\n",
       " '__format__',\n",
       " '__ge__',\n",
       " '__getattribute__',\n",
       " '__gt__',\n",
       " '__hash__',\n",
       " '__init__',\n",
       " '__init_subclass__',\n",
       " '__le__',\n",
       " '__lt__',\n",
       " '__mapper__',\n",
       " '__mapper_args__',\n",
       " '__module__',\n",
       " '__ne__',\n",
       " '__new__',\n",
       " '__reduce__',\n",
       " '__reduce_ex__',\n",
       " '__repr__',\n",
       " '__setattr__',\n",
       " '__sizeof__',\n",
       " '__str__',\n",
       " '__subclasshook__',\n",
       " '__table__',\n",
       " '__tablename__',\n",
       " '__weakref__',\n",
       " '_sa_class_manager',\n",
       " '_sa_registry',\n",
       " 'attributes',\n",
       " 'class_attributes',\n",
       " 'class_group',\n",
       " 'get_subclasses',\n",
       " 'groupname',\n",
       " 'id',\n",
       " 'indexed',\n",
       " 'inside',\n",
       " 'metadata',\n",
       " 'pom_class',\n",
       " 'registry',\n",
       " 'rels_in',\n",
       " 'rels_out',\n",
       " 'super_class',\n",
       " 'table_name',\n",
       " 'the_level',\n",
       " 'the_line',\n",
       " 'the_order',\n",
       " 'updated']"
      ]
     },
     "execution_count": 188,
     "metadata": {},
     "output_type": "execute_result"
    }
   ],
   "source": [
    "dir(aclass)"
   ]
  },
  {
   "cell_type": "markdown",
   "metadata": {},
   "source": []
  },
  {
   "cell_type": "code",
   "execution_count": 63,
   "metadata": {},
   "outputs": [
    {
     "name": "stdout",
     "output_type": "stream",
     "text": [
      "SELECT entities.class, persons.id, entities.id AS id_1, entities.inside, entities.the_order, entities.the_level, entities.the_line, entities.groupname, entities.updated, entities.indexed, persons.name, persons.sex, persons.obs \n",
      "FROM entities JOIN persons ON entities.id = persons.id \n",
      "WHERE persons.id = :id_2\n",
      "n$Arnaldo Henriques de Abreu/id=140625#person\n",
      "     ls$código-de-referência/\"PT/AUC/ELU/UC-AUC/B/001-001/A/000336\"/20200211\n",
      "     ls$data-do-registo/2018-04-19 14:33:58/20200211\n",
      "     ls$url/\"https://pesquisa.auc.uc.pt/details?id=140625\"/20200211\n",
      "     ls$uc.entrada/1835-10-17/1835-10-17\n",
      "     ls$uc.saida/1838-10-09/1838-10-09\n",
      "     ls$uc.entrada.ano/1835/1835-10-17\n",
      "     ls$uc.saida.ano/1838/1838-10-09\n",
      "     ls$nome/Arnaldo Henriques de Abreu/1835-10-17\n",
      "     ls$nome.primeiro/Arnaldo/1835-10-17\n",
      "     ls$nome.apelido/Henriques de Abreu/1835-10-17\n",
      "     ls$nome.apelido/Abreu/1835-10-17\n",
      "     ls$naturalidade/Porto/1835-10-17\n",
      "     ls$naturalidade.ano/Porto.1835/1835-10-17\n",
      "     ls$nome-geografico/Porto/1835-10-17\n",
      "     ls$nome-geografico.ano/Porto.1835/1835-10-17\n",
      "     ls$faculdade/Matemática/1835-10-17\n",
      "     ls$faculdade.ano/Matemática.1835/1835-10-17\n",
      "     ls$matricula/Matemática/1835-10-17/obs=\"1835/10/17 (obrigado)\"\n",
      "     ls$matricula.ano/Matemática.1835/1835-10-17/obs=\"1835/10/17 (obrigado)\"\n",
      "     ls$matricula/Matemática/1835-10-17/obs=\"1835/10/17 (obrigado)\"\n",
      "     ls$matricula.ano/Matemática.1835/1835-10-17/obs=\"1835/10/17 (obrigado)\"\n",
      "     ls$matricula/Matemática/1838-10-09/obs=\"1838/10/09\"\n",
      "     ls$matricula.ano/Matemática.1838/1838-10-09/obs=\"1838/10/09\"\n",
      ">     rel$function-in-act/n/auc-alumni-A-140337-140771/20200211\n"
     ]
    }
   ],
   "source": [
    "from sqlalchemy import select\n",
    "from sqlalchemy.orm import Session\n",
    "\n",
    "stmt = select(Person).first()\n",
    "print(stmt)\n",
    "with Session(engine) as session:\n",
    "    for row in session.execute(stmt):\n",
    "        entity: Entity=row[0]\n",
    "        print(f'{entity.groupname}${entity.name}/id={entity.id}#{entity.pom_class}')\n",
    "        for attribute in entity.attributes:\n",
    "            print(f'     ls${attribute.the_type}/{attribute.the_value}/{attribute.the_date}',end='')\n",
    "            if attribute.obs is not None:\n",
    "                print(f'/obs={attribute.obs}')\n",
    "            else:\n",
    "                print()\n",
    "        if len(entity.rels_out)>0:\n",
    "            for rel in entity.rels_out:\n",
    "                print(f'>{rel}')\n",
    "        if len(entity.rels_in)>0:\n",
    "            for rel in entity.rels_in:\n",
    "                    print(rel,'<')               \n"
   ]
  },
  {
   "cell_type": "markdown",
   "metadata": {},
   "source": [
    "## Source files"
   ]
  },
  {
   "cell_type": "code",
   "execution_count": 37,
   "metadata": {},
   "outputs": [
    {
     "name": "stdout",
     "output_type": "stream",
     "text": [
      "Number of kleio_files: 235\n",
      "235 rows affected.\n",
      "Number of imported files: 235\n",
      "Files not in the database: set()\n",
      "Imported sources no file found: set()\n"
     ]
    }
   ],
   "source": [
    "from pathlib import Path\n",
    "\n",
    "kleio_files = [f.stem for f in list(Path('../sources').rglob('*.cli'))]\n",
    "print(\"Number of kleio_files:\", len(kleio_files))\n",
    "\n",
    "imported_sources = %sql select sources.id, sources.kleiofile, entities.updated from sources left join entities on (sources.id=entities.id) order by updated desc \n",
    "sources_in_db = [s.id for s in imported_sources]\n",
    "print(\"Number of imported files:\",len(sources_in_db))\n",
    "\n",
    "print(\"Files not in the database:\", set(kleio_files)-set(sources_in_db))\n",
    "print(\"Imported sources no file found:\", set(sources_in_db)-set(kleio_files))\n",
    "\n"
   ]
  },
  {
   "cell_type": "markdown",
   "metadata": {},
   "source": []
  },
  {
   "cell_type": "markdown",
   "metadata": {},
   "source": [
    "## Analyse attributes extracted from records"
   ]
  },
  {
   "cell_type": "markdown",
   "metadata": {},
   "source": [
    "### Attributes in the database"
   ]
  },
  {
   "cell_type": "code",
   "execution_count": 8,
   "metadata": {},
   "outputs": [
    {
     "name": "stdout",
     "output_type": "stream",
     "text": [
      "28 rows affected.\n",
      "105300 | código-de-referência\n",
      "   275 | colegio\n",
      "105300 | data-do-registo\n",
      "   186 | ec\n",
      " 53627 | exame\n",
      " 94164 | faculdade\n",
      " 94164 | faculdade.ano\n",
      "106372 | grau\n",
      "106372 | grau.ano\n",
      "319291 | matricula\n",
      "319291 | matricula.ano\n",
      " 98904 | naturalidade\n",
      " 98904 | naturalidade.ano\n",
      "105300 | nome\n",
      "107486 | nome-geografico\n",
      "101392 | nome-geografico.ano\n",
      "198660 | nome.apelido\n",
      "105300 | nome.primeiro\n",
      "  8155 | nome.vide\n",
      "  9975 | nota\n",
      "  3142 | ordem-religiosa\n",
      "  7036 | padre\n",
      "  4170 | titulo\n",
      "105300 | uc.entrada\n",
      " 99014 | uc.entrada.ano\n",
      "105300 | uc.saida\n",
      " 99281 | uc.saida.ano\n",
      "105300 | url\n"
     ]
    }
   ],
   "source": [
    "nml = %sql select the_type, count(*) as tot from attributes group by the_type\n",
    "for the_type, tot in nml:\n",
    "    print(f'{tot:6} | {the_type}')"
   ]
  },
  {
   "cell_type": "code",
   "execution_count": 11,
   "metadata": {},
   "outputs": [
    {
     "name": "stdout",
     "output_type": "stream",
     "text": [
      "473 rows affected.\n"
     ]
    },
    {
     "ename": "ValueError",
     "evalue": "Unknown format code 'r' for object of type 'str'",
     "output_type": "error",
     "traceback": [
      "\u001b[0;31m---------------------------------------------------------------------------\u001b[0m",
      "\u001b[0;31mValueError\u001b[0m                                Traceback (most recent call last)",
      "\u001b[0;32m/tmp/ipykernel_428226/4098037847.py\u001b[0m in \u001b[0;36m<module>\u001b[0;34m\u001b[0m\n\u001b[1;32m      1\u001b[0m \u001b[0mp1540\u001b[0m \u001b[0;34m=\u001b[0m \u001b[0mget_ipython\u001b[0m\u001b[0;34m(\u001b[0m\u001b[0;34m)\u001b[0m\u001b[0;34m.\u001b[0m\u001b[0mrun_line_magic\u001b[0m\u001b[0;34m(\u001b[0m\u001b[0;34m'sql'\u001b[0m\u001b[0;34m,\u001b[0m \u001b[0;34m\"select id, name, pobs from nattributes where the_type='uc.entrada' and the_value like '1540%'\"\u001b[0m\u001b[0;34m)\u001b[0m\u001b[0;34m\u001b[0m\u001b[0;34m\u001b[0m\u001b[0m\n\u001b[1;32m      2\u001b[0m \u001b[0;32mfor\u001b[0m \u001b[0mid\u001b[0m\u001b[0;34m,\u001b[0m \u001b[0mname\u001b[0m\u001b[0;34m,\u001b[0m \u001b[0mpobs\u001b[0m \u001b[0;32min\u001b[0m \u001b[0mp1540\u001b[0m\u001b[0;34m:\u001b[0m\u001b[0;34m\u001b[0m\u001b[0;34m\u001b[0m\u001b[0m\n\u001b[0;32m----> 3\u001b[0;31m     \u001b[0mprint\u001b[0m\u001b[0;34m(\u001b[0m\u001b[0;34mf'{id:r} | {name} \\n {pobs}\\n\\n'\u001b[0m\u001b[0;34m)\u001b[0m\u001b[0;34m\u001b[0m\u001b[0;34m\u001b[0m\u001b[0m\n\u001b[0m",
      "\u001b[0;31mValueError\u001b[0m: Unknown format code 'r' for object of type 'str'"
     ]
    }
   ],
   "source": [
    "p1540 = %sql select id, name, pobs from nattributes where the_type='uc.entrada' and the_value like '1540%'\n",
    "for id, name, pobs in p1540:\n",
    "    print(f'{id:5} | {name} \\n {pobs}\\n\\n')"
   ]
  }
 ],
 "metadata": {
  "interpreter": {
   "hash": "5e0ea4420a573f75e62c9da893eee578da14dd1811a84166ea299fd82591eb6f"
  },
  "kernelspec": {
   "display_name": "Python 3.9.6 64-bit ('3.9.6': pyenv)",
   "name": "python3"
  },
  "language_info": {
   "codemirror_mode": {
    "name": "ipython",
    "version": 3
   },
   "file_extension": ".py",
   "mimetype": "text/x-python",
   "name": "python",
   "nbconvert_exporter": "python",
   "pygments_lexer": "ipython3",
   "version": "3.9.6"
  },
  "metadata": {
   "interpreter": {
    "hash": "7eb78c199a872a9864157d40ba1a3a21c75b2dca99a04068f89256c905325ae7"
   }
  },
  "orig_nbformat": 2
 },
 "nbformat": 4,
 "nbformat_minor": 2
}
