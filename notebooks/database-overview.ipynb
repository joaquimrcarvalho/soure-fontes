{
 "cells": [
  {
   "cell_type": "markdown",
   "metadata": {},
   "source": [
    "# Database overview notebook"
   ]
  },
  {
   "cell_type": "markdown",
   "metadata": {},
   "source": [
    "> First time use: follow instructions in the README.md file in this directory."
   ]
  },
  {
   "cell_type": "markdown",
   "metadata": {},
   "source": [
    "## Setup"
   ]
  },
  {
   "cell_type": "code",
   "execution_count": 284,
   "metadata": {},
   "outputs": [
    {
     "name": "stdout",
     "output_type": "stream",
     "text": [
      "Available databases:\n",
      "['alunos', 'angelica', 'api_tests', 'china', 'china_coimbra', 'dyncoopnet', 'eiras', 'familias', 'glopes', 'ilhavo', 'ilhavo2', 'ilhavo_contrib', 'ilhavo_editor', 'ilhavo_server', 'ilhavo_testes', 'lousa', 'lousa3', 'lousa4', 'mhk', 'notaveis', 'obidos', 'oguest', 'rhv', 'santaclara', 'santajusta', 'sister', 'soure', 'soure_edit', 'soure_editor', 'soure_mfg', 'soure_public', 'soure_server', 'testes', 'toliveira', 'toliveira_reviewed', 'ucprosop']\n"
     ]
    }
   ],
   "source": [
    "from timelink.mhk.utilities import get_engine, get_dbnames, get_connection_string\n",
    "from sqlalchemy import engine, text, MetaData\n",
    "print('Available databases:')\n",
    "print(get_dbnames())\n",
    "#%load_ext sql\n",
    "#%config SqlMagic.displaycon=False"
   ]
  },
  {
   "cell_type": "markdown",
   "metadata": {},
   "source": [
    "## Connect to database"
   ]
  },
  {
   "cell_type": "markdown",
   "metadata": {},
   "source": [
    "### Choose the database"
   ]
  },
  {
   "cell_type": "code",
   "execution_count": 285,
   "metadata": {},
   "outputs": [],
   "source": [
    "db = 'soure_editor'\n",
    "connection_string = get_connection_string(db)\n",
    "engine = get_engine(db)"
   ]
  },
  {
   "cell_type": "markdown",
   "metadata": {},
   "source": [
    "## Database status"
   ]
  },
  {
   "cell_type": "code",
   "execution_count": 286,
   "metadata": {},
   "outputs": [
    {
     "name": "stdout",
     "output_type": "stream",
     "text": [
      "act 10842\n",
      "acta 180\n",
      "acusacoes 375\n",
      "aforamento 2\n",
      "aregister 2\n",
      "attribute 66539\n",
      "cartaperdao 2\n",
      "caso 49\n",
      "class 27\n",
      "crime 1\n",
      "divida 3\n",
      "escritura 253\n",
      "geoentity 9\n",
      "good 6\n",
      "group_element 10869\n",
      "item 92\n",
      "object 2\n",
      "person 52228\n",
      "relation 104592\n",
      "rperson 1124\n",
      "source 193\n"
     ]
    }
   ],
   "source": [
    "with engine.connect() as connection:\n",
    "    classes = connection.execute(\n",
    "        text('select class,count(*) as n from entities group by class')\n",
    "    )\n",
    "    classes\n",
    "for c in classes:\n",
    "    print(c['class'],c.n)"
   ]
  },
  {
   "cell_type": "markdown",
   "metadata": {},
   "source": [
    "## Map MHK database"
   ]
  },
  {
   "cell_type": "code",
   "execution_count": 287,
   "metadata": {},
   "outputs": [],
   "source": [
    "\n",
    "from sqlalchemy import Column,String,Integer,DateTime, ForeignKey\n",
    "from sqlalchemy.orm import declarative_base, relationship\n",
    "\n",
    "Base = declarative_base()\n"
   ]
  },
  {
   "cell_type": "markdown",
   "metadata": {},
   "source": [
    "## Entities\n",
    "     \n",
    "        |-----------|--------------|------|-----|---------------------+-----------------------------+\n",
    "        | Field     | Type         | Null | Key | Default             | Extra                       |\n",
    "        +-----------+--------------+------+-----+---------------------+-----------------------------+\n",
    "        | id        | varchar(64)  | NO   | PRI | NULL                |                             |\n",
    "        | class     | varchar(64)  | YES  | MUL | NULL                |                             |\n",
    "        | inside    | varchar(64)  | YES  | MUL | NULL                |                             |\n",
    "        | the_order | decimal(6,0) | YES  |     | NULL                |                             |\n",
    "        | the_level | decimal(6,0) | YES  |     | NULL                |                             |\n",
    "        | the_line  | decimal(6,0) | YES  |     | NULL                |                             |\n",
    "        | groupname | varchar(32)  | YES  | MUL | NULL                |                             |\n",
    "        | updated   | timestamp    | NO   | MUL | CURRENT_TIMESTAMP   | on update CURRENT_TIMESTAMP |\n",
    "        | indexed   | timestamp    | NO   | MUL | 1974-04-25 00:00:01 |                             |\n",
    "        +-----------+--------------+------+-----+---------------------+-----------------------------+"
   ]
  },
  {
   "cell_type": "code",
   "execution_count": 288,
   "metadata": {},
   "outputs": [],
   "source": [
    "\n",
    "class Entity(Base):\n",
    "    __tablename__ = 'entities'\n",
    "\n",
    "    id = Column(String, primary_key=True)\n",
    "    pom_class = Column('class',String)\n",
    "    inside = Column(String)\n",
    "    the_order = Column(Integer)\n",
    "    the_level = Column(Integer)\n",
    "    the_line = Column(Integer)\n",
    "    groupname = Column(String)\n",
    "    updated = Column(DateTime)\n",
    "    indexed = Column(DateTime)\n",
    "\n",
    "\n",
    "    rels_in = relationship(\"Relation\", back_populates=\"dest\")\n",
    "    rels_out = relationship(\"Relation\",back_populates=\"org\")\n",
    "\n",
    "    # see https://docs.sqlalchemy.org/en/14/orm/inheritance.html\n",
    "    __mapper_args__ = {\n",
    "        'polymorphic_identity': 'entity',\n",
    "        'polymorphic_on':pom_class\n",
    "    }\n",
    "\n",
    "    # untested\n",
    "    @classmethod  # untested\n",
    "    def get_subclasses(cls):\n",
    "        for subclass in cls.__subclasses__():\n",
    "            yield from subclass.get_subclasses()\n",
    "            yield subclass\n",
    "\n",
    "    def __repr__(self):\n",
    "        return (\n",
    "            f'Entity(id=\"{self.id}\", '\n",
    "            f'pom_class=\"{self.pom_class}\",'\n",
    "            f'inside=\"{self.inside}\", '\n",
    "            f'the_order={self.the_order}, '\n",
    "            f'the_level={self.the_level}, '\n",
    "            f'the_line={self.the_line}, '\n",
    "            f'groupname=\"{self.groupname}\", '\n",
    "            \n",
    "            f'updated={self.updated}, '\n",
    "            f'indexed={self.indexed},'\n",
    "            f')'\n",
    "        )\n",
    "        \n",
    "    def __str__(self):\n",
    "        return (f'{self.groupname}${self.id}/type={self.pom_class}')\n"
   ]
  },
  {
   "cell_type": "markdown",
   "metadata": {},
   "source": [
    "## Attributes\n",
    "    +-----------+----------------+------+-----+---------+-------+\n",
    "    | Field     | Type           | Null | Key | Default | Extra |\n",
    "    +-----------+----------------+------+-----+---------+-------+\n",
    "    | id        | varchar(64)    | NO   | PRI | NULL    |       |\n",
    "    | entity    | varchar(64)    | YES  | MUL | NULL    |       |\n",
    "    | the_type  | varchar(512)   | YES  | MUL | NULL    |       |\n",
    "    | the_value | varchar(1024)  | YES  | MUL | NULL    |       |\n",
    "    | the_date  | varchar(24)    | YES  | MUL | NULL    |       |\n",
    "    | obs       | varchar(16000) | YES  |     | NULL    |       |\n",
    "    +-----------+----------------+------+-----+---------+-------+"
   ]
  },
  {
   "cell_type": "code",
   "execution_count": 289,
   "metadata": {},
   "outputs": [],
   "source": [
    "\n",
    "class Attribute(Entity):\n",
    "    __tablename__ = 'attributes'\n",
    "\n",
    "    id = Column(String, ForeignKey('entities.id'), primary_key=True)\n",
    "    entity = Column(String,ForeignKey('entities.id'))\n",
    "    the_type = Column(String)\n",
    "    the_value = Column(String)\n",
    "    the_date = Column(String)\n",
    "    obs = Column(String)\n",
    "\n",
    "    the_entity = relationship(\"Entity\",foreign_keys=[entity],back_populates=\"attributes\",)\n",
    "\n",
    "    __mapper_args__ = {\n",
    "        'polymorphic_identity':'attribute',     \n",
    "        'inherit_condition': id == Entity.id\n",
    "    }\n",
    "\n",
    "    def __repr__(self):\n",
    "        return (\n",
    "            f'Attribute(id={super().__repr__()}, '\n",
    "            f'entity=\"{self.entity}\", '\n",
    "            f'the_type=\"{self.the_type}\", '\n",
    "            f'the_value=\"{self.the_value}\", '\n",
    "            f'the_date=\"{self.the_date}\"\", '\n",
    "            f'obs={self.obs}'\n",
    "            f')'\n",
    "        )\n",
    "\n",
    "    def __str__(self):\n",
    "        r = f'     ls${self.the_type}/{self.the_value}/{self.the_date}'\n",
    "        if self.obs is not None:\n",
    "                r = (f'{r}/obs={self.obs}')\n",
    "        return r\n",
    "\n",
    "\n",
    "Entity.attributes = relationship(\"Attribute\", foreign_keys=[Attribute.entity], back_populates=\"the_entity\")\n"
   ]
  },
  {
   "cell_type": "markdown",
   "metadata": {},
   "source": [
    "## Relations   \n",
    "    +-------------+----------------+------+-----+---------+-------+\n",
    "    | Field       | Type           | Null | Key | Default | Extra |\n",
    "    +-------------+----------------+------+-----+---------+-------+\n",
    "    | id          | varchar(64)    | NO   | PRI | NULL    |       |\n",
    "    | origin      | varchar(64)    | YES  | MUL | NULL    |       |\n",
    "    | destination | varchar(64)    | YES  | MUL | NULL    |       |\n",
    "    | the_date    | varchar(24)    | YES  | MUL | NULL    |       |\n",
    "    | the_type    | varchar(32)    | YES  | MUL | NULL    |       |\n",
    "    | the_value   | varchar(256)   | YES  | MUL | NULL    |       |\n",
    "    | obs         | varchar(16000) | YES  |     | NULL    |       |\n",
    "    +-------------+----------------+------+-----+---------+-------+"
   ]
  },
  {
   "cell_type": "code",
   "execution_count": 290,
   "metadata": {},
   "outputs": [
    {
     "name": "stderr",
     "output_type": "stream",
     "text": [
      "/var/folders/sx/x6pyh9097n98mlz29_6njdj00000gn/T/ipykernel_3272/4209139393.py:43: SAWarning: Property Entity.rels_out on mapped class Entity->entities being replaced with new property Entity.rels_out; the old property will be discarded\n",
      "  Entity.rels_out = relationship(\"Relation\",foreign_keys=[Relation.origin],back_populates=\"dest\")\n",
      "/var/folders/sx/x6pyh9097n98mlz29_6njdj00000gn/T/ipykernel_3272/4209139393.py:43: SAWarning: Property Entity.rels_out on mapped class Attribute->attributes being replaced with new property Entity.rels_out; the old property will be discarded\n",
      "  Entity.rels_out = relationship(\"Relation\",foreign_keys=[Relation.origin],back_populates=\"dest\")\n",
      "/var/folders/sx/x6pyh9097n98mlz29_6njdj00000gn/T/ipykernel_3272/4209139393.py:43: SAWarning: Property Entity.rels_out on mapped class Relation->relations being replaced with new property Entity.rels_out; the old property will be discarded\n",
      "  Entity.rels_out = relationship(\"Relation\",foreign_keys=[Relation.origin],back_populates=\"dest\")\n",
      "/var/folders/sx/x6pyh9097n98mlz29_6njdj00000gn/T/ipykernel_3272/4209139393.py:44: SAWarning: Property Entity.rels_in on mapped class Entity->entities being replaced with new property Entity.rels_in; the old property will be discarded\n",
      "  Entity.rels_in = relationship(\"Relation\",foreign_keys=[Relation.destination],back_populates=\"org\")\n",
      "/var/folders/sx/x6pyh9097n98mlz29_6njdj00000gn/T/ipykernel_3272/4209139393.py:44: SAWarning: Property Entity.rels_in on mapped class Attribute->attributes being replaced with new property Entity.rels_in; the old property will be discarded\n",
      "  Entity.rels_in = relationship(\"Relation\",foreign_keys=[Relation.destination],back_populates=\"org\")\n",
      "/var/folders/sx/x6pyh9097n98mlz29_6njdj00000gn/T/ipykernel_3272/4209139393.py:44: SAWarning: Property Entity.rels_in on mapped class Relation->relations being replaced with new property Entity.rels_in; the old property will be discarded\n",
      "  Entity.rels_in = relationship(\"Relation\",foreign_keys=[Relation.destination],back_populates=\"org\")\n"
     ]
    }
   ],
   "source": [
    "class Relation(Entity):  # should extend Entity but gives error\n",
    "\n",
    "    __tablename__ = 'relations'\n",
    "\n",
    "    id = Column(String,ForeignKey('entities.id'), primary_key=True)\n",
    "    #rel_entity = relationship(\"Entity\",foreign_keys='id',back_populates='rel')\n",
    "    origin = Column(String,ForeignKey('entities.id'))\n",
    "    org = relationship(Entity,foreign_keys=[origin], back_populates='rels_out')\n",
    "\n",
    "    destination = Column(String,ForeignKey('entities.id'))\n",
    "    dest = relationship(\"Entity\",foreign_keys=[destination], back_populates=\"rels_in\")\n",
    "    the_type = Column(String)\n",
    "    the_value = Column(String)\n",
    "    the_date = Column(String)\n",
    "    obs = Column(String)\n",
    "\n",
    "    __mapper_args__ = {\n",
    "        'polymorphic_identity':'relation',\n",
    "        'inherit_condition': id == Entity.id\n",
    "    }\n",
    "\n",
    "    def __repr__(self):\n",
    "        return (\n",
    "            f'Relation(id={super().__repr__()}, '\n",
    "            f'origin=\"{self.origin}\", '\n",
    "            f'destination=\"{self.destination}\", '\n",
    "            f'the_type=\"{self.the_type}\", '\n",
    "            f'the_value=\"{self.the_value}\", '\n",
    "            f'the_date=\"{self.the_date}\"\", '\n",
    "            f'obs={self.obs}'\n",
    "            f')'\n",
    "        )\n",
    "\n",
    "    def __str__(self):\n",
    "        if self.dest is not None and self.dest.pom_class == 'person':\n",
    "            r = f'rel${self.the_type}/{self.the_value}/{self.dest.name}/{self.destination}/{self.the_date}'\n",
    "        else:\n",
    "            r = f'rel${self.the_type}/{self.the_value}/{self.destination}/{self.the_date}'\n",
    "        if self.obs is not None:\n",
    "                r = (f'{r}  /obs={self.obs}')\n",
    "        return r\n",
    "\n",
    "Entity.rels_out = relationship(\"Relation\",foreign_keys=[Relation.origin],back_populates=\"dest\")\n",
    "Entity.rels_in = relationship(\"Relation\",foreign_keys=[Relation.destination],back_populates=\"org\")"
   ]
  },
  {
   "cell_type": "markdown",
   "metadata": {},
   "source": [
    "## Persons    \n",
    "    +-------+----------------+------+-----+---------+-------+\n",
    "    | Field | Type           | Null | Key | Default | Extra |\n",
    "    +-------+----------------+------+-----+---------+-------+\n",
    "    | id    | varchar(64)    | NO   | PRI | NULL    |       |\n",
    "    | name  | varchar(128)   | YES  | MUL | NULL    |       |\n",
    "    | sex   | char(1)        | YES  |     | NULL    |       |\n",
    "    | obs   | varchar(16000) | YES  |     | NULL    |       |\n",
    "    +-------+----------------+------+-----+---------+-------+"
   ]
  },
  {
   "cell_type": "code",
   "execution_count": 291,
   "metadata": {},
   "outputs": [],
   "source": [
    "class Person(Entity):\n",
    "    __tablename__ = 'persons'\n",
    "\n",
    "    id = Column(String, ForeignKey('entities.id'), primary_key=True)\n",
    "    name = Column(String)\n",
    "    sex = Column(String(1))\n",
    "    obs = Column(String)\n",
    "\n",
    "    __mapper_args__ = {\n",
    "        'polymorphic_identity':'person'\n",
    "    }\n",
    "\n",
    "\n",
    "    def __str__(self):\n",
    "        r = f'{self.groupname}${self.name}/{self.sex}/id={self.id}'\n",
    "        if self.obs is not None:\n",
    "                r = (f'{r}  /obs={self.obs}')\n",
    "        return r"
   ]
  },
  {
   "cell_type": "markdown",
   "metadata": {},
   "source": [
    "## Objects\n",
    "\n",
    "    +----------+----------------+------+-----+---------+-------+\n",
    "    | Field    | Type           | Null | Key | Default | Extra |\n",
    "    +----------+----------------+------+-----+---------+-------+\n",
    "    | id       | varchar(64)    | NO   | PRI | NULL    |       |\n",
    "    | name     | varchar(64)    | YES  | MUL | NULL    |       |\n",
    "    | the_type | varchar(32)    | YES  |     | NULL    |       |\n",
    "    | obs      | varchar(16000) | YES  |     | NULL    |       |\n",
    "    +----------+----------------+------+-----+---------+-------+"
   ]
  },
  {
   "cell_type": "code",
   "execution_count": 292,
   "metadata": {},
   "outputs": [],
   "source": [
    "class Object(Entity):\n",
    "    __tablename__ = 'objects'\n",
    "\n",
    "    id = Column(String, ForeignKey('entities.id'), primary_key=True)\n",
    "    name = Column(String)\n",
    "    the_type = Column(String(32))\n",
    "    obs = Column(String)\n",
    "\n",
    "    __mapper_args__ = {\n",
    "        'polymorphic_identity':'object'\n",
    "    }"
   ]
  },
  {
   "cell_type": "markdown",
   "metadata": {},
   "source": [
    "## Acts\n",
    "\n",
    "    +----------+----------------+------+-----+---------+-------+\n",
    "    | Field    | Type           | Null | Key | Default | Extra |\n",
    "    +----------+----------------+------+-----+---------+-------+\n",
    "    | id       | varchar(64)    | NO   | PRI | NULL    |       |\n",
    "    | the_type | varchar(32)    | YES  |     | NULL    |       |\n",
    "    | the_date | varchar(24)    | YES  | MUL | NULL    |       |\n",
    "    | loc      | varchar(64)    | YES  |     | NULL    |       |\n",
    "    | ref      | varchar(64)    | YES  |     | NULL    |       |\n",
    "    | obs      | varchar(16000) | YES  |     | NULL    |       |\n",
    "    +----------+----------------+------+-----+---------+-------+\n"
   ]
  },
  {
   "cell_type": "code",
   "execution_count": 293,
   "metadata": {},
   "outputs": [],
   "source": [
    "class Act(Entity):\n",
    "    __tablename__ = 'acts'\n",
    "\n",
    "    id = Column(String, ForeignKey('entities.id'), primary_key=True)\n",
    "    the_type = Column(String(32))\n",
    "    the_date = Column(String)\n",
    "    loc = Column(String)\n",
    "    ref = Column(String)\n",
    "    obs = Column(String)\n",
    "\n",
    "    __mapper_args__ = {\n",
    "        'polymorphic_identity':'act'\n",
    "    }\n",
    "\n",
    "    def __str__(self):\n",
    "        r = f'{self.groupname}${self.id}/{self.the_date}/type={self.the_type}/ref={self.ref}/loc={self.loc}'\n",
    "        if self.obs is not None:\n",
    "                r = (f'{r}  /obs={self.obs}')\n",
    "        return r\n"
   ]
  },
  {
   "cell_type": "markdown",
   "metadata": {},
   "source": [
    "## Sources\n",
    "\n",
    "    +-----------+----------------+------+-----+---------+-------+\n",
    "    | Field     | Type           | Null | Key | Default | Extra |\n",
    "    +-----------+----------------+------+-----+---------+-------+\n",
    "    | id        | varchar(64)    | NO   | PRI | NULL    |       |\n",
    "    | the_type  | varchar(32)    | YES  |     | NULL    |       |\n",
    "    | the_date  | varchar(24)    | YES  |     | NULL    |       |\n",
    "    | loc       | varchar(64)    | YES  |     | NULL    |       |\n",
    "    | ref       | varchar(64)    | YES  |     | NULL    |       |\n",
    "    | kleiofile | varchar(1024)  | YES  |     | NULL    |       |\n",
    "    | replaces  | varchar(254)   | YES  |     | NULL    |       |\n",
    "    | obs       | varchar(16000) | YES  |     | NULL    |       |\n",
    "    +-----------+----------------+------+-----+---------+-------+"
   ]
  },
  {
   "cell_type": "code",
   "execution_count": 294,
   "metadata": {},
   "outputs": [],
   "source": [
    "class Source(Entity):\n",
    "    __tablename__ = 'sources'\n",
    "\n",
    "    id = Column(String, ForeignKey('entities.id'), primary_key=True)\n",
    "    the_type = Column(String(32))\n",
    "    the_date = Column(String)\n",
    "    loc = Column(String)\n",
    "    ref = Column(String)\n",
    "    kleiofile = Column(String)\n",
    "    replaces = Column(String)\n",
    "    obs = Column(String)\n",
    "\n",
    "    __mapper_args__ = {\n",
    "        'polymorphic_identity':'source'\n",
    "    }\n",
    "\n",
    "    def __str__(self):\n",
    "        r = f'{self.groupname}${self.id}/{self.the_date}/type={self.the_type}/ref={self.ref}/loc={self.loc}/kleiofile={self.kleiofile}/replaces={self.replaces}'\n",
    "        if self.obs is not None:\n",
    "                r = (f'{r}  /obs={self.obs}')\n",
    "        return r"
   ]
  },
  {
   "cell_type": "markdown",
   "metadata": {},
   "source": [
    "## Classes\n",
    "\n",
    "    +------------+-------------+------+-----+---------+-------+\n",
    "    | Field      | Type        | Null | Key | Default | Extra |\n",
    "    +------------+-------------+------+-----+---------+-------+\n",
    "    | id         | varchar(64) | NO   | PRI | NULL    |       |\n",
    "    | table_name | varchar(32) | YES  |     | NULL    |       |\n",
    "    | group_name | varchar(32) | YES  |     | NULL    |       |\n",
    "    | super      | varchar(64) | YES  |     | NULL    |       |\n",
    "    +------------+-------------+------+-----+---------+-------+\n",
    "\n"
   ]
  },
  {
   "cell_type": "code",
   "execution_count": 295,
   "metadata": {},
   "outputs": [],
   "source": [
    "class PomClass(Entity):\n",
    "    __tablename__ = 'classes'\n",
    "\n",
    "    id = Column(String, ForeignKey('entities.id'), primary_key=True)\n",
    "    table_name = Column(String)\n",
    "    class_group = Column(\"group_name\",String(32))\n",
    "    super_class = Column(\"super\", String)\n",
    "\n",
    "    __mapper_args__ = {\n",
    "        'polymorphic_identity':'class'\n",
    "    }\n",
    "\n",
    "    def __repr__(self):\n",
    "        return (\n",
    "            f'PomClass(id={self.id}, '\n",
    "            f'table_name=\"{self.table_name}\", '\n",
    "            f'class_group=\"{self.class_group}\", '\n",
    "            f'super_class=\"{self.super_class}\" '\n",
    "            f')'\n",
    "        )\n",
    "\n",
    "    def __str__(self):\n",
    "        r = f'{self.id} table {self.table_name}\\n'\n",
    "        for cattr in self.class_attributes:\n",
    "            r = r + f'{cattr.the_class}.{cattr.name} \\tclass {cattr.colclass} \\tcol {cattr.colname} \\ttype {cattr.coltype} size {cattr.colsize} precision {cattr.colprecision} primary key {cattr.pkey} \\n'\n",
    "        return r"
   ]
  },
  {
   "cell_type": "markdown",
   "metadata": {},
   "source": [
    "\n",
    "## Class attributes\n",
    "\n",
    "    +--------------+--------------+------+-----+---------+-------+\n",
    "    | Field        | Type         | Null | Key | Default | Extra |\n",
    "    +--------------+--------------+------+-----+---------+-------+\n",
    "    | the_class    | varchar(64)  | YES  | MUL | NULL    |       |\n",
    "    | name         | varchar(32)  | YES  |     | NULL    |       |\n",
    "    | colname      | varchar(32)  | YES  |     | NULL    |       |\n",
    "    | colclass     | varchar(32)  | YES  |     | NULL    |       |\n",
    "    | coltype      | varchar(32)  | YES  |     | NULL    |       |\n",
    "    | colsize      | decimal(5,0) | YES  |     | NULL    |       |\n",
    "    | colprecision | decimal(6,0) | YES  |     | NULL    |       |\n",
    "    | pkey         | decimal(1,0) | YES  |     | NULL    |       |\n",
    "    +--------------+--------------+------+-----+---------+-------+\n"
   ]
  },
  {
   "cell_type": "code",
   "execution_count": 296,
   "metadata": {},
   "outputs": [],
   "source": [
    "class PomClassAttributes(Base):\n",
    "    __tablename__ = 'class_attributes'\n",
    "\n",
    "    the_class = Column(String, ForeignKey('classes.id'),primary_key=True)\n",
    "\n",
    "    pom_class = relationship(\"PomClass\",foreign_keys=[the_class], back_populates='class_attributes')\n",
    "    name = Column(String(32), primary_key=True)\n",
    "    colname = Column(String(32))\n",
    "    colclass = Column(String(32))\n",
    "    coltype = Column(String)\n",
    "    colsize = Column(Integer)\n",
    "    colprecision = Column(Integer)\n",
    "    pkey = Column(Integer)\n",
    "\n",
    "PomClass.class_attributes = relationship(\"PomClassAttributes\", back_populates=\"pom_class\")"
   ]
  },
  {
   "cell_type": "markdown",
   "metadata": {},
   "source": [
    "## Testing"
   ]
  },
  {
   "cell_type": "code",
   "execution_count": 297,
   "metadata": {},
   "outputs": [],
   "source": [
    "from sqlalchemy.orm import sessionmaker\n",
    "Session = sessionmaker(bind=engine)\n",
    "session = Session()\n"
   ]
  },
  {
   "cell_type": "code",
   "execution_count": 298,
   "metadata": {},
   "outputs": [
    {
     "name": "stdout",
     "output_type": "stream",
     "text": [
      "     ls$residencia/barrosas/16970205/obs=%barrosos. \n",
      "Attribute(id=Entity(id=\"$c51-2-att3-12\", pom_class=\"attribute\",inside=\"$c51-2\", the_order=164, the_level=5, the_line=136, groupname=\"ls\", updated=2021-08-21 08:33:00, indexed=1974-04-25 00:00:01,), entity=\"$c51-2\", the_type=\"residencia\", the_value=\"barrosas\", the_date=\"16970205\"\", obs=%barrosos. )\n"
     ]
    }
   ],
   "source": [
    "attribute = session.query(Attribute).where(Entity.pom_class  == 'attribute').first()\n",
    "print(attribute)\n",
    "print(repr(attribute))"
   ]
  },
  {
   "cell_type": "code",
   "execution_count": 299,
   "metadata": {},
   "outputs": [
    {
     "name": "stdout",
     "output_type": "stream",
     "text": [
      "pnoivo$domingos andre/m/id=$c51-2\n"
     ]
    }
   ],
   "source": [
    "entity = attribute.the_entity\n",
    "print(entity)"
   ]
  },
  {
   "cell_type": "code",
   "execution_count": 300,
   "metadata": {},
   "outputs": [
    {
     "name": "stdout",
     "output_type": "stream",
     "text": [
      "Relation(id=Entity(id=\"$c51-2-att2-2-geo-rel\", pom_class=\"relation\",inside=\"$c51-2-att2-2-geo\", the_order=None, the_level=None, the_line=None, groupname=\"*georelation\", updated=2020-02-26 21:55:45, indexed=1974-04-25 00:00:01,), origin=\"$c51-2-att2-2-geo\", destination=\"$c51-2\", the_type=\"geografica\", the_value=\"residencia\", the_date=\"16970205\"\", obs=*automatic relation)\n",
      "rel$geografica/residencia/domingos andre/$c51-2/16970205  /obs=*automatic relation\n"
     ]
    }
   ],
   "source": [
    "relation = session.query(Relation).where(Relation.pom_class  == 'relation').first()\n",
    "\n",
    "print(repr(relation))\n",
    "print(relation)\n"
   ]
  },
  {
   "cell_type": "code",
   "execution_count": 301,
   "metadata": {},
   "outputs": [
    {
     "name": "stdout",
     "output_type": "stream",
     "text": [
      "Relation(id=Entity(id=\"01705-a5e-rel17-4\", pom_class=\"relation\",inside=\"01705-a5e\", the_order=274, the_level=5, the_line=331, groupname=\"rel\", updated=2021-08-21 08:46:22, indexed=1974-04-25 00:00:01,), origin=\"01705-a5e\", destination=\"1705-a5ea\", the_type=\"parentesco\", the_value=\"foi mulher\", the_date=\"17051005\"\", obs=None)\n",
      "referida$maria fernandes/f/id=01705-a5e\n",
      "    rel$parentesco/foi mulher/manuel cordeiro/1705-a5ea/17051005\n",
      "referido$manuel cordeiro/m/id=1705-a5ea\n"
     ]
    }
   ],
   "source": [
    "relation = session.query(Relation).where(Relation.the_type  == 'parentesco').first()\n",
    "print(repr(relation))\n",
    "\n",
    "print(relation.org)\n",
    "print(\"   \",relation)\n",
    "print(relation.dest)"
   ]
  },
  {
   "cell_type": "code",
   "execution_count": 302,
   "metadata": {},
   "outputs": [
    {
     "name": "stdout",
     "output_type": "stream",
     "text": [
      "Entity(id=\"1700-142\", pom_class=\"act\",inside=\"casamentos 1700\", the_order=2, the_level=2, the_line=6, groupname=\"cas\", updated=2020-06-17 18:18:21, indexed=2020-06-17 18:18:21,)\n",
      "cas$1700-142/17000110/type=cas/ref=igreja matriz/loc=luis alvares pinto\n"
     ]
    }
   ],
   "source": [
    "act = session.query(Act).where(Entity.pom_class  == 'act').first()\n",
    "\n",
    "print(repr(act))\n",
    "print(act)"
   ]
  },
  {
   "cell_type": "code",
   "execution_count": 303,
   "metadata": {},
   "outputs": [
    {
     "name": "stdout",
     "output_type": "stream",
     "text": [
      "Entity(id=\"1D-8-2-4\", pom_class=\"source\",inside=\"root\", the_order=1, the_level=1, the_line=4, groupname=\"fonte\", updated=2021-11-02 11:06:17, indexed=1974-04-25 00:00:01,)\n",
      "fonte$1D-8-2-4/16910314/type=livro de notas/ref=None/loc=AUC D-8-2-4/kleiofile=/kleio-home/sources/soure-fontes/sources/1685-1720/notariais/1D-8-2-4.cli/replaces=n2.23  /obs=legivel\n"
     ]
    }
   ],
   "source": [
    "source = session.query(Source).where(Entity.pom_class  == 'source').first()\n",
    "\n",
    "print(repr(source))\n",
    "print(source)"
   ]
  },
  {
   "cell_type": "code",
   "execution_count": 304,
   "metadata": {},
   "outputs": [
    {
     "name": "stdout",
     "output_type": "stream",
     "text": [
      "PomClass(id=act, table_name=\"acts\", class_group=\"historical-act\", super_class=\"entity\" )\n",
      "act table acts\n",
      "act.date class date \tcol the_date \ttype varchar size 24 precision 0 primary key 0 \n",
      "act.id class id \tcol id \ttype varchar size 64 precision 0 primary key 1 \n",
      "act.loc class loc \tcol loc \ttype varchar size 64 precision 0 primary key 0 \n",
      "act.obs class obs \tcol obs \ttype varchar size 16654 precision 0 primary key 0 \n",
      "act.ref class ref \tcol ref \ttype varchar size 64 precision 0 primary key 0 \n",
      "act.type class type \tcol the_type \ttype varchar size 32 precision 0 primary key 0 \n",
      "\n",
      "PomClass(id=acta, table_name=\"actas\", class_group=\"amz\", super_class=\"act\" )\n",
      "acta table actas\n",
      "acta.ano class year \tcol the_year \ttype numeric size 4 precision 0 primary key 0 \n",
      "acta.dia class day \tcol the_day \ttype numeric size 2 precision 0 primary key 0 \n",
      "acta.fol class fol \tcol fol \ttype varchar size 64 precision 0 primary key 0 \n",
      "acta.id class id \tcol id \ttype varchar size 64 precision 0 primary key 1 \n",
      "acta.mes class month \tcol the_month \ttype numeric size 2 precision 0 primary key 0 \n",
      "acta.obs class obs \tcol obs \ttype varchar size 16654 precision 0 primary key 0 \n",
      "acta.resumo class resumo \tcol resumo \ttype varchar size 1024 precision 0 primary key 0 \n",
      "\n",
      "PomClass(id=acusacoes, table_name=\"acusacoes\", class_group=\"acus\", super_class=\"object\" )\n",
      "acusacoes table acusacoes\n",
      "acusacoes.id class id \tcol id \ttype varchar size 64 precision 0 primary key 1 \n",
      "acusacoes.idcaso class idcaso \tcol idcaso \ttype varchar size 64 precision 0 primary key 0 \n",
      "acusacoes.literal class literal \tcol literal \ttype varchar size 16000 precision 0 primary key 0 \n",
      "acusacoes.obs class obs \tcol obs \ttype varchar size 16000 precision 0 primary key 0 \n",
      "acusacoes.origem class origem \tcol origem \ttype varchar size 16000 precision 0 primary key 0 \n",
      "\n",
      "PomClass(id=aforamento, table_name=\"aforamentos\", class_group=\"aforamento\", super_class=\"good\" )\n",
      "aforamento table aforamentos\n",
      "aforamento.description class description \tcol description \ttype varchar size 1024 precision 0 primary key 0 \n",
      "aforamento.id class id \tcol id \ttype varchar size 64 precision 0 primary key 1 \n",
      "aforamento.loc class loc \tcol loc \ttype varchar size 64 precision 0 primary key 0 \n",
      "aforamento.name class name \tcol name \ttype varchar size 64 precision 0 primary key 0 \n",
      "aforamento.obs class obs \tcol obs \ttype varchar size 16654 precision 0 primary key 0 \n",
      "aforamento.type class type \tcol the_type \ttype varchar size 32 precision 0 primary key 0 \n",
      "\n",
      "PomClass(id=aregister, table_name=\"aregisters\", class_group=\"identifications\", super_class=\"entity\" )\n",
      "aregister table aregisters\n",
      "aregister.date class date \tcol the_date \ttype varchar size 24 precision 0 primary key 0 \n",
      "aregister.dbase class dbase \tcol dbase \ttype varchar size 32 precision 0 primary key 0 \n",
      "aregister.id class id \tcol id \ttype varchar size 64 precision 0 primary key 1 \n",
      "aregister.ignore_date class ignore_date \tcol ignore_date \ttype varchar size 64 precision 0 primary key 0 \n",
      "aregister.mode class mode \tcol mode \ttype varchar size 64 precision 0 primary key 0 \n",
      "aregister.name class name \tcol name \ttype varchar size 254 precision 0 primary key 0 \n",
      "aregister.obs class obs \tcol obs \ttype varchar size 1024 precision 0 primary key 0 \n",
      "aregister.replace_mode class replace_mode \tcol replace_mode \ttype varchar size 64 precision 0 primary key 0 \n",
      "aregister.user class user \tcol user \ttype varchar size 32 precision 0 primary key 0 \n",
      "\n",
      "PomClass(id=attribute, table_name=\"attributes\", class_group=\"attribute\", super_class=\"entity\" )\n",
      "attribute table attributes\n",
      "attribute.date class date \tcol the_date \ttype varchar size 24 precision 0 primary key 0 \n",
      "attribute.entity class entity \tcol entity \ttype varchar size 64 precision 0 primary key 0 \n",
      "attribute.id class id \tcol id \ttype varchar size 64 precision 0 primary key 1 \n",
      "attribute.obs class obs \tcol obs \ttype varchar size 16654 precision 0 primary key 0 \n",
      "attribute.type class type \tcol the_type \ttype varchar size 512 precision 0 primary key 0 \n",
      "attribute.value class value \tcol the_value \ttype varchar size 1024 precision 0 primary key 0 \n",
      "\n",
      "PomClass(id=cartaperdao, table_name=\"perdoes\", class_group=\"cartaperdao\", super_class=\"act\" )\n",
      "cartaperdao table perdoes\n",
      "cartaperdao.ano class year \tcol the_year \ttype numeric size 4 precision 0 primary key 0 \n",
      "cartaperdao.cota class ref \tcol cota \ttype varchar size 64 precision 0 primary key 0 \n",
      "cartaperdao.dia class day \tcol the_day \ttype numeric size 2 precision 0 primary key 0 \n",
      "cartaperdao.id class id \tcol id \ttype varchar size 64 precision 0 primary key 1 \n",
      "cartaperdao.local class loc \tcol local \ttype varchar size 128 precision 0 primary key 0 \n",
      "cartaperdao.mes class month \tcol the_month \ttype numeric size 2 precision 0 primary key 0 \n",
      "cartaperdao.obs class obs \tcol obs \ttype varchar size 16654 precision 0 primary key 0 \n",
      "cartaperdao.tabeliao class tabeliao \tcol tabeliao \ttype varchar size 64 precision 0 primary key 0 \n",
      "cartaperdao.tipo class type \tcol the_type \ttype varchar size 128 precision 0 primary key 0 \n",
      "\n",
      "PomClass(id=caso, table_name=\"casos\", class_group=\"caso\", super_class=\"object\" )\n",
      "caso table casos\n",
      "caso.id class id \tcol id \ttype varchar size 64 precision 0 primary key 1 \n",
      "caso.obs class obs \tcol obs \ttype varchar size 16654 precision 0 primary key 0 \n",
      "caso.type class type \tcol the_type \ttype varchar size 32 precision 0 primary key 0 \n",
      "\n",
      "PomClass(id=class, table_name=\"classes\", class_group=\"na\", super_class=\"entity\" )\n",
      "class table classes\n",
      "\n",
      "PomClass(id=crime, table_name=\"cartas_de_perdao\", class_group=\"crime\", super_class=\"object\" )\n",
      "crime table cartas_de_perdao\n",
      "crime.ano class year \tcol the_year \ttype numeric size 4 precision 0 primary key 0 \n",
      "crime.descricao class descricao \tcol descricao \ttype varchar size 1024 precision 0 primary key 0 \n",
      "crime.dia class day \tcol the_day \ttype numeric size 2 precision 0 primary key 0 \n",
      "crime.forma class forma \tcol forma \ttype varchar size 64 precision 0 primary key 0 \n",
      "crime.id class id \tcol id \ttype varchar size 64 precision 0 primary key 1 \n",
      "crime.instrumento class objecto \tcol instrumento \ttype varchar size 32 precision 0 primary key 0 \n",
      "crime.local class loc \tcol local \ttype varchar size 32 precision 0 primary key 0 \n",
      "crime.mes class month \tcol the_month \ttype numeric size 2 precision 0 primary key 0 \n",
      "crime.objecto class objecto \tcol objecto \ttype varchar size 128 precision 0 primary key 0 \n",
      "crime.obs class obs \tcol obs \ttype varchar size 1024 precision 0 primary key 0 \n",
      "crime.ocorrencia class ocorrencia \tcol ocorrencia \ttype varchar size 128 precision 0 primary key 0 \n",
      "crime.pronuncia class pronuncia \tcol pronuncia \ttype varchar size 128 precision 0 primary key 0 \n",
      "crime.situacao class situacao \tcol situacao \ttype varchar size 128 precision 0 primary key 0 \n",
      "crime.subtipo class subtipo \tcol subtipo \ttype varchar size 32 precision 0 primary key 0 \n",
      "crime.tempo class tempo \tcol tempo \ttype varchar size 32 precision 0 primary key 0 \n",
      "crime.tipo class type \tcol the_type \ttype varchar size 32 precision 0 primary key 0 \n",
      "\n",
      "PomClass(id=divida, table_name=\"dividas\", class_group=\"divida\", super_class=\"object\" )\n",
      "divida table dividas\n",
      "divida.id class id \tcol id \ttype varchar size 64 precision 0 primary key 1 \n",
      "divida.juro class juro \tcol juro \ttype varchar size 32 precision 0 primary key 0 \n",
      "divida.moeda class moeda \tcol moeda \ttype varchar size 12 precision 0 primary key 0 \n",
      "divida.obs class obs \tcol obs \ttype varchar size 16654 precision 0 primary key 0 \n",
      "divida.prazo class prazo \tcol prazo \ttype varchar size 254 precision 0 primary key 0 \n",
      "divida.valor class value \tcol the_value \ttype varchar size 254 precision 0 primary key 0 \n",
      "divida.valorn class valorn \tcol valorn \ttype numeric size 12 precision 2 primary key 0 \n",
      "\n",
      "PomClass(id=entity, table_name=\"entities\", class_group=\"na\", super_class=\"root\" )\n",
      "entity table entities\n",
      "entity.class class class \tcol class \ttype varchar size 64 precision 0 primary key 0 \n",
      "entity.groupname class groupname \tcol groupname \ttype varchar size 32 precision 0 primary key 0 \n",
      "entity.id class id \tcol id \ttype varchar size 64 precision 0 primary key 1 \n",
      "entity.inside class inside \tcol inside \ttype varchar size 64 precision 0 primary key 0 \n",
      "entity.level class level \tcol the_level \ttype numeric size 3 precision 0 primary key 0 \n",
      "entity.line class line \tcol the_line \ttype numeric size 6 precision 0 primary key 0 \n",
      "entity.order class order \tcol the_order \ttype numeric size 6 precision 0 primary key 0 \n",
      "\n",
      "PomClass(id=escritura, table_name=\"escrituras\", class_group=\"escritura\", super_class=\"act\" )\n",
      "escritura table escrituras\n",
      "escritura.date class date \tcol the_date \ttype varchar size 24 precision 0 primary key 0 \n",
      "escritura.fol class fol \tcol fol \ttype varchar size 64 precision 0 primary key 0 \n",
      "escritura.id class id \tcol id \ttype varchar size 64 precision 0 primary key 1 \n",
      "escritura.loc class loc \tcol loc \ttype varchar size 64 precision 0 primary key 0 \n",
      "escritura.obs class obs \tcol obs \ttype varchar size 16654 precision 0 primary key 0 \n",
      "escritura.sumario class summary \tcol summary \ttype varchar size 1024 precision 0 primary key 0 \n",
      "escritura.type class type \tcol the_type \ttype varchar size 32 precision 0 primary key 0 \n",
      "\n",
      "PomClass(id=geoentity, table_name=\"geoentities\", class_group=\"geoentity\", super_class=\"entity\" )\n",
      "geoentity table geoentities\n",
      "geoentity.id class id \tcol id \ttype varchar size 64 precision 0 primary key 1 \n",
      "geoentity.name class name \tcol name \ttype varchar size 64 precision 0 primary key 0 \n",
      "geoentity.obs class obs \tcol obs \ttype varchar size 1024 precision 0 primary key 0 \n",
      "geoentity.type class type \tcol the_type \ttype varchar size 32 precision 0 primary key 0 \n",
      "\n",
      "PomClass(id=good, table_name=\"goods\", class_group=\"bem\", super_class=\"object\" )\n",
      "good table goods\n",
      "good.description class description \tcol description \ttype varchar size 1024 precision 0 primary key 0 \n",
      "good.id class id \tcol id \ttype varchar size 64 precision 0 primary key 1 \n",
      "good.loc class loc \tcol loc \ttype varchar size 128 precision 0 primary key 0 \n",
      "good.name class name \tcol name \ttype varchar size 64 precision 0 primary key 0 \n",
      "good.obs class obs \tcol obs \ttype varchar size 16654 precision 0 primary key 0 \n",
      "good.type class type \tcol the_type \ttype varchar size 128 precision 0 primary key 0 \n",
      "\n",
      "PomClass(id=group_element, table_name=\"gelement\", class_group=\"locs\", super_class=\"entity\" )\n",
      "group_element table gelement\n",
      "group_element.id class id \tcol id \ttype varchar size 64 precision 0 primary key 1 \n",
      "group_element.obs class obs \tcol obs \ttype varchar size 16654 precision 0 primary key 0 \n",
      "group_element.value class value \tcol the_value \ttype varchar size 254 precision 0 primary key 0 \n",
      "\n",
      "PomClass(id=item, table_name=\"items\", class_group=\"item\", super_class=\"object\" )\n",
      "item table items\n",
      "item.id class id \tcol id \ttype varchar size 64 precision 0 primary key 1 \n",
      "item.resumo class resumo \tcol resumo \ttype varchar size 2048 precision 0 primary key 0 \n",
      "item.titulo class titulo \tcol titulo \ttype varchar size 128 precision 0 primary key 0 \n",
      "\n",
      "PomClass(id=lgraph, table_name=\"lgraphs\", class_group=\"lgraph\", super_class=\"entity\" )\n",
      "lgraph table lgraphs\n",
      "\n",
      "PomClass(id=object, table_name=\"objects\", class_group=\"object\", super_class=\"entity\" )\n",
      "object table objects\n",
      "object.id class id \tcol id \ttype varchar size 64 precision 0 primary key 1 \n",
      "object.name class name \tcol name \ttype varchar size 64 precision 0 primary key 0 \n",
      "object.obs class obs \tcol obs \ttype varchar size 16654 precision 0 primary key 0 \n",
      "object.type class type \tcol the_type \ttype varchar size 32 precision 0 primary key 0 \n",
      "\n",
      "PomClass(id=person, table_name=\"persons\", class_group=\"person\", super_class=\"entity\" )\n",
      "person table persons\n",
      "person.id class id \tcol id \ttype varchar size 64 precision 0 primary key 1 \n",
      "person.name class name \tcol name \ttype varchar size 128 precision 0 primary key 0 \n",
      "person.obs class obs \tcol obs \ttype varchar size 16654 precision 0 primary key 0 \n",
      "person.sex class sex \tcol sex \ttype char size 1 precision 0 primary key 0 \n",
      "\n",
      "PomClass(id=relation, table_name=\"relations\", class_group=\"relation\", super_class=\"entity\" )\n",
      "relation table relations\n",
      "relation.date class date \tcol the_date \ttype varchar size 24 precision 0 primary key 0 \n",
      "relation.destination class destination \tcol destination \ttype varchar size 64 precision 0 primary key 0 \n",
      "relation.id class id \tcol id \ttype varchar size 64 precision 0 primary key 1 \n",
      "relation.obs class obs \tcol obs \ttype varchar size 16654 precision 0 primary key 0 \n",
      "relation.origin class origin \tcol origin \ttype varchar size 64 precision 0 primary key 0 \n",
      "relation.type class type \tcol the_type \ttype varchar size 32 precision 0 primary key 0 \n",
      "relation.value class value \tcol the_value \ttype varchar size 254 precision 0 primary key 0 \n",
      "\n",
      "PomClass(id=rgeoentity, table_name=\"rgeoentities\", class_group=\"rgeoentity\", super_class=\"rentity\" )\n",
      "rgeoentity table rgeoentities\n",
      "rgeoentity.id class id \tcol id \ttype varchar size 64 precision 0 primary key 1 \n",
      "rgeoentity.obs class obs \tcol obs \ttype text size 32000 precision 0 primary key 0 \n",
      "rgeoentity.sname class sname \tcol sname \ttype varchar size 64 precision 0 primary key 0 \n",
      "rgeoentity.status class status \tcol status \ttype char size 1 precision 0 primary key 0 \n",
      "\n",
      "PomClass(id=robject, table_name=\"robjects\", class_group=\"robject\", super_class=\"rentity\" )\n",
      "robject table robjects\n",
      "robject.id class id \tcol id \ttype varchar size 64 precision 0 primary key 1 \n",
      "robject.obs class obs \tcol obs \ttype varchar size 16000 precision 0 primary key 0 \n",
      "robject.sname class sname \tcol sname \ttype varchar size 64 precision 0 primary key 0 \n",
      "robject.type class type \tcol the_type \ttype varchar size 32 precision 0 primary key 0 \n",
      "robject.user class user \tcol user \ttype varchar size 64 precision 0 primary key 0 \n",
      "\n",
      "PomClass(id=rperson, table_name=\"rpersons\", class_group=\"rperson\", super_class=\"rentity\" )\n",
      "rperson table rpersons\n",
      "rperson.id class id \tcol id \ttype varchar size 64 precision 0 primary key 1 \n",
      "rperson.obs class obs \tcol obs \ttype text size 16000 precision 0 primary key 0 \n",
      "rperson.sex class sex \tcol sex \ttype char size 1 precision 0 primary key 0 \n",
      "rperson.sname class sname \tcol sname \ttype varchar size 64 precision 0 primary key 0 \n",
      "rperson.status class status \tcol status \ttype char size 1 precision 0 primary key 0 \n",
      "\n",
      "PomClass(id=source, table_name=\"sources\", class_group=\"historical-source\", super_class=\"entity\" )\n",
      "source table sources\n",
      "source.date class date \tcol the_date \ttype varchar size 24 precision 0 primary key 0 \n",
      "source.id class id \tcol id \ttype varchar size 64 precision 0 primary key 1 \n",
      "source.kleiofile class kleiofile \tcol kleiofile \ttype varchar size 512 precision 0 primary key 0 \n",
      "source.loc class loc \tcol loc \ttype varchar size 64 precision 0 primary key 0 \n",
      "source.obs class obs \tcol obs \ttype varchar size 16654 precision 0 primary key 0 \n",
      "source.ref class ref \tcol ref \ttype varchar size 64 precision 0 primary key 0 \n",
      "source.replace class replace \tcol replaces \ttype varchar size 254 precision 0 primary key 0 \n",
      "source.type class type \tcol the_type \ttype varchar size 32 precision 0 primary key 0 \n",
      "source.value class value \tcol the_value \ttype varchar size 254 precision 0 primary key 0 \n",
      "\n"
     ]
    }
   ],
   "source": [
    "pom_classes = session.query(PomClass).where(Entity.pom_class  == 'class').all()\n",
    "for pom_class in pom_classes:\n",
    "    print(repr(pom_class))\n",
    "    print(pom_class)"
   ]
  },
  {
   "cell_type": "code",
   "execution_count": 65,
   "metadata": {},
   "outputs": [
    {
     "name": "stdout",
     "output_type": "stream",
     "text": [
      "[<class '__main__.Person'>]\n",
      "persons\n"
     ]
    }
   ],
   "source": [
    "print(Entity.__subclasses__())\n",
    "for aclass in Entity.__subclasses__():\n",
    "    print(aclass.__tablename__)"
   ]
  },
  {
   "cell_type": "markdown",
   "metadata": {},
   "source": []
  },
  {
   "cell_type": "code",
   "execution_count": 63,
   "metadata": {},
   "outputs": [
    {
     "name": "stdout",
     "output_type": "stream",
     "text": [
      "SELECT entities.class, persons.id, entities.id AS id_1, entities.inside, entities.the_order, entities.the_level, entities.the_line, entities.groupname, entities.updated, entities.indexed, persons.name, persons.sex, persons.obs \n",
      "FROM entities JOIN persons ON entities.id = persons.id \n",
      "WHERE persons.id = :id_2\n",
      "n$Arnaldo Henriques de Abreu/id=140625#person\n",
      "     ls$código-de-referência/\"PT/AUC/ELU/UC-AUC/B/001-001/A/000336\"/20200211\n",
      "     ls$data-do-registo/2018-04-19 14:33:58/20200211\n",
      "     ls$url/\"https://pesquisa.auc.uc.pt/details?id=140625\"/20200211\n",
      "     ls$uc.entrada/1835-10-17/1835-10-17\n",
      "     ls$uc.saida/1838-10-09/1838-10-09\n",
      "     ls$uc.entrada.ano/1835/1835-10-17\n",
      "     ls$uc.saida.ano/1838/1838-10-09\n",
      "     ls$nome/Arnaldo Henriques de Abreu/1835-10-17\n",
      "     ls$nome.primeiro/Arnaldo/1835-10-17\n",
      "     ls$nome.apelido/Henriques de Abreu/1835-10-17\n",
      "     ls$nome.apelido/Abreu/1835-10-17\n",
      "     ls$naturalidade/Porto/1835-10-17\n",
      "     ls$naturalidade.ano/Porto.1835/1835-10-17\n",
      "     ls$nome-geografico/Porto/1835-10-17\n",
      "     ls$nome-geografico.ano/Porto.1835/1835-10-17\n",
      "     ls$faculdade/Matemática/1835-10-17\n",
      "     ls$faculdade.ano/Matemática.1835/1835-10-17\n",
      "     ls$matricula/Matemática/1835-10-17/obs=\"1835/10/17 (obrigado)\"\n",
      "     ls$matricula.ano/Matemática.1835/1835-10-17/obs=\"1835/10/17 (obrigado)\"\n",
      "     ls$matricula/Matemática/1835-10-17/obs=\"1835/10/17 (obrigado)\"\n",
      "     ls$matricula.ano/Matemática.1835/1835-10-17/obs=\"1835/10/17 (obrigado)\"\n",
      "     ls$matricula/Matemática/1838-10-09/obs=\"1838/10/09\"\n",
      "     ls$matricula.ano/Matemática.1838/1838-10-09/obs=\"1838/10/09\"\n",
      ">     rel$function-in-act/n/auc-alumni-A-140337-140771/20200211\n"
     ]
    }
   ],
   "source": [
    "from sqlalchemy import select\n",
    "from sqlalchemy.orm import Session\n",
    "\n",
    "stmt = select(Person).first()\n",
    "print(stmt)\n",
    "with Session(engine) as session:\n",
    "    for row in session.execute(stmt):\n",
    "        entity: Entity=row[0]\n",
    "        print(f'{entity.groupname}${entity.name}/id={entity.id}#{entity.pom_class}')\n",
    "        for attribute in entity.attributes:\n",
    "            print(f'     ls${attribute.the_type}/{attribute.the_value}/{attribute.the_date}',end='')\n",
    "            if attribute.obs is not None:\n",
    "                print(f'/obs={attribute.obs}')\n",
    "            else:\n",
    "                print()\n",
    "        if len(entity.rels_out)>0:\n",
    "            for rel in entity.rels_out:\n",
    "                print(f'>{rel}')\n",
    "        if len(entity.rels_in)>0:\n",
    "            for rel in entity.rels_in:\n",
    "                    print(rel,'<')               \n"
   ]
  },
  {
   "cell_type": "markdown",
   "metadata": {},
   "source": [
    "## Source files"
   ]
  },
  {
   "cell_type": "code",
   "execution_count": 37,
   "metadata": {},
   "outputs": [
    {
     "name": "stdout",
     "output_type": "stream",
     "text": [
      "Number of kleio_files: 235\n",
      "235 rows affected.\n",
      "Number of imported files: 235\n",
      "Files not in the database: set()\n",
      "Imported sources no file found: set()\n"
     ]
    }
   ],
   "source": [
    "from pathlib import Path\n",
    "\n",
    "kleio_files = [f.stem for f in list(Path('../sources').rglob('*.cli'))]\n",
    "print(\"Number of kleio_files:\", len(kleio_files))\n",
    "\n",
    "imported_sources = %sql select sources.id, sources.kleiofile, entities.updated from sources left join entities on (sources.id=entities.id) order by updated desc \n",
    "sources_in_db = [s.id for s in imported_sources]\n",
    "print(\"Number of imported files:\",len(sources_in_db))\n",
    "\n",
    "print(\"Files not in the database:\", set(kleio_files)-set(sources_in_db))\n",
    "print(\"Imported sources no file found:\", set(sources_in_db)-set(kleio_files))\n",
    "\n"
   ]
  },
  {
   "cell_type": "markdown",
   "metadata": {},
   "source": []
  },
  {
   "cell_type": "markdown",
   "metadata": {},
   "source": [
    "## Analyse attributes extracted from records"
   ]
  },
  {
   "cell_type": "markdown",
   "metadata": {},
   "source": [
    "### Attributes in the database"
   ]
  },
  {
   "cell_type": "code",
   "execution_count": 8,
   "metadata": {},
   "outputs": [
    {
     "name": "stdout",
     "output_type": "stream",
     "text": [
      "28 rows affected.\n",
      "105300 | código-de-referência\n",
      "   275 | colegio\n",
      "105300 | data-do-registo\n",
      "   186 | ec\n",
      " 53627 | exame\n",
      " 94164 | faculdade\n",
      " 94164 | faculdade.ano\n",
      "106372 | grau\n",
      "106372 | grau.ano\n",
      "319291 | matricula\n",
      "319291 | matricula.ano\n",
      " 98904 | naturalidade\n",
      " 98904 | naturalidade.ano\n",
      "105300 | nome\n",
      "107486 | nome-geografico\n",
      "101392 | nome-geografico.ano\n",
      "198660 | nome.apelido\n",
      "105300 | nome.primeiro\n",
      "  8155 | nome.vide\n",
      "  9975 | nota\n",
      "  3142 | ordem-religiosa\n",
      "  7036 | padre\n",
      "  4170 | titulo\n",
      "105300 | uc.entrada\n",
      " 99014 | uc.entrada.ano\n",
      "105300 | uc.saida\n",
      " 99281 | uc.saida.ano\n",
      "105300 | url\n"
     ]
    }
   ],
   "source": [
    "nml = %sql select the_type, count(*) as tot from attributes group by the_type\n",
    "for the_type, tot in nml:\n",
    "    print(f'{tot:6} | {the_type}')"
   ]
  },
  {
   "cell_type": "code",
   "execution_count": 11,
   "metadata": {},
   "outputs": [
    {
     "name": "stdout",
     "output_type": "stream",
     "text": [
      "473 rows affected.\n"
     ]
    },
    {
     "ename": "ValueError",
     "evalue": "Unknown format code 'r' for object of type 'str'",
     "output_type": "error",
     "traceback": [
      "\u001b[0;31m---------------------------------------------------------------------------\u001b[0m",
      "\u001b[0;31mValueError\u001b[0m                                Traceback (most recent call last)",
      "\u001b[0;32m/tmp/ipykernel_428226/4098037847.py\u001b[0m in \u001b[0;36m<module>\u001b[0;34m\u001b[0m\n\u001b[1;32m      1\u001b[0m \u001b[0mp1540\u001b[0m \u001b[0;34m=\u001b[0m \u001b[0mget_ipython\u001b[0m\u001b[0;34m(\u001b[0m\u001b[0;34m)\u001b[0m\u001b[0;34m.\u001b[0m\u001b[0mrun_line_magic\u001b[0m\u001b[0;34m(\u001b[0m\u001b[0;34m'sql'\u001b[0m\u001b[0;34m,\u001b[0m \u001b[0;34m\"select id, name, pobs from nattributes where the_type='uc.entrada' and the_value like '1540%'\"\u001b[0m\u001b[0;34m)\u001b[0m\u001b[0;34m\u001b[0m\u001b[0;34m\u001b[0m\u001b[0m\n\u001b[1;32m      2\u001b[0m \u001b[0;32mfor\u001b[0m \u001b[0mid\u001b[0m\u001b[0;34m,\u001b[0m \u001b[0mname\u001b[0m\u001b[0;34m,\u001b[0m \u001b[0mpobs\u001b[0m \u001b[0;32min\u001b[0m \u001b[0mp1540\u001b[0m\u001b[0;34m:\u001b[0m\u001b[0;34m\u001b[0m\u001b[0;34m\u001b[0m\u001b[0m\n\u001b[0;32m----> 3\u001b[0;31m     \u001b[0mprint\u001b[0m\u001b[0;34m(\u001b[0m\u001b[0;34mf'{id:r} | {name} \\n {pobs}\\n\\n'\u001b[0m\u001b[0;34m)\u001b[0m\u001b[0;34m\u001b[0m\u001b[0;34m\u001b[0m\u001b[0m\n\u001b[0m",
      "\u001b[0;31mValueError\u001b[0m: Unknown format code 'r' for object of type 'str'"
     ]
    }
   ],
   "source": [
    "p1540 = %sql select id, name, pobs from nattributes where the_type='uc.entrada' and the_value like '1540%'\n",
    "for id, name, pobs in p1540:\n",
    "    print(f'{id:5} | {name} \\n {pobs}\\n\\n')"
   ]
  }
 ],
 "metadata": {
  "interpreter": {
   "hash": "934ef4408acba814b9756a32638c756f41faa2976a0690acf93c487e545c70af"
  },
  "kernelspec": {
   "display_name": "Python 3.9.0 64-bit ('3.9.0': pyenv)",
   "name": "python3"
  },
  "language_info": {
   "codemirror_mode": {
    "name": "ipython",
    "version": 3
   },
   "file_extension": ".py",
   "mimetype": "text/x-python",
   "name": "python",
   "nbconvert_exporter": "python",
   "pygments_lexer": "ipython3",
   "version": "3.9.0"
  },
  "metadata": {
   "interpreter": {
    "hash": "7eb78c199a872a9864157d40ba1a3a21c75b2dca99a04068f89256c905325ae7"
   }
  },
  "orig_nbformat": 2
 },
 "nbformat": 4,
 "nbformat_minor": 2
}
