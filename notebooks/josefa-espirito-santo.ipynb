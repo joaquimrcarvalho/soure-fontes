{
 "cells": [
  {
   "cell_type": "markdown",
   "source": [],
   "metadata": {}
  },
  {
   "cell_type": "markdown",
   "source": [
    "## O caso de Josefa do Espírito Santo e José Rodrigues"
   ],
   "metadata": {}
  },
  {
   "cell_type": "markdown",
   "source": [
    "### Impedimento com que [Josefa do Espírito Santo](https://timelink.uc.pt/mhk/soure/id/rp-448) do lugar de Casa Nova freguesia de Soure saiu sobre promessas de casamento que diz haver ter feito [José Rodrigues](https://timelink.uc.pt/mhk/soure/id/rp-536) que se apregoou para casar com Maria Francisca deste mesmo lugar"
   ],
   "metadata": {}
  },
  {
   "cell_type": "markdown",
   "source": [
    "## 15 de Outubro de 1716"
   ],
   "metadata": {}
  },
  {
   "cell_type": "markdown",
   "source": [
    " 15 de outubro de 1716\n",
    "Manuel Rodrigues vigário de Soure certifica que publicou os banhos em três dias festivos contínuos a estação da missa de terça estando muita parte do povo junto e que não saiu alguma pessoa com impedimento canónico senão [Josefa do Espírito Santo](https://timelink.uc.pt/mhk/soure/id/rp-448) solteira, dizendo que o contraente [José Rodrigues](https://timelink.uc.pt/mhk/soure/id/rp-536) na ocasião do S. Mateus passado `21 de setembro de 1715` lhe fizera já um ano se _contratou_ de casar com ela... procurando-a para esse efeito em sua casa e jurando-lhe que era sinceramente e não zombava, ajustando com ela que pelo Natal seguinte `[1715]` se havião de pôr os banhos na Igreja e se haviam de receber e que tinha chegado o dito tempo e se desculpou ele com lhe faltar um capote para se compor, e que lhe pusera em delação o dito casamento com o entrudo  seguinte  daí até ao S. Miguel `29 de setembro de 1716` próximo, passado `a Páscoa de 1716 foi a 1 de abril, por isso o “entrudo” a 14 de fevereiro de 1716; na quaresma evitam-se os casamentos, porque é tempo de luto` e que com tudo ou na maneira `rasgado` dito tempo continuava o dito contraente por virtude `rasgado` e promessas de futuro matrimónio, que fizeram um ao outro, ir a casa dela impediente, com o que disse não tão somente `rasgado` tirara a sua boa fama para com toda a vizinhança do dito lugar, mas que também a desonestara assim por obra, conhecendo-a muitas vezes por cópulas carnais para o que ela disse consentira levada da boa fé do contraente se lhe ir meter em sua casa com inoportunos rogos e repetidas promessas de matrimónio que continuamente lhe fazia dizendo-lhe que com casar com ela lhe pagava tudo, e que a nenhuma outra tinha feito promessas algumas de matrimónio e só com ela havia de casar e por lhe parecer que ele falava verdade, e ela impediente não saber o contrário do que ele dizia, que por ele ver que ela impediente a obriga-lo pela igreja em fraude `[?]`, e o `[?]` dela se encontrou de novo com a contraente sendo prº `[?]` sabido da contraente e que portanto lhe punha este justo impedimento no modo referido, que por ser mulher e não saber escrever me pediu assinar por ela `[assinado pelo vigário]`\n",
    "\n",
    "\n",
    "\n",
    "\n",
    "\n"
   ],
   "metadata": {}
  },
  {
   "cell_type": "markdown",
   "source": [
    "### Provimento para impedimento vai ser deste juízo em ... `ilegível`... de seis dias alegar e propor o d `[direito?]` que tem contra o impedido com consignação `[ass. Nunes]`"
   ],
   "metadata": {}
  },
  {
   "cell_type": "markdown",
   "source": [
    "#### Interrogatório de Josefa do espírito santo `(posterior a 27 de outubro de 1716)`\n",
    "Ela diz que tem 28 anos  `na verdade tem 30`, `foi batizada em` [3 de maio de 1686](https://timelink.uc.pt/mhk/soure/id/b1686.25)`\n"
   ],
   "metadata": {}
  },
  {
   "cell_type": "markdown",
   "source": [
    "Diz que pelo S.Mateus de há um ano fora o [José Rodrigues](https://timelink.uc.pt/mhk/soure/id/rp-536) a casa dela e lhe prometeu com ele casar “sob o que teve dela tudo o que quis” “e no natal seguinte indo a casa dela lhe perguntou se para se receberem lhe faltava alguma coisa e dizendo-lhe não dissera que a elle lhe faltava um capote, o que para ele havia de pedir o dinheiro ao clérigo Saramago (seria de Soure? Ver possível identificação)ao que ela respondera que erão pobres para que querião logo empenhar-se de entrada e depois pela  oitava da Páscoa `[primeira semana a seguir a domingo de Páscoa.fins de abril]` dizendo-lhe ela que tratassem de se receber elle respondeu que ficassem para o S. Miguel porque em [maio?] estava o pão caro .... `[muito danificado]` ele a tinha desflorado. `[... o resto ilegível]`"
   ],
   "metadata": {}
  },
  {
   "cell_type": "markdown",
   "source": [
    "## Testemunhas nomeadas por Josefa"
   ],
   "metadata": {}
  },
  {
   "cell_type": "markdown",
   "source": [
    "### [Mariana Francisco](https://timelink.uc.pt/mhk/soure/id/rp-487), mulher de [Manuel Gaspar](https://timelink.uc.pt/mhk/soure/id/rp-486), trabalhador da Casa Velha, 27 anos, parente da Josefa em 3º grau.\n",
    "\n",
    "> Mariana Francisco foi batizada a [29 de agosto de 1686](https://timelink.uc.pt/mhk/soure/id/b1686.50) como filha ilegítima de [Paulo Marques](https://timelink.uc.pt/mhk/soure/id/rp-488) e [Francisca Rosado](https://timelink.uc.pt/mhk/soure/id/rp-489)\n",
    "\n"
   ],
   "metadata": {}
  },
  {
   "cell_type": "markdown",
   "source": [
    "“A impediente lhe confessara a ela testemunha que o impedido lhe fizera promessas de casamento ao que ela testemunha dera crédito por ver que ambos eram iguais no sangue como nos bens” \n",
    "\n",
    "“A algumas pessoas ouvira dizer que o impedido confessara haver levado a impediente de sua honra” \n",
    "\n",
    "“Sabia pelo ver que o impedido saíra algumas vezes de noite da casa da impediente”"
   ],
   "metadata": {}
  },
  {
   "cell_type": "markdown",
   "source": [],
   "metadata": {}
  },
  {
   "cell_type": "markdown",
   "source": [
    "### [Isabel Rodrigues](https://timelink.uc.pt/mhk/soure/id/rp-517), solteira, filha do falecido [Manuel Jorge](https://timelink.uc.pt/mhk/soure/id/rp-514), Lavrador, da Casa Velha, 35 anos, prima do impedido.\n",
    "\n",
    "> Esta testemunha, solteira nesta altura (outono de 1716), tinha tido em 1709 uma criança chamada Jacinta, com [Sebastiao Francisco](https://timelink.uc.pt/mhk/soure/id/rp-502). \n",
    ">\n",
    "> A criança foi batisada como ilegítima e a mãe como solteira, sem nomear o nome do pai da mãe (Manuel Jorge), no [batismo de 6-9-1709](https://timelink.uc.pt/mhk/soure/id/b1709.73)\n",
    ">\n",
    "> No batismo aparece com o nome de Isabel Jorge, o que se explica por ser o apelido do pai. Teria na altura cerca de 27 anos (calculados a partir da idade de 35 anos aqui declarada). O facto do pai ser \"Lavrador\" coloca-a numa faixa social mais elevada.\n",
    ">\n",
    "> [Sebastiao Francisco](https://timelink.uc.pt/mhk/soure/id/rp-502) era viúvo quando teve a filha com Isabel Rodrigues. \n",
    ">\n",
    "Tinha casado com (Francisca Gomes)[https://timelink.uc.pt/mhk/soure/id/rp-503] em [25 de maio de 1697](https://timelink.uc.pt/mhk/soure/id/c1697-73). \n",
    ">\n",
    "> Tinha duas filhas desse primeiro casamento.\n",
    ">\n",
    "> casará com ele no ano seguinte a este depoimente, em 1717.\n",
    "\n"
   ],
   "metadata": {}
  },
  {
   "cell_type": "markdown",
   "source": [
    "“Não assistira a promessas algumas de casamento” \n",
    "\n",
    "“Sabia que ele se comprometera para haverem de casar ambos e por debaixo das mesmas promessas tivera com ela cópula carnal” \n",
    "\n",
    "\n",
    "“ia de noite a casa da impediente”\n",
    "“por ser sua prima lhe perguntara se tinha tido com ela algum tracto ilícito, ao que ele respondera que sim instudo[?] ela testemunha que isso não podia ser sem precederem promessas de casamento também e então lhe confessara as tais promessas, mas que a não haverá de receber por quanto tendo cópula com ela a não achara honrada ao que ela testemunha não dera crédito por ser a dita impediente até então mulher honrada e bem procedida”\n"
   ],
   "metadata": {}
  },
  {
   "cell_type": "markdown",
   "source": [
    "### [Josefa](https://timelink.uc.pt/mhk/soure/id/rp-490), solteira, filha de [José Leão](https://timelink.uc.pt/mhk/soure/id/rp-492), Casa Velha, 26 anos, prima do impedido "
   ],
   "metadata": {}
  },
  {
   "cell_type": "markdown",
   "source": [
    "“Não sabia mais do que ter visto algumas vezes o impedido ir a casa da impediente” \n",
    "\n",
    "“Perguntando-lhe curiosamente, por ser sua prima, o que ia fazer a tal casa, e se tinha algum trato com a dita impediente, ele confessara ter tido com que ela cópula carnal mas que não lhe dissera haver-lhe feito promessas algumas de casamento, porém ela testemunha entendera que o impedido mentira na segunda parte do que ocultara, pois tinha para si que se eles tiveram cópula carnal um com o outro a impediente se lhe não haverá de entregar senão debaixo de promessas de casamento”"
   ],
   "metadata": {}
  },
  {
   "cell_type": "markdown",
   "source": [
    "### A impediente pagou 311 réis.\n",
    "\n",
    "> O interrogatório das testemunhas não tem mais. O que segue é um registo de impedimento de Maria Francisca contra José Rodrigues, que deve ter ocorrido em finais de Novembro ou início de Dezembro do mesmo ano. \n",
    ">\n",
    "> Daqui se conclui que José Rodrigues mudou de ideias, e decidiu casar com Josefa, na sequência do impedimento e talvez uma intervenção do pároco. Aos párocos recomendava-se que resolvessem estes casos por persuassão, tentando preservar sempre o caracter consensual do casamento."
   ],
   "metadata": {}
  },
  {
   "cell_type": "markdown",
   "source": [],
   "metadata": {}
  }
 ],
 "metadata": {
  "orig_nbformat": 4,
  "language_info": {
   "name": "python",
   "version": "3.9.6"
  },
  "kernelspec": {
   "name": "python3",
   "display_name": "Python 3.9.6 64-bit ('3.9.6': pyenv)"
  },
  "interpreter": {
   "hash": "eccdb9e0d1076d97dd03d38e0c799e4ede37b46f5ca498b94e73a7a440e62036"
  }
 },
 "nbformat": 4,
 "nbformat_minor": 2
}