{
 "cells": [
  {
   "cell_type": "markdown",
   "source": [],
   "metadata": {}
  },
  {
   "cell_type": "markdown",
   "source": [
    "## O caso de Josefa do Espírito Santo e José Rodrigues"
   ],
   "metadata": {}
  },
  {
   "cell_type": "markdown",
   "source": [
    "### __Impedimento__ com que [Josefa do Espírito Santo](https://timelink.uc.pt/mhk/soure/id/rp-448) do lugar de Casa Nova freguesia de Soure saiu sobre promessas de casamento que diz haver ter feito [José Rodrigues](https://timelink.uc.pt/mhk/soure/id/rp-536) que se __apregoou__ para casar com Maria Francisca deste mesmo lugar\n",
    "\n",
    "> __impedimento__:  queixa com o objetivo de impedir, ou evitar, a realização de um casamento\n",
    "\n",
    ">  __apregoar__: o mesmo que __anunciar__\n",
    "\n",
    "Os papéis do processo de casamento estão no Arquivo da Universidade de Coimbra, que recebeu os documentos da antiga diocese de Coimbra, incluindo a documentação do tribunal do bispo, onde se tratavam assuntos de família e moralidade, entre outros. Os papéis estão muito danificados e por isso nem sempre é possível ler integralmente o conteúdo original."
   ],
   "metadata": {}
  },
  {
   "cell_type": "markdown",
   "source": [
    "### O \"impedimento\""
   ],
   "metadata": {}
  },
  {
   "cell_type": "markdown",
   "source": [
    "#### Transcrição parcial do relatório do Padre da freguesia\n",
    "\n",
    "> Manuel Rodrigues, __vigário__ de Soure, publicou os __banhos__ do casamento de José Rodrigues com Maria Francisco, em três dias __festivos__ contínuos à __estação da missa__, estando muita parte do povo junto e que não __saiu__ pessoa alguma com impedimento __canónico__ senão [Josefa do Espírito Santo](https://timelink.uc.pt/mhk/soure/id/rp-448) solteira,...\n",
    "\n",
    "*  __vigário__: padre responsável pela freguesia (paróquia); é quem celebra a missa e preside aos principais rituais católicos do casamento, batizados, óbitos.\n",
    "*  __banhos__: anúncio público da intenção de duas pessoas se casarem, para permitir que quem tenha razões em contrário se manifeste.\n",
    "* __dias festivos__: o mesmo que dias _feriados_.\n",
    "* __estação da missa__: parte da missa em que se faziam anúncios públicos, ou se explicam aspectos da doutrina.\n",
    "* __saiu__: surgiu, apareceu.\n",
    "* __canónico__: relativo ao Direito Canónico, que era o direito da Igreja, aplicável aos seus membros mas também à população em geral em determinados aspectos, nomeadamente no que dizia respeito a questões de casamento e outros aspectos da vida familiar, doações de bens para salvação da alma, e muitos outros aspectos.\n",
    "\n",
    "\n",
    " > dizendo que o __contraente__ [José Rodrigues](https://timelink.uc.pt/mhk/soure/id/rp-536) na ocasião do __S. Mateus passado__,  fizera já um ano se __contratou de casar__ com ela... procurando-a para esse efeito em sua casa e jurando-lhe que era sinceramente e não __zombava__, ajustando com ela que pelo Natal seguinte se haviam de pôr os banhos na Igreja e se haviam de __receber__ \n",
    " \n",
    "* __contraente__: o que vai contrair matrimónio\n",
    "* __S. Mateus__: 21 de setembro de 1715\n",
    "* __contratar de casar__: aqui tem o significado de \"comprometeu-se a casar\" \n",
    "* __zombar__: mentir, fazer troça,  \n",
    "* __receber__: aqui significa _casar_, usava-se em expressões como _receberem-se perante a Igreja_; também se usa _recebimento_ no sentido de _casamento_.\n",
    " \n",
    " > e que tinha chegado o dito tempo e se desculpou ele com lhe faltar um __capote__ para se compor, e que lhe pusera em delação o dito casamento com o __entrudo__ seguinte,  daí até ao __S. Miguel  próximo passado__  \n",
    " \n",
    " * __capote__: casaco grande.\n",
    " * __por em delação__: adiar.\n",
    " * __entrudo__:  ou Carnaval, é a festa que antecede o período da Quaresma; a Quaresma é o período de 40 dias que antece a Páscoa; a Páscoa de 1716 foi a 1 de abril, por isso o “entrudo” a 14 de fevereiro de 1716; na quaresma evitam-se os casamentos, porque é tempo de luto religioso e jejum.\n",
    " * __S. Miguel__, 29 de setembro de 1716; _próximo passado_ significa o \"último S.Miguel\". \n",
    "  \n",
    " \n",
    " > e que com tudo ou na maneira _[ilegível]_ dito tempo continuava o dito contraente por virtude _[ilegível]_ e promessas de futuro matrimónio, que fizeram um ao outro, ir a casa dela impediente, com o que disse não tão somente _[ilegível]_ tirara a sua boa fama para com toda a vizinhança do dito lugar, mas que também a desonestara assim por obra, conhecendo-a muitas vezes por cópulas carnais para o que ela disse consentira levada da boa fé do contraente se lhe ir meter em sua casa com inoportunos rogos e repetidas promessas de matrimónio que continuamente lhe fazia, dizendo-lhe que com casar com ela lhe pagava tudo, e que a nenhuma outra tinha feito promessas algumas de matrimónio e só com ela havia de casar e por lhe parecer que ele falava verdade, e ela impediente não saber o contrário do que ele dizia, _[frase ilegível]_ e que portanto lhe punha este justo impedimento no modo referido, que por ser mulher e não saber escrever me pediu assinar por ela _[assinado pelo vigário]_\n",
    "\n",
    "\n",
    "\n",
    "\n",
    "\n"
   ],
   "metadata": {}
  },
  {
   "cell_type": "markdown",
   "source": [
    "Na sequência desta queixa o tribunal do Bispo informa em 27 de outubro que Josefa tem 6 dias para provar o seu direito.\n",
    "\n",
    "O Padre vai interrogar Josefa e as testemunhas que ela indicou."
   ],
   "metadata": {}
  },
  {
   "cell_type": "markdown",
   "source": [
    "#### Interrogatório de Josefa do Espírito Santo _(posterior a 27 de outubro de 1716)_\n",
    "\n",
    "Ao identificar-se, diz que tem 28 anos. \n",
    "\n",
    "* na verdade tem 30, foi batizada em [3 de maio de 168](https://timelink.uc.pt/mhk/soure/id/b1686.25)\n"
   ],
   "metadata": {}
  },
  {
   "cell_type": "markdown",
   "source": [
    "> Diz que pelo S.Mateus de há um ano fora [José Rodrigues](https://timelink.uc.pt/mhk/soure/id/rp-536) a casa dela e lhe prometeu com ela casar \n",
    ">\n",
    ">\n",
    ">“sob o que teve dela tudo o que quis” \n",
    ">\n",
    ">\n",
    ">“e no natal seguinte indo a casa dela lhe perguntou se para se receberem lhe faltava alguma coisa e dizendo-lhe não, dissera que a elle lhe faltava um capote, o que para ele havia de pedir o dinheiro ao clérigo Saramago\"\n",
    ">\n",
    ">\n",
    "> \"ao que ela respondera que erão pobres para que queriam logo empenhar-se de entrada e depois pela _oitava da Páscoa_, dizendo-lhe ela que tratassem de se receber, elle respondeu que ficassem para o S. Miguel porque em Maio[?] estava o pão caro ....\" \n",
    "\n",
    "*  __oitava da Páscoa__: primeira semana a seguir a domingo de Páscoa, fins de abril "
   ],
   "metadata": {}
  },
  {
   "cell_type": "markdown",
   "source": [
    "### Despoimento das testemunhas nomeadas por Josefa"
   ],
   "metadata": {}
  },
  {
   "cell_type": "markdown",
   "source": [
    "[Mariana Francisco](https://timelink.uc.pt/mhk/soure/id/rp-487), mulher de [Manuel Gaspar](https://timelink.uc.pt/mhk/soure/id/rp-486), trabalhador da Casa Velha, 27 anos, parente da Josefa em 3º grau.\n",
    "\n",
    "Mariana Francisco foi batizada a [29 de agosto de 1686](https://timelink.uc.pt/mhk/soure/id/b1686.50) como filha ilegítima de [Paulo Marques](https://timelink.uc.pt/mhk/soure/id/rp-488) e [Francisca Rosado](https://timelink.uc.pt/mhk/soure/id/rp-489)\n",
    "\n"
   ],
   "metadata": {}
  },
  {
   "cell_type": "markdown",
   "source": [
    "“A impediente lhe confessara a ela testemunha que o impedido lhe fizera promessas de casamento ao que ela testemunha dera crédito por ver que ambos eram iguais no sangue como nos bens” \n",
    "\n",
    "“A algumas pessoas ouvira dizer que o impedido confessara haver levado a impediente de sua honra” \n",
    "\n",
    "“Sabia pelo ver que o impedido saíra algumas vezes de noite da casa da impediente”"
   ],
   "metadata": {}
  },
  {
   "cell_type": "markdown",
   "source": [],
   "metadata": {}
  },
  {
   "cell_type": "markdown",
   "source": [
    "### [Isabel Rodrigues](https://timelink.uc.pt/mhk/soure/id/rp-517), solteira, filha do falecido [Manuel Jorge](https://timelink.uc.pt/mhk/soure/id/rp-514), Lavrador, da Casa Velha, 35 anos, prima do impedido.\n",
    "\n",
    "> Esta testemunha, solteira nesta altura (outono de 1716), tinha tido em 1709 uma criança chamada Jacinta, com [Sebastiao Francisco](https://timelink.uc.pt/mhk/soure/id/rp-502). \n",
    ">\n",
    "> A criança foi batisada como ilegítima e a mãe como solteira, sem nomear o nome do pai da mãe (Manuel Jorge), no [batismo de 6-9-1709](https://timelink.uc.pt/mhk/soure/id/b1709.73)\n",
    ">\n",
    "> No batismo aparece com o nome de Isabel Jorge, o que se explica por ser o apelido do pai. Teria na altura cerca de 27 anos (calculados a partir da idade de 35 anos aqui declarada). O facto do pai ser \"Lavrador\" coloca-a numa faixa social mais elevada.\n",
    ">\n",
    "> [Sebastiao Francisco](https://timelink.uc.pt/mhk/soure/id/rp-502) era viúvo quando teve a filha com Isabel Rodrigues. \n",
    ">\n",
    "Tinha casado com (Francisca Gomes)[https://timelink.uc.pt/mhk/soure/id/rp-503] em [25 de maio de 1697](https://timelink.uc.pt/mhk/soure/id/c1697-73). \n",
    ">\n",
    "> Tinha duas filhas desse primeiro casamento.\n",
    ">\n",
    "> casará com ele no ano seguinte a este depoimente, em 1717.\n",
    "\n"
   ],
   "metadata": {}
  },
  {
   "cell_type": "markdown",
   "source": [
    "“Não assistira a promessas algumas de casamento” \n",
    "\n",
    "“Sabia que ele se comprometera para haverem de casar ambos e por debaixo das mesmas promessas tivera com ela cópula carnal” \n",
    "\n",
    "\n",
    "“ia de noite a casa da impediente”\n",
    "“por ser sua prima lhe perguntara se tinha tido com ela algum tracto ilícito, ao que ele respondera que sim instudo[?] ela testemunha que isso não podia ser sem precederem promessas de casamento também e então lhe confessara as tais promessas, mas que a não haverá de receber por quanto tendo cópula com ela a não achara honrada ao que ela testemunha não dera crédito por ser a dita impediente até então mulher honrada e bem procedida”\n"
   ],
   "metadata": {}
  },
  {
   "cell_type": "markdown",
   "source": [
    "### [Josefa](https://timelink.uc.pt/mhk/soure/id/rp-490), solteira, filha de [José Leão](https://timelink.uc.pt/mhk/soure/id/rp-492), Casa Velha, 26 anos, prima do impedido "
   ],
   "metadata": {}
  },
  {
   "cell_type": "markdown",
   "source": [
    "“Não sabia mais do que ter visto algumas vezes o impedido ir a casa da impediente” \n",
    "\n",
    "“Perguntando-lhe curiosamente, por ser sua prima, o que ia fazer a tal casa, e se tinha algum trato com a dita impediente, ele confessara ter tido com que ela cópula carnal mas que não lhe dissera haver-lhe feito promessas algumas de casamento, porém ela testemunha entendera que o impedido mentira na segunda parte do que ocultara, pois tinha para si que se eles tiveram cópula carnal um com o outro a impediente se lhe não haverá de entregar senão debaixo de promessas de casamento”"
   ],
   "metadata": {}
  },
  {
   "cell_type": "markdown",
   "source": [
    "### A impediente pagou 311 réis.\n",
    "\n",
    "> O interrogatório das testemunhas não tem mais. O que segue é um registo de impedimento de Maria Francisca contra José Rodrigues, que deve ter ocorrido em finais de Novembro ou início de Dezembro do mesmo ano. \n",
    ">\n",
    "> Daqui se conclui que José Rodrigues mudou de ideias, e decidiu casar com Josefa, na sequência do impedimento e talvez uma intervenção do pároco. Aos párocos recomendava-se que resolvessem estes casos por persuassão, tentando preservar sempre o caracter consensual do casamento."
   ],
   "metadata": {}
  },
  {
   "cell_type": "markdown",
   "source": [],
   "metadata": {}
  }
 ],
 "metadata": {
  "orig_nbformat": 4,
  "language_info": {
   "name": "python",
   "version": "3.9.6"
  },
  "kernelspec": {
   "name": "python3",
   "display_name": "Python 3.9.6 64-bit ('3.9.6': pyenv)"
  },
  "interpreter": {
   "hash": "eccdb9e0d1076d97dd03d38e0c799e4ede37b46f5ca498b94e73a7a440e62036"
  }
 },
 "nbformat": 4,
 "nbformat_minor": 2
}